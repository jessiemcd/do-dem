{
 "cells": [
  {
   "cell_type": "markdown",
   "id": "7d7a846f-33bf-47ba-a5d3-617d33a0cc23",
   "metadata": {},
   "source": [
    "Example of the process of doing DEMs for all orbits for a given observation of an AR – where we don't window out any intervals because of shifts, etc. Instead, we will save energy-specific information about the percent of NuSTAR emission in the chosen region as a function of time, for later inspection. This will help identify cases where pointing shifts might cause unphysical distortion to the DEM inputs. \n",
    "\n",
    "Note: auto-download of an AIA file (for use in the initial co-alignmnet) will break while the JSOC is still down. We will add a thing where you can point to an existing AIA file instead.\n",
    "\n",
    "Overview:\n",
    "\n",
    "- Define orbits\n",
    "- Run time interval selection\n",
    "- Examine resulting intervals\n",
    "- Manually establish a co-alignment shift between NuSTAR and AIA\n",
    "- Automatically find co-alignment shifts + make regions for all other time intervals (note: this relies on the assumption that the COM is a good representation of the location of the brightest source, i.e. that the NuSTAR data is primarially one blob).\n",
    "- Save AIA region files for NCCS input\n",
    "- NOT IN THIS NOTEBOOK: YOU THEN TAKE THOSE AND MAKE AIA INPUTS ON THE NCCS\n",
    "- Conduct AIA/NuSTAR DEMs as a function of time, given all the above\n",
    "- Plot results.\n",
    "- Print some stats about \"left out\" times."
   ]
  },
  {
   "cell_type": "code",
   "execution_count": null,
   "id": "9cb34388-bbab-4eba-bb6d-4acab7759d06",
   "metadata": {},
   "outputs": [],
   "source": [
    "# import matplotlib.pyplot as plt\n",
    "# import numpy as np\n",
    "# import glob\n",
    "# from astropy.io import fits\n",
    "# from astropy import units as u\n",
    "# import importlib\n",
    "# import pathlib\n",
    "\n",
    "#Path to top-level do-dem directory - edit for your system.\n",
    "path_to_dodem = '/Users/jmdunca2/do-dem/'\n",
    "from sys import path as sys_path\n",
    "sys_path.append(path_to_dodem+'/dodem/')\n",
    "\n",
    "# #import nustar_dem_prep as nu\n",
    "import initial_analysis as ia\n",
    "import orbit_auto as oa\n",
    "import time_interval_selection as tis\n",
    "import nustar_utilities as nuutil\n",
    "import gauss2D as g2d\n",
    "\n",
    "\n",
    "# import os\n",
    "# # For macOS\n",
    "# def play_sound():\n",
    "#     os.system(\"afplay /System/Library/Sounds/Glass.aiff\")\n",
    "\n",
    "import pickle\n",
    "import pathlib\n",
    "import importlib\n"
   ]
  },
  {
   "cell_type": "code",
   "execution_count": null,
   "id": "2c6e44d5-2057-4a21-8348-3cd8965df84b",
   "metadata": {},
   "outputs": [],
   "source": [
    "key = '06-jun-20'\n"
   ]
  },
  {
   "cell_type": "code",
   "execution_count": null,
   "id": "29e4024f-1d47-4d8f-ba83-9e873f03cea2",
   "metadata": {},
   "outputs": [],
   "source": [
    "with open('all_targets.pickle', 'rb') as f:\n",
    "    data = pickle.load(f)\n",
    "\n",
    "ARDict = data[key]\n",
    "\n",
    "id_dirs = ARDict['datapaths']\n",
    "obsids = ARDict['obsids']\n",
    "working_dir = ARDict['working_dir']\n"
   ]
  },
  {
   "cell_type": "code",
   "execution_count": null,
   "id": "db289b0d-66f7-4838-95d5-a33d8ae11396",
   "metadata": {},
   "outputs": [],
   "source": [
    "ARDict"
   ]
  },
  {
   "cell_type": "code",
   "execution_count": null,
   "id": "d41af870-a9f7-4d94-9c59-e90b7dd0910b",
   "metadata": {},
   "outputs": [],
   "source": [
    "for id in id_dirs:\n",
    "    evt_data, hdr = ia.return_submap(datapath=id, fpm='A', return_evt_hdr=True)\n",
    "    time0, time1 = [nuutil.convert_nustar_time(hdr['TSTART']), nuutil.convert_nustar_time(hdr['TSTOP'])]\n",
    "    timerange = [time0, time1]\n",
    "    print(timerange[0].strftime('%H-%M-%S'), timerange[1].strftime('%H-%M-%S'))"
   ]
  },
  {
   "cell_type": "markdown",
   "id": "a246da25-8a6c-43ab-8f8e-0ea8482890f4",
   "metadata": {},
   "source": [
    "After TIS:"
   ]
  },
  {
   "cell_type": "code",
   "execution_count": null,
   "id": "a46e4262-4a08-4e76-81d1-d2cda08e8b95",
   "metadata": {
    "scrolled": true
   },
   "outputs": [],
   "source": [
    "importlib.reload(oa)\n",
    "\n",
    "all_time_intervals, all_time_intervals_list = oa.find_all_intervals(working_dir)\n",
    "\n",
    "#allpercentsA, allpercentsB = oa.check_region_emission(all_time_intervals, working_dir, grade='0_4', plot=True)\n",
    "allpercentsA, allpercentsB = oa.check_region_emission(all_time_intervals, working_dir, grade='0_4', plot=True, efilter=[2.5,3.5])\n",
    "allpercentsA, allpercentsB = oa.check_region_emission(all_time_intervals, working_dir, grade='0_4', plot=True, efilter=[3.5,6.])\n",
    "allpercentsA, allpercentsB = oa.check_region_emission(all_time_intervals, working_dir, grade='0_4', plot=True, efilter=[6.,10.])"
   ]
  },
  {
   "cell_type": "code",
   "execution_count": null,
   "id": "c477b6ba-1277-401f-8c5a-d94b644adcf7",
   "metadata": {},
   "outputs": [],
   "source": [
    "import glob\n",
    "\n",
    "#Set path to obsid directory - initial pipeline should have been run already.\n",
    "ind=0\n",
    "datapath=id_dirs[ind]\n",
    "obsid=obsids[ind]\n",
    "\n",
    "evt_data, hdr = ia.return_submap(datapath=datapath, fpm='A', return_evt_hdr=True)\n",
    "time0, time1 = [nuutil.convert_nustar_time(hdr['TSTART']), nuutil.convert_nustar_time(hdr['TSTOP'])]\n",
    "timerange = [time0.tt.datetime, time1.tt.datetime]\n",
    "from datetime import timezone\n",
    "timerange = [t.replace(tzinfo=timezone.utc) for t in timerange]\n",
    "\n",
    "#Comment second line if you're not using this same example nustar orbit\n",
    "#Edit it to include only the desired time interval (default- all times in file) once you've run this once\n",
    "#timerange=[]\n",
    "#timerange=[datetime.datetime(2018, 5, 29, 22, 22), datetime.datetime(2018, 5, 29, 23, 20)]\n",
    "\n",
    "evtA = glob.glob(datapath+'/event_cl/*A06_cl.evt')\n",
    "evtB = glob.glob(datapath+'/event_cl/*B06_cl.evt')\n",
    "hkA  = glob.glob(datapath+'/hk/*A_fpm.hk')\n",
    "hkB  = glob.glob(datapath+'/hk/*B_fpm.hk')\n",
    "\n",
    "import lightcurves as lc\n",
    "\n",
    "importlib.reload(lc)\n",
    "lc.prepare_nustar_lightcurves(evtA, evtB, hkA, hkB, timebin=15, erange=[2.,4.], \n",
    "                              livetime_corr=False, save_dir=working_dir)\n",
    "lc.prepare_nustar_lightcurves(evtA, evtB, hkA, hkB, timebin=15, erange=[4.,6.], \n",
    "                              livetime_corr=False, save_dir=working_dir)\n",
    "lc.prepare_nustar_lightcurves(evtA, evtB, hkA, hkB, timebin=15, erange=[6.,10.], \n",
    "                              livetime_corr=False, save_dir=working_dir)\n",
    "\n",
    "lc.plot_nustar_lightcurves(eranges = [[2.,4.],[4.,6.],[6.,10.]],\n",
    "                           timerange=timerange, save_dir=working_dir)"
   ]
  },
  {
   "cell_type": "code",
   "execution_count": null,
   "id": "0994b51a-58a1-4651-865b-e1b1aac1dbb3",
   "metadata": {},
   "outputs": [],
   "source": [
    "# importlib.reload(oa)\n",
    "# oa.check_conseq(working_dir)"
   ]
  },
  {
   "cell_type": "code",
   "execution_count": null,
   "id": "af3ed2de-0ae9-4ed0-839b-89c844b872c2",
   "metadata": {},
   "outputs": [],
   "source": [
    "aia_dir = '/Users/jmdunca2/sample_aia/sample_aia/'\n",
    "import sunpy.map\n",
    "import glob\n",
    "from aiapy.calibrate.util import get_correction_table, get_pointing_table\n",
    "from aiapy.calibrate import register, update_pointing, degradation, estimate_error\n",
    "\n",
    "aiamaps = []\n",
    "for id in id_dirs:\n",
    "    print(id)\n",
    "    evt_data, hdr = ia.return_submap(datapath=id, fpm='A', return_evt_hdr=True)\n",
    "    time0, time1 = [nuutil.convert_nustar_time(hdr['TSTART']), nuutil.convert_nustar_time(hdr['TSTOP'])]\n",
    "    start = str(time0)\n",
    "    files = glob.glob(aia_dir+'*94A_'+start[0:10]+'T'+start[11:13]+'*')\n",
    "    print(start)\n",
    "    print(files)\n",
    "    amap=sunpy.map.Map(files[0])\n",
    "    #ptab = get_pointing_table(amap.date - 12 * u.h, amap.date + 12 * u.h)\n",
    "    #m_temp = update_pointing(amap, pointing_table=ptab)\n",
    "    try:\n",
    "        m = register(amap)\n",
    "    except TypeError:\n",
    "        amap.meta.pop('crpix1')\n",
    "        amap.meta.pop('crpix2')\n",
    "        print('CRPIX issue on ', files)\n",
    "        m = register(amap)\n",
    "\n",
    "    aiamaps.append(m)"
   ]
  },
  {
   "cell_type": "code",
   "execution_count": null,
   "id": "457f15d7-cb04-4a6e-bd77-0c67edc26d22",
   "metadata": {
    "scrolled": true
   },
   "outputs": [],
   "source": [
    "importlib.reload(oa)\n",
    "import pickle\n",
    "\n",
    "orbit_ind=0\n",
    "\n",
    "time_interval = all_time_intervals[orbit_ind][0]\n",
    "nushift=[-10, 50]\n",
    "\n",
    "#(first run)\n",
    "dict = oa.nu_aia_coalign(time_interval, working_dir, nushift, save_dict=True, input_aia=aiamaps[orbit_ind])\n",
    "\n",
    "time=time_interval\n",
    "timestring = time[0].strftime('%H-%M-%S')\n",
    "stopstring = time[1].strftime('%H-%M-%S')\n",
    "timestring=timestring+'_'+stopstring\n",
    "file=working_dir+timestring+'/'+timestring+'_aia_region.pickle'\n",
    "try:\n",
    "    with open(file, 'rb') as f:\n",
    "        data = pickle.load(f)\n",
    "    dict = oa.nu_aia_coalign(time_interval, working_dir, nushift, save_dict=True, input_aia = data['map'])\n",
    "except FileNotFoundError: \n",
    "    print('what')\n"
   ]
  },
  {
   "cell_type": "code",
   "execution_count": null,
   "id": "cc12e2cf-2126-4a1d-a0f0-64ecba8d8a85",
   "metadata": {
    "scrolled": true
   },
   "outputs": [],
   "source": [
    "importlib.reload(oa)\n",
    "lead_intervals=[]\n",
    "for at in all_time_intervals:\n",
    "    lead_intervals.append(at[0])\n",
    "\n",
    "reference_interval=time_interval\n",
    "\n",
    "\n",
    "oa.coalign_based_on_prior(lead_intervals, working_dir, reference_interval, input_aias=aiamaps)"
   ]
  },
  {
   "cell_type": "code",
   "execution_count": null,
   "id": "8c2210bb-2571-436e-8d8d-c8d479f5df5b",
   "metadata": {},
   "outputs": [],
   "source": [
    "#IF YOU WANT TO REVISE THE STARTING SHIFT SOMEWHERE OTHER THAN JUST AT THE VERY FIRST ORBIT - NEXT 2 CELLS\n",
    "\n",
    "# importlib.reload(oa)\n",
    "# import pickle\n",
    "\n",
    "# orbit_ind=3\n",
    "\n",
    "# time_interval = all_time_intervals[orbit_ind][0]\n",
    "# nushift=[10, -50]\n",
    "\n",
    "# #(first run)\n",
    "# dict = oa.nu_aia_coalign(time_interval, working_dir, nushift, save_dict=True, input_aia=aiamaps[orbit_ind])\n",
    "\n",
    "# time=time_interval\n",
    "# timestring = time[0].strftime('%H-%M-%S')\n",
    "# stopstring = time[1].strftime('%H-%M-%S')\n",
    "# timestring=timestring+'_'+stopstring\n",
    "# file=working_dir+timestring+'/'+timestring+'_aia_region.pickle'\n",
    "# try:\n",
    "#     with open(file, 'rb') as f:\n",
    "#         data = pickle.load(f)\n",
    "#     dict = oa.nu_aia_coalign(time_interval, working_dir, nushift, save_dict=True, input_aia = data['map'])\n",
    "# except FileNotFoundError: \n",
    "#     print('what')\n"
   ]
  },
  {
   "cell_type": "code",
   "execution_count": null,
   "id": "2c8dcfd2-0e24-4dfb-9e45-fe664baeba94",
   "metadata": {},
   "outputs": [],
   "source": [
    "# importlib.reload(oa)\n",
    "# lead_intervals=[]\n",
    "# for at in all_time_intervals[3:]:\n",
    "#     lead_intervals.append(at[0])\n",
    "\n",
    "# reference_interval=time_interval\n",
    "\n",
    "# oa.coalign_based_on_prior(lead_intervals, working_dir, reference_interval, input_aias=aiamaps)"
   ]
  },
  {
   "cell_type": "code",
   "execution_count": null,
   "id": "7717850d-c3fe-47ce-8c8a-13beda14a75e",
   "metadata": {},
   "outputs": [],
   "source": [
    "importlib.reload(oa)\n",
    "suborbit_dirs = oa.make_all_aia_dicts(all_time_intervals, working_dir, key)\n",
    "print(set(suborbit_dirs))"
   ]
  },
  {
   "cell_type": "code",
   "execution_count": null,
   "id": "faae8f14-7a8a-4e31-9464-3afca4f0b501",
   "metadata": {},
   "outputs": [],
   "source": []
  }
 ],
 "metadata": {
  "kernelspec": {
   "display_name": "Python 3 (ipykernel)",
   "language": "python",
   "name": "python3"
  },
  "language_info": {
   "codemirror_mode": {
    "name": "ipython",
    "version": 3
   },
   "file_extension": ".py",
   "mimetype": "text/x-python",
   "name": "python",
   "nbconvert_exporter": "python",
   "pygments_lexer": "ipython3",
   "version": "3.10.13"
  }
 },
 "nbformat": 4,
 "nbformat_minor": 5
}
