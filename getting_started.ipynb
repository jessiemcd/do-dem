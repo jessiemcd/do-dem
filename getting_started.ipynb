{
 "cells": [
  {
   "cell_type": "markdown",
   "id": "7848554d",
   "metadata": {},
   "source": [
    "First, edit the paths in the following cell to point to the correct locations on your system. Also – for this example, we will be using the demreg DEM method. This is available at: https://github.com/ianan/demreg/tree/master\n",
    "You will need to edit the path to demreg in dodem.py (if you don't, an error will come up that will point to the line). \n",
    "\n",
    "If you don't want to deal with the aia error tables yet, you can always ignore that line and \n",
    "set real_aia_err=False in the dem call at the end of the notebook to use a flat uncertainty. "
   ]
  },
  {
   "cell_type": "code",
   "execution_count": null,
   "id": "dec12ae2",
   "metadata": {
    "ExecuteTime": {
     "end_time": "2023-11-27T18:39:51.748805Z",
     "start_time": "2023-11-27T18:39:47.189237Z"
    }
   },
   "outputs": [],
   "source": [
    "#AIA Error table - set path to location in your system.\n",
    "errortab='/Users/jessieduncan/ssw/sdo/aia/response/aia_V3_error_table.txt'\n",
    "\n",
    "#Sunpy data directory (or wherever else you store your downloaded AIA data)\n",
    "sunpy_dir='/Users/jessieduncan/sunpy/data/'\n",
    "\n",
    "#Path to top-level do-dem directory - edit for your system.\n",
    "path_to_dodem = '/Users/jessieduncan/do-dem/'\n",
    "from sys import path as sys_path\n",
    "sys_path.append(path_to_dodem+'/dodem/')\n",
    "\n",
    "#do-dem\n",
    "import lightcurves as lc\n",
    "import region_fitting as rf\n",
    "import nustar_dem_prep as nu\n",
    "import dodem\n",
    "\n",
    "#Basics\n",
    "import numpy as np\n",
    "import importlib\n",
    "import matplotlib.pyplot as plt\n",
    "from astropy import units as u\n",
    "\n",
    "#Time\n",
    "import matplotlib.dates as mdates\n",
    "import astropy.time\n",
    "import datetime\n",
    "\n",
    "#File wrangling\n",
    "import glob\n",
    "import pickle\n",
    "import os\n",
    "import pathlib\n",
    "os.getcwd()"
   ]
  },
  {
   "cell_type": "markdown",
   "id": "fc5040f8",
   "metadata": {},
   "source": [
    "First, let's take a look at the NuSTAR lightcurves."
   ]
  },
  {
   "cell_type": "code",
   "execution_count": null,
   "id": "e54600e1",
   "metadata": {
    "ExecuteTime": {
     "end_time": "2023-11-27T18:40:09.288496Z",
     "start_time": "2023-11-27T18:40:00.551606Z"
    }
   },
   "outputs": [],
   "source": [
    "#Name your working directory\n",
    "working_dir='./initial_dem/'\n",
    "\n",
    "#Make a new working directory for prepped data/etc if it doesn't yet exist\n",
    "save_path = pathlib.Path(working_dir)\n",
    "if not save_path.exists():\n",
    "    save_path.mkdir()\n",
    "\n",
    "#Set path to obsid directory - initial pipeline should have been run already.\n",
    "datapath='/Users/jessieduncan/nustar/may-2018/5_29pixpos/80410205001/'\n",
    "obsid='80410205001'\n",
    "\n",
    "#Comment second line if you're not using this same example nustar orbit\n",
    "#Edit it to include only the desired time interval (default- all times in file) once you've run this once\n",
    "timerange=[]\n",
    "timerange=[datetime.datetime(2018, 5, 29, 22, 22), datetime.datetime(2018, 5, 29, 23, 20)]\n",
    "\n",
    "evtA = glob.glob(datapath+'/event_cl/*A06_cl.evt')\n",
    "evtB = glob.glob(datapath+'/event_cl/*B06_cl.evt')\n",
    "hkA  = glob.glob(datapath+'/hk/*A_fpm.hk')\n",
    "hkB  = glob.glob(datapath+'/hk/*B_fpm.hk')\n",
    "\n",
    "importlib.reload(lc)\n",
    "lc.prepare_nustar_lightcurves(evtA, evtB, hkA, hkB, timebin=15, erange=[2.,4.], \n",
    "                              livetime_corr=True, save_dir=working_dir)\n",
    "lc.prepare_nustar_lightcurves(evtA, evtB, hkA, hkB, timebin=15, erange=[4.,6.], \n",
    "                              livetime_corr=True, save_dir=working_dir)\n",
    "lc.prepare_nustar_lightcurves(evtA, evtB, hkA, hkB, timebin=15, erange=[6.,10.], \n",
    "                              livetime_corr=True, save_dir=working_dir)\n",
    "\n",
    "lc.plot_nustar_lightcurves(eranges = [[2.,4.],[4.,6.],[6.,10.]],\n",
    "                           timerange=timerange, save_dir=working_dir)"
   ]
  },
  {
   "cell_type": "markdown",
   "id": "1eb192ed",
   "metadata": {},
   "source": [
    "Now, let's pick some initial time intervals for DEMs - how about every five minutes?\n",
    "\n",
    "Note: later, you may want to make NuSTAR-statistics informed DEM intervals. Functionality for this is in nustar_dem_prep.find_intervals()."
   ]
  },
  {
   "cell_type": "code",
   "execution_count": null,
   "id": "b362a5a3",
   "metadata": {
    "ExecuteTime": {
     "end_time": "2023-11-27T18:40:09.306288Z",
     "start_time": "2023-11-27T18:40:09.290866Z"
    }
   },
   "outputs": [],
   "source": [
    "# #DEFINE ONE OR MORE 'MACRO INTERVALS' AND THEN MAKE SHORTER DEM TIME INTERVALS\n",
    "macro_interval = [astropy.time.Time('2018-05-29T22:22:00', scale='utc', format='isot'),\n",
    "                    astropy.time.Time('2018-05-29T23:19:00', scale='utc', format='isot')]\n",
    "\n",
    "mins=5\n",
    "time_intervals=[]\n",
    "checktime = macro_interval[0]\n",
    "while checktime < macro_interval[1]:\n",
    "    time_intervals.append([checktime, checktime+mins*u.min])\n",
    "    checktime = checktime+mins*u.min\n",
    "    \n",
    "    \n",
    "count=0    \n",
    "for t in time_intervals:\n",
    "    print(count, t[0].strftime('%H-%M-%S'), t[1].strftime('%H-%M-%S'))\n",
    "    count+=1\n",
    "\n"
   ]
  },
  {
   "cell_type": "markdown",
   "id": "30925594",
   "metadata": {},
   "source": [
    "Now, for the first time interval, let's find a good NuSTAR DEM region. For starters, we'll use this for AIA (and XRT, if available) as well. Note that given the NuSTAR pointing uncertainty, it's probably not the best choice for an AIA/XRT region. However, we will use it for an initial run. \n",
    "\n",
    "Note – this is the first cell that uses aspects of the NuSTAR pipeline. If you have not done so already, you'll need to quit the session and go back and initialize heasoft before opening this notebook. (If you don't, this will fail with an empty nuscreen_output.txt file.) \n",
    "\n",
    "We will be running aspects of the pipeline as a subprocess. To do this, you will need to make changes to your .bashrc or .cshrc file, as described in: https://heasarc.gsfc.nasa.gov/lheasoft/scripting.html"
   ]
  },
  {
   "cell_type": "code",
   "execution_count": null,
   "id": "61421443",
   "metadata": {
    "ExecuteTime": {
     "end_time": "2023-11-27T18:42:40.278193Z",
     "start_time": "2023-11-27T18:40:09.309274Z"
    }
   },
   "outputs": [],
   "source": [
    "importlib.reload(nu)\n",
    "\n",
    "gtifile=datapath+'event_cl/nu'+obsid+'A06_gti.fits'\n",
    "regfile=path_to_dodem+'starter_region.reg'\n",
    "time_interval=time_intervals[0]\n",
    "\n",
    "nu.make_nustar_products(time_interval, 'A', gtifile, datapath, regfile, working_dir, edit_regfile=True,\n",
    "                         nofit=True, pile_up_corr=True, clobber=True, nuradius=150, path_to_dodem=path_to_dodem)"
   ]
  },
  {
   "cell_type": "markdown",
   "id": "14500d86",
   "metadata": {},
   "source": [
    "Now, we'll take the NuSTAR output region file and use it to make a dictionary that will be used to create a region object for AIA/XRT in the DEM data prep stage."
   ]
  },
  {
   "cell_type": "code",
   "execution_count": null,
   "id": "65c63896",
   "metadata": {
    "ExecuteTime": {
     "end_time": "2023-11-27T13:47:59.239741Z",
     "start_time": "2023-11-27T13:47:59.152051Z"
    }
   },
   "outputs": [],
   "source": [
    "timestring = time_interval[0].strftime('%H-%M-%S')\n",
    "stopstring = time_interval[1].strftime('%H-%M-%S')\n",
    "timestring=timestring+'_'+stopstring\n",
    "    \n",
    "regfile=working_dir+timestring+'/nu'+obsid+'A06_0_p_cl_sunpos_COM_region.reg'\n",
    "offset, rad = rf.read_regfile(regfile, time_interval[0], time_interval[1], 'hourangle')\n",
    "print(offset)\n",
    "print(rad)\n",
    "\n",
    "xx = offset[0].value\n",
    "yy = offset[1].value"
   ]
  },
  {
   "cell_type": "code",
   "execution_count": null,
   "id": "d51ca8b8",
   "metadata": {
    "ExecuteTime": {
     "end_time": "2023-11-27T13:47:59.250566Z",
     "start_time": "2023-11-27T13:47:59.244532Z"
    }
   },
   "outputs": [],
   "source": [
    "#Set broad box for plotting (using region object)\n",
    "bl=[(xx-200)*u.arcsec, (yy-200)*u.arcsec]\n",
    "tr=[(xx+200)*u.arcsec,(yy+200)*u.arcsec]\n",
    "print(tr[0]-bl[0], tr[1]-bl[1])\n",
    "\n",
    "#Make region dictionary \n",
    "region_input = {'center': (xx,  yy)*u.arcsec,\n",
    "                  'radius': rad}"
   ]
  },
  {
   "cell_type": "markdown",
   "id": "e1767db5",
   "metadata": {},
   "source": [
    "Now, let's set some other DEM input parameters (chosing which instruments to use, NuSTAR DEM energies, etc)."
   ]
  },
  {
   "cell_type": "code",
   "execution_count": null,
   "id": "b43b9f0b",
   "metadata": {
    "ExecuteTime": {
     "end_time": "2023-11-27T13:47:59.258888Z",
     "start_time": "2023-11-27T13:47:59.253356Z"
    }
   },
   "outputs": [],
   "source": [
    "#What instruments are you using?\n",
    "#---------------------------------\n",
    "aia=True\n",
    "#---------------------------------\n",
    "eis=False\n",
    "#---------------------------------\n",
    "xrt=False\n",
    "plot=False\n",
    "#Here is the exposure time limits dictionary for each XRT filter combination:\n",
    "exposure_dict={'Be_thin': [1*u.s, 10*u.s],\n",
    "                'Be_med': [],\n",
    "              'Al_poly': [0.1*u.s, 1*u.s]}\n",
    "#---------------------------------\n",
    "nustar=True\n",
    "#If nustar is being used, here are the chosen energy ranges:\n",
    "nuenergies=[[2.5,3.5],[3.5,6.], [6.,10.]]\n",
    "#---------------------------------\n",
    "\n",
    "#---------------------------------\n",
    "#---------------------------------\n",
    "#What temperature range would you like to use? (units: log(T))\n",
    "minT=5.6\n",
    "maxT=7.2\n",
    "\n",
    "#Would you prefer to plot temperatures in MK, or the default (logT)\n",
    "plotMK=False\n",
    "#---------------------------------\n",
    "#---------------------------------\n",
    "\n",
    "name='initial_dem'"
   ]
  },
  {
   "cell_type": "markdown",
   "id": "c6e0b80e",
   "metadata": {},
   "source": [
    "Note: sometimes, when running the DEM prep for the first time, there will be issues with the AIA data download via Fido.search and .fetch. This often seems to be resolvable by just repeating the same attempted download. To save time, aia_dem_prep.aia_for_DEM() can be used in isolation (see function for needed keywords) to avoid having to run all the other instrument prep as well by running it through the full dodem function. \n",
    "\n",
    "This can take several minutes if you are downloading+prepping AIA data for this interval for the first time."
   ]
  },
  {
   "cell_type": "code",
   "execution_count": null,
   "id": "18bb8e59",
   "metadata": {
    "ExecuteTime": {
     "end_time": "2023-11-27T13:54:32.445107Z",
     "start_time": "2023-11-27T13:47:59.261803Z"
    }
   },
   "outputs": [],
   "source": [
    "#NuSTAR and AIA DEM\n",
    "dodem.dodem(time_interval, bl, tr, xrt=xrt, aia=aia, nustar=nustar, name=name,\n",
    "                                    plotMK=plotMK, minT=minT, maxT=maxT,\n",
    "                                    plotresp=False, working_directory=working_dir,\n",
    "                                    default_err=0.2, path_to_dodem=path_to_dodem,\n",
    "            \n",
    "                                    #demreg related\n",
    "                                    rgt_fact=1.2, max_iter=30,\n",
    "                                    reg_tweak=1, gloci=1, mc_in=True, mc_rounds=100, \n",
    "                                    \n",
    "                                    #nustar related \n",
    "                                    combine_fpm=True,nuenergies=nuenergies, make_nustar=True, \n",
    "                                    datapath=datapath, gtifile=gtifile,\n",
    "                                    COM_nustar_region=True, nuclobber=False, edit_regfile=True,\n",
    "            \n",
    "                                    #aia related\n",
    "                                    aiamethod='Auto', real_aia_err=True,\n",
    "                                    input_aia_region=\"circle\", input_aia_region_dict=region_input,\n",
    "                                       sunpy_dir=sunpy_dir, errortab=errortab)\n"
   ]
  },
  {
   "cell_type": "markdown",
   "id": "3979612d",
   "metadata": {},
   "source": [
    "Adding XRT: this requires a directory (xrt_path) containing level-1 XRT data and grade map files for times/pointings consistent with the NuSTAR data."
   ]
  },
  {
   "cell_type": "code",
   "execution_count": null,
   "id": "e461d425",
   "metadata": {
    "ExecuteTime": {
     "end_time": "2023-11-27T13:58:07.473171Z",
     "start_time": "2023-11-27T13:55:45.725385Z"
    }
   },
   "outputs": [],
   "source": [
    "#This is where I'm putting my XRT level-1 data:\n",
    "xrt_path=working_dir+'/XRT_for_DEM/'\n",
    "xrt=True\n",
    "plot_xrt=False\n",
    "\n",
    "#For this specific example, the automatically generated NuSTAR radius extended outside of the XRT data region. \n",
    "#Shifting our AIA/XRT region over to avoid this. (Set plot_xrt=True to check on the location of the region with\n",
    "#respect to the XRT map; set it False to speed things up.)\n",
    "region_input = {'center': (xx-32,  yy)*u.arcsec,\n",
    "                  'radius': rad}\n",
    "\n",
    "#NuSTAR and AIA DEM\n",
    "dodem.dodem(time_interval, bl, tr, xrt=xrt, aia=aia, nustar=nustar, name=name,\n",
    "                                    plotMK=plotMK, plot_xrt=plot_xrt, minT=minT, maxT=maxT,\n",
    "                                    plotresp=False, working_directory=working_dir,\n",
    "                                    default_err=0.2, path_to_dodem=path_to_dodem,\n",
    "            \n",
    "                                    #demreg related\n",
    "                                    rgt_fact=1.2, max_iter=30,\n",
    "                                    reg_tweak=1, gloci=1, mc_in=True, mc_rounds=100, \n",
    "                                    \n",
    "                                    #nustar related \n",
    "                                    combine_fpm=True,nuenergies=nuenergies, make_nustar=True, \n",
    "                                    datapath=datapath, gtifile=gtifile,\n",
    "                                    COM_nustar_region=True, nuclobber=False, edit_regfile=True,\n",
    "            \n",
    "                                    #aia related\n",
    "                                    aiamethod='Auto', real_aia_err=True,\n",
    "                                    input_aia_region=\"circle\", input_aia_region_dict=region_input,\n",
    "                                       sunpy_dir=sunpy_dir, errortab=errortab,\n",
    "           \n",
    "           \n",
    "                                   #xrt related\n",
    "                                   xrtmethod='Average', real_xrt_err=True, xrt_path=xrt_path,\n",
    "                                    xrt_exposure_dict=exposure_dict,\n",
    "                                    input_xrt_region=\"circle\", input_xrt_region_dict=region_input)\n",
    "\n"
   ]
  },
  {
   "cell_type": "code",
   "execution_count": null,
   "id": "de524982",
   "metadata": {},
   "outputs": [],
   "source": []
  }
 ],
 "metadata": {
  "kernelspec": {
   "display_name": "Python 3 (ipykernel)",
   "language": "python",
   "name": "python3"
  },
  "language_info": {
   "codemirror_mode": {
    "name": "ipython",
    "version": 3
   },
   "file_extension": ".py",
   "mimetype": "text/x-python",
   "name": "python",
   "nbconvert_exporter": "python",
   "pygments_lexer": "ipython3",
   "version": "3.10.8"
  }
 },
 "nbformat": 4,
 "nbformat_minor": 5
}
