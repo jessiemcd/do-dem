{
 "cells": [
  {
   "cell_type": "code",
   "execution_count": 1,
   "id": "6df02fe2",
   "metadata": {
    "ExecuteTime": {
     "end_time": "2023-11-21T14:32:46.499075Z",
     "start_time": "2023-11-21T14:32:45.380980Z"
    }
   },
   "outputs": [
    {
     "data": {
      "text/plain": [
       "'/Users/jessieduncan/do-dem'"
      ]
     },
     "execution_count": 1,
     "metadata": {},
     "output_type": "execute_result"
    }
   ],
   "source": [
    "#Basics\n",
    "import numpy as np\n",
    "import importlib\n",
    "import matplotlib.pyplot as plt\n",
    "from astropy import units as u\n",
    "\n",
    "#Time\n",
    "import matplotlib.dates as mdates\n",
    "import astropy.time\n",
    "import datetime\n",
    "\n",
    "#File wrangling\n",
    "import glob\n",
    "import pickle\n",
    "import os\n",
    "os.getcwd()"
   ]
  },
  {
   "cell_type": "code",
   "execution_count": 3,
   "id": "2aa91d7e",
   "metadata": {
    "ExecuteTime": {
     "end_time": "2023-11-21T14:34:27.141334Z",
     "start_time": "2023-11-21T14:34:27.135799Z"
    }
   },
   "outputs": [],
   "source": [
    "datapath='/Users/jessieduncan/nustar/may-2018/5_29pixpos/80410205001/'\n",
    "\n",
    "\n",
    "evtA = glob.glob(datapath+'/event_cl/*A06_cl.evt')\n",
    "evtB = glob.glob(datapath+'/event_cl/*B06_cl.evt')\n",
    "hkA  = glob.glob(datapath+'/hk/*A_fpm.hk')\n",
    "hkB  = glob.glob(datapath+'/hk/*B_fpm.hk')"
   ]
  },
  {
   "cell_type": "code",
   "execution_count": null,
   "id": "641195fe",
   "metadata": {},
   "outputs": [],
   "source": []
  }
 ],
 "metadata": {
  "kernelspec": {
   "display_name": "Python 3 (ipykernel)",
   "language": "python",
   "name": "python3"
  },
  "language_info": {
   "codemirror_mode": {
    "name": "ipython",
    "version": 3
   },
   "file_extension": ".py",
   "mimetype": "text/x-python",
   "name": "python",
   "nbconvert_exporter": "python",
   "pygments_lexer": "ipython3",
   "version": "3.10.8"
  }
 },
 "nbformat": 4,
 "nbformat_minor": 5
}
