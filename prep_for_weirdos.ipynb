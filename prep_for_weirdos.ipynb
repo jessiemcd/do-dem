{
 "cells": [
  {
   "cell_type": "markdown",
   "id": "7d7a846f-33bf-47ba-a5d3-617d33a0cc23",
   "metadata": {},
   "source": [
    "Example of the process of doing DEMs for all orbits for a given observation of an AR – where we don't window out any intervals because of shifts, etc. Instead, we will save energy-specific information about the percent of NuSTAR emission in the chosen region as a function of time, for later inspection. This will help identify cases where pointing shifts might cause unphysical distortion to the DEM inputs. \n",
    "\n",
    "Note: auto-download of an AIA file (for use in the initial co-alignmnet) will break while the JSOC is still down. We will add a thing where you can point to an existing AIA file instead.\n",
    "\n",
    "Overview:\n",
    "\n",
    "- Define orbits\n",
    "- Run time interval selection\n",
    "- Examine resulting intervals\n",
    "- Manually establish a co-alignment shift between NuSTAR and AIA\n",
    "- Automatically find co-alignment shifts + make regions for all other time intervals (note: this relies on the assumption that the COM is a good representation of the location of the brightest source, i.e. that the NuSTAR data is primarially one blob).\n",
    "- Save AIA region files for NCCS input\n",
    "- NOT IN THIS NOTEBOOK: YOU THEN TAKE THOSE AND MAKE AIA INPUTS ON THE NCCS\n",
    "- Conduct AIA/NuSTAR DEMs as a function of time, given all the above\n",
    "- Plot results.\n",
    "- Print some stats about \"left out\" times."
   ]
  },
  {
   "cell_type": "code",
   "execution_count": null,
   "id": "9cb34388-bbab-4eba-bb6d-4acab7759d06",
   "metadata": {},
   "outputs": [],
   "source": [
    "# import matplotlib.pyplot as plt\n",
    "# import numpy as np\n",
    "# import glob\n",
    "# from astropy.io import fits\n",
    "# from astropy import units as u\n",
    "# import importlib\n",
    "# import pathlib\n",
    "\n",
    "#Path to top-level do-dem directory - edit for your system.\n",
    "path_to_dodem = '/Users/jmdunca2/do-dem/'\n",
    "from sys import path as sys_path\n",
    "sys_path.append(path_to_dodem+'/dodem/')\n",
    "\n",
    "# #import nustar_dem_prep as nu\n",
    "import initial_analysis as ia\n",
    "import orbit_auto as oa\n",
    "import time_interval_selection as tis\n",
    "import nustar_utilities as nuutil\n",
    "import gauss2D as g2d\n",
    "import all_nu_analysis as ana\n",
    "\n",
    "\n",
    "# import os\n",
    "# # For macOS\n",
    "# def play_sound():\n",
    "#     os.system(\"afplay /System/Library/Sounds/Glass.aiff\")\n",
    "\n",
    "import pickle\n",
    "import pathlib\n",
    "import importlib\n"
   ]
  },
  {
   "cell_type": "code",
   "execution_count": null,
   "id": "2c6e44d5-2057-4a21-8348-3cd8965df84b",
   "metadata": {},
   "outputs": [],
   "source": [
    "key = '30-jul-21_1'\n"
   ]
  },
  {
   "cell_type": "code",
   "execution_count": null,
   "id": "29e4024f-1d47-4d8f-ba83-9e873f03cea2",
   "metadata": {},
   "outputs": [],
   "source": [
    "with open('all_targets.pickle', 'rb') as f:\n",
    "    data = pickle.load(f)\n",
    "\n",
    "ARDict = data[key]\n",
    "\n",
    "id_dirs = ARDict['datapaths']\n",
    "obsids = ARDict['obsids']\n",
    "working_dir = ARDict['working_dir']\n"
   ]
  },
  {
   "cell_type": "code",
   "execution_count": null,
   "id": "db289b0d-66f7-4838-95d5-a33d8ae11396",
   "metadata": {
    "scrolled": true
   },
   "outputs": [],
   "source": [
    "ARDict"
   ]
  },
  {
   "cell_type": "code",
   "execution_count": null,
   "id": "d41af870-a9f7-4d94-9c59-e90b7dd0910b",
   "metadata": {},
   "outputs": [],
   "source": [
    "for id in id_dirs:\n",
    "    evt_data, hdr = ia.return_submap(datapath=id, fpm='A', return_evt_hdr=True)\n",
    "    time0, time1 = [nuutil.convert_nustar_time(hdr['TSTART']), nuutil.convert_nustar_time(hdr['TSTOP'])]\n",
    "    timerange = [time0, time1]\n",
    "    print(timerange[0].strftime('%H-%M-%S'), timerange[1].strftime('%H-%M-%S'))"
   ]
  },
  {
   "cell_type": "code",
   "execution_count": null,
   "id": "b95099d2-a145-4eee-940c-ef7ca6917059",
   "metadata": {},
   "outputs": [],
   "source": [
    "import glob\n",
    "import region_fitting as rf\n",
    "obsid = obsids[1]\n",
    "fpm='A'\n",
    "regionfiles = glob.glob(working_dir+'gauss_cen_'+obsid+'_'+fpm+'_*.reg')\n",
    "print(regionfiles)\n",
    "offset, rad = rf.read_regfile(regionfiles[0], time0, time1, 'hourangle')\n",
    "print(offset, rad)\n",
    "offset, rad = rf.read_regfile(regionfiles[1], time0, time1, 'hourangle')\n",
    "print(offset, rad)"
   ]
  },
  {
   "cell_type": "code",
   "execution_count": null,
   "id": "2cdd4d92-a932-4873-a6f1-1aac37c28a2d",
   "metadata": {
    "scrolled": true
   },
   "outputs": [],
   "source": [
    "importlib.reload(ana)\n",
    "\n",
    "# regions = [{'centerx': -1125,\n",
    "#           'centery': -183,\n",
    "#           'radius': 150},\n",
    "#            {'centerx': -990,\n",
    "#           'centery': -441,\n",
    "#           'radius': 150}]\n",
    "           \n",
    "\n",
    "ana.double_gauss_prep(key, plot=True, guess=[175,175], guess2=[225,250], sep_axis='EW', #plotregion=regions, \n",
    "                      plotgaussregions=True, write_regions=True, region_dir=working_dir)"
   ]
  },
  {
   "cell_type": "code",
   "execution_count": null,
   "id": "aba079df-cb74-45e5-8add-266eef6455a0",
   "metadata": {},
   "outputs": [],
   "source": [
    "# with open('all_targets.pickle', 'rb') as f:\n",
    "#     data = pickle.load(f)\n",
    "\n",
    "# ARDict = data[key]\n",
    "\n",
    "# id_dirs = ARDict['datapaths']\n",
    "# obsids = ARDict['obsids']\n",
    "# working_dir = ARDict['working_dir']\n"
   ]
  },
  {
   "cell_type": "code",
   "execution_count": null,
   "id": "5abc8e63-7bd3-4f40-b953-43c308315d6f",
   "metadata": {
    "scrolled": true
   },
   "outputs": [],
   "source": [
    "# importlib.reload(tis)\n",
    "# all_targets=data\n",
    "# index=0\n",
    "# tis.one_orbit_tis_wrapper(key, all_targets, index, method='doublegauss', use_set_regionfiles=True)"
   ]
  },
  {
   "cell_type": "markdown",
   "id": "1916c11f-618e-4286-a56f-c745b274bda8",
   "metadata": {},
   "source": [
    "Issue: even when the full-orbit double-gauss fitting does fine, and with a factor added to force a longer interval for the fainter of the two sources, the fitting often fails for sub intervals. In other words, it's possible that a statistically relevant number of counts can be accumulated from a source in a time period shorter than what is needed for that same source to be well-fit in the prescence of a brighter one. \n",
    "\n",
    "It is likely necessary to employ a new type of fixed-region method for cases with multiple sources. That's probably what we need for the even weirder sources too (manual entry). So let's see how they react to the double-gauss initial orbit-long fitting to see what all should be able to be incorporated into that model. "
   ]
  },
  {
   "cell_type": "code",
   "execution_count": null,
   "id": "d0dc395f-f963-4552-b8c7-c6a79499ac73",
   "metadata": {},
   "outputs": [],
   "source": [
    "problem_kids = ['01-sep-15', #0 - elongated along limb. REGCOMPARE\n",
    "                '02-sep-15', #1 - three-source (sometimes), elongated blur otherwise. REGCOMPARE\n",
    "                '19-feb-16', #2 - single source, not enough counts > 6 keV\n",
    "                '22-apr-16_1', #3 - single source, not enough counts > 6 keV\n",
    "                '22-apr-16_2', #4 - single source in chip gap, does not appear in AIA94 (too high altitude?)\n",
    "                '26-jul-16_1', #5 - Multiple limb sources. Farthest south dominates in orbits 1, 3, 4, but not really in 2. MANUAL REGIONS\n",
    "                '11-sep-17', #6 - Blobby close-together 2-source. REGCOMPARE\n",
    "                '12-sep-17', #7 - One source with very faint companion. MANUAL REGIONS\n",
    "                '13-sep-17', #8 - One source with very faint companion. MANUAL REGIONS\n",
    "                '10-oct-17', #9 - One source with very faint companion. MANUAL REGIONS\n",
    "                '29-may-18_2', #10 - Two ARs, one does not appear in AIA94 (too high altitude?)\n",
    "                '08-jan-21', #11 - Blob. REGCOMPARE\n",
    "                '07-may-21' #12 - Single source; missing data for one of two orbits. \n",
    "               ]\n",
    "\n"
   ]
  },
  {
   "cell_type": "code",
   "execution_count": null,
   "id": "882903bb-f9bb-46bc-9fa5-92c908f4f027",
   "metadata": {},
   "outputs": [],
   "source": [
    "\n",
    "\n",
    "#reasonable regions clearly possible, need new preset-region method (doubles and others). \n",
    "manual_regions = ['01-sep-15',\n",
    "                  '02-sep-15', #1 - three-source (sometimes), elongated blur otherwise.\n",
    "                  '26-jul-16_1', #5 - Multiple limb sources. Farthest south dominates in orbits 1, 3, 4, but not really in 2. MANUAL REGIONS\n",
    "                 ]\n",
    "\n",
    "#regions where we have a plan\n",
    "planned_process = [#'01-sep-15', #0 - elongated along limb. REGCOMPARE\n",
    "                   '11-sep-17', #7 - Blobby close-together 2-source. REGCOMPARE\n",
    "                    '12-sep-17', #8 - One source with very faint companion. MANUAL REGIONS\n",
    "                    '13-sep-17', #9 - One source with very faint companion. MANUAL REGIONS\n",
    "                    '10-oct-17',  #10 - One source with very faint companion. MANUAL REGIONS\n",
    "                  #'08-jan-21', #14 - Blob. REGCOMPARE\n",
    "                   '20-jul-21', #18 - Double source; MANUAL REGIONS\n",
    "                    '30-jul-21_1' #19 - Double source; MANUAL REGIONS\n",
    "                 ]"
   ]
  },
  {
   "cell_type": "code",
   "execution_count": null,
   "id": "f62fbd2d-5728-478e-860a-68ccb87e83fb",
   "metadata": {
    "scrolled": true
   },
   "outputs": [],
   "source": [
    "importlib.reload(ana)\n",
    "\n",
    "#key=manual_regions[0]\n",
    "#print(key)\n",
    "\n",
    "\n",
    "key='27-jul-16_1'\n",
    "\n",
    "#September 12 2017\n",
    "#regions = [{'centerx': 900, 'centery': -325, 'radius': 150},\n",
    "#           {'centerx': 975, 'centery': -50, 'radius': 150}\n",
    "#          ]\n",
    "\n",
    "#September 13 2017\n",
    "#regions = [{'centerx': 940, 'centery': -325, 'radius': 150},\n",
    "#            {'centerx': 1015, 'centery': -50, 'radius': 150}\n",
    "#           ]\n",
    "\n",
    "\n",
    "#October 10 2017\n",
    "#regions = [{'centerx': 950, 'centery': 330, 'radius': 150},\n",
    "#            {'centerx': 1000, 'centery': 50, 'radius': 150}\n",
    "#           ]\n",
    "\n",
    "#September 1 2015\n",
    "#regions = [{'centerx': 1000, 'centery': -275, 'radius': 150}\n",
    "#          ]\n",
    "\n",
    "#September 2 2015\n",
    "#regions = [{'centerx': 1000, 'centery': -320, 'radius': 150},\n",
    "#           {'centerx': 1050, 'centery': 25, 'radius': 150}\n",
    "#          ]\n",
    "\n",
    "#July 26 2016\n",
    "regions = [{'centerx': 1000, 'centery': -220, 'radius': 150},\n",
    "          {'centerx': 1000, 'centery': 200, 'radius': 150}\n",
    "         ]\n",
    "\n",
    "#NOT DONE YET!\n",
    "\n",
    "ana.manual_prep(key, plot=True, #guess=[150,200], guess2=[250,250], \n",
    "                    make_scripts=True,\n",
    "                      #plotgaussregions=True, \n",
    "                      plotregion=regions, write_input_regions=True)\n",
    "\n",
    "#ana.single_gauss_prep(key, plot=True, make_scripts=False, \n",
    "#                      plotgaussregions=True)"
   ]
  },
  {
   "cell_type": "code",
   "execution_count": null,
   "id": "5b3133c3-877b-4583-8539-18abd2272b23",
   "metadata": {},
   "outputs": [],
   "source": []
  },
  {
   "cell_type": "code",
   "execution_count": null,
   "id": "416fb40d-231d-46a2-8521-d3f2ce26ada1",
   "metadata": {},
   "outputs": [],
   "source": [
    "key='11-sep-17'\n",
    "ana.single_gauss_prep(key, plot=True, make_scripts=False, \n",
    "                      plotgaussregions=True)"
   ]
  },
  {
   "cell_type": "code",
   "execution_count": null,
   "id": "7e865a37-0aac-4b93-bd96-67af64162b1a",
   "metadata": {},
   "outputs": [],
   "source": [
    "data.keys()"
   ]
  },
  {
   "cell_type": "code",
   "execution_count": null,
   "id": "c477b6ba-1277-401f-8c5a-d94b644adcf7",
   "metadata": {},
   "outputs": [],
   "source": [
    "# import glob\n",
    "\n",
    "# #Set path to obsid directory - initial pipeline should have been run already.\n",
    "# ind=0\n",
    "# datapath=id_dirs[ind]\n",
    "# obsid=obsids[ind]\n",
    "\n",
    "# evt_data, hdr = ia.return_submap(datapath=datapath, fpm='A', return_evt_hdr=True)\n",
    "# time0, time1 = [nuutil.convert_nustar_time(hdr['TSTART']), nuutil.convert_nustar_time(hdr['TSTOP'])]\n",
    "# timerange = [time0.tt.datetime, time1.tt.datetime]\n",
    "# from datetime import timezone\n",
    "# timerange = [t.replace(tzinfo=timezone.utc) for t in timerange]\n",
    "\n",
    "# #Comment second line if you're not using this same example nustar orbit\n",
    "# #Edit it to include only the desired time interval (default- all times in file) once you've run this once\n",
    "# #timerange=[]\n",
    "# #timerange=[datetime.datetime(2018, 5, 29, 22, 22), datetime.datetime(2018, 5, 29, 23, 20)]\n",
    "\n",
    "# evtA = glob.glob(datapath+'/event_cl/*A06_cl.evt')\n",
    "# evtB = glob.glob(datapath+'/event_cl/*B06_cl.evt')\n",
    "# hkA  = glob.glob(datapath+'/hk/*A_fpm.hk')\n",
    "# hkB  = glob.glob(datapath+'/hk/*B_fpm.hk')\n",
    "\n",
    "# import lightcurves as lc\n",
    "\n",
    "# importlib.reload(lc)\n",
    "# lc.prepare_nustar_lightcurves(evtA, evtB, hkA, hkB, timebin=15, erange=[2.,4.], \n",
    "#                               livetime_corr=False, save_dir=working_dir)\n",
    "# lc.prepare_nustar_lightcurves(evtA, evtB, hkA, hkB, timebin=15, erange=[4.,6.], \n",
    "#                               livetime_corr=False, save_dir=working_dir)\n",
    "# lc.prepare_nustar_lightcurves(evtA, evtB, hkA, hkB, timebin=15, erange=[6.,10.], \n",
    "#                               livetime_corr=False, save_dir=working_dir)\n",
    "\n",
    "# lc.plot_nustar_lightcurves(eranges = [[2.,4.],[4.,6.],[6.,10.]],\n",
    "#                            timerange=timerange, save_dir=working_dir)"
   ]
  },
  {
   "cell_type": "code",
   "execution_count": null,
   "id": "faae8f14-7a8a-4e31-9464-3afca4f0b501",
   "metadata": {},
   "outputs": [],
   "source": []
  }
 ],
 "metadata": {
  "kernelspec": {
   "display_name": "Python 3 (ipykernel)",
   "language": "python",
   "name": "python3"
  },
  "language_info": {
   "codemirror_mode": {
    "name": "ipython",
    "version": 3
   },
   "file_extension": ".py",
   "mimetype": "text/x-python",
   "name": "python",
   "nbconvert_exporter": "python",
   "pygments_lexer": "ipython3",
   "version": "3.10.13"
  }
 },
 "nbformat": 4,
 "nbformat_minor": 5
}
