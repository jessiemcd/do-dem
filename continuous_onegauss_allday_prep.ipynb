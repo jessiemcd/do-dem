{
 "cells": [
  {
   "cell_type": "markdown",
   "id": "7d7a846f-33bf-47ba-a5d3-617d33a0cc23",
   "metadata": {},
   "source": [
    "Example of the process of doing DEMs for all orbits for a given observation of an AR – where we don't window out any intervals because of shifts, etc. Instead, we will save energy-specific information about the percent of NuSTAR emission in the chosen region as a function of time, for later inspection. This will help identify cases where pointing shifts might cause unphysical distortion to the DEM inputs. \n",
    "\n",
    "Note: auto-download of an AIA file (for use in the initial co-alignmnet) will break while the JSOC is still down. We will add a thing where you can point to an existing AIA file instead.\n",
    "\n",
    "Overview:\n",
    "\n",
    "- Define orbits\n",
    "- Run time interval selection\n",
    "- Examine resulting intervals\n",
    "- Manually establish a co-alignment shift between NuSTAR and AIA\n",
    "- Automatically find co-alignment shifts + make regions for all other time intervals (note: this relies on the assumption that the COM is a good representation of the location of the brightest source, i.e. that the NuSTAR data is primarially one blob).\n",
    "- Save AIA region files for NCCS input\n",
    "- NOT IN THIS NOTEBOOK: YOU THEN TAKE THOSE AND MAKE AIA INPUTS ON THE NCCS\n",
    "- Conduct AIA/NuSTAR DEMs as a function of time, given all the above\n",
    "- Plot results.\n",
    "- Print some stats about \"left out\" times."
   ]
  },
  {
   "cell_type": "code",
   "execution_count": 1,
   "id": "9cb34388-bbab-4eba-bb6d-4acab7759d06",
   "metadata": {
    "execution": {
     "iopub.execute_input": "2025-01-23T20:37:54.031602Z",
     "iopub.status.busy": "2025-01-23T20:37:54.031501Z",
     "iopub.status.idle": "2025-01-23T20:37:56.408603Z",
     "shell.execute_reply": "2025-01-23T20:37:56.408250Z",
     "shell.execute_reply.started": "2025-01-23T20:37:54.031591Z"
    }
   },
   "outputs": [],
   "source": [
    "# import matplotlib.pyplot as plt\n",
    "# import numpy as np\n",
    "# import glob\n",
    "# from astropy.io import fits\n",
    "# from astropy import units as u\n",
    "# import importlib\n",
    "# import pathlib\n",
    "\n",
    "#Path to top-level do-dem directory - edit for your system.\n",
    "path_to_dodem = '/Users/jmdunca2/do-dem/'\n",
    "from sys import path as sys_path\n",
    "sys_path.append(path_to_dodem+'/dodem/')\n",
    "\n",
    "# #import nustar_dem_prep as nu\n",
    "import initial_analysis as ia\n",
    "# import orbit_auto as oa\n",
    "import time_interval_selection as tis\n",
    "import nustar_utilities as nuutil\n",
    "import gauss2D as g2d\n",
    "\n",
    "\n",
    "# import os\n",
    "# # For macOS\n",
    "# def play_sound():\n",
    "#     os.system(\"afplay /System/Library/Sounds/Glass.aiff\")\n",
    "\n",
    "import pickle\n",
    "import pathlib\n"
   ]
  },
  {
   "cell_type": "code",
   "execution_count": 2,
   "id": "2c6e44d5-2057-4a21-8348-3cd8965df84b",
   "metadata": {
    "execution": {
     "iopub.execute_input": "2025-01-23T20:37:56.410194Z",
     "iopub.status.busy": "2025-01-23T20:37:56.409788Z",
     "iopub.status.idle": "2025-01-23T20:37:56.412029Z",
     "shell.execute_reply": "2025-01-23T20:37:56.411717Z",
     "shell.execute_reply.started": "2025-01-23T20:37:56.410182Z"
    }
   },
   "outputs": [],
   "source": [
    "key = '26-jul-16_1'"
   ]
  },
  {
   "cell_type": "code",
   "execution_count": 3,
   "id": "29e4024f-1d47-4d8f-ba83-9e873f03cea2",
   "metadata": {
    "execution": {
     "iopub.execute_input": "2025-01-23T20:37:56.412523Z",
     "iopub.status.busy": "2025-01-23T20:37:56.412446Z",
     "iopub.status.idle": "2025-01-23T20:37:56.415572Z",
     "shell.execute_reply": "2025-01-23T20:37:56.415272Z",
     "shell.execute_reply.started": "2025-01-23T20:37:56.412515Z"
    }
   },
   "outputs": [],
   "source": [
    "with open('all_targets.pickle', 'rb') as f:\n",
    "    data = pickle.load(f)\n",
    "\n",
    "ARDict = data[key]\n",
    "\n",
    "id_dirs = ARDict['datapaths']\n",
    "obsids = ARDict['obsids']\n",
    "working_dir = ARDict['working_dir']\n",
    "\n",
    "#Make a new working directory for prepped data/etc if it doesn't yet exist\n",
    "save_path = pathlib.Path(working_dir)\n",
    "if not save_path.exists():\n",
    "    save_path.mkdir()"
   ]
  },
  {
   "cell_type": "code",
   "execution_count": 4,
   "id": "db289b0d-66f7-4838-95d5-a33d8ae11396",
   "metadata": {
    "execution": {
     "iopub.execute_input": "2025-01-23T20:37:56.416093Z",
     "iopub.status.busy": "2025-01-23T20:37:56.416005Z",
     "iopub.status.idle": "2025-01-23T20:37:56.419747Z",
     "shell.execute_reply": "2025-01-23T20:37:56.419468Z",
     "shell.execute_reply.started": "2025-01-23T20:37:56.416084Z"
    }
   },
   "outputs": [
    {
     "data": {
      "text/plain": [
       "{'NOAA_ARID': ['AR12567'],\n",
       " 'datapaths': ['/Users/jmdunca2/nustar/jul-2016/20201001001/',\n",
       "  '/Users/jmdunca2/nustar/jul-2016/20201002001/',\n",
       "  '/Users/jmdunca2/nustar/jul-2016/20201003001/',\n",
       "  '/Users/jmdunca2/nustar/jul-2016/20201004001/'],\n",
       " 'obsids': ['20201001001', '20201002001', '20201003001', '20201004001'],\n",
       " 'working_dir': '/Users/jmdunca2/do-dem/initial_dem_jul16/',\n",
       " 'direction': 'single',\n",
       " 'notes': 'W limb AR (four orbits)',\n",
       " 'goes_satellite': 15,\n",
       " 'orbit durations': [<Quantity 60.48333333 min>,\n",
       "  <Quantity 55.88333333 min>,\n",
       "  <Quantity 23.28316667 min>,\n",
       "  <Quantity 60.46666667 min>],\n",
       " 'total duration': <Quantity 200.1165 min>,\n",
       " 'total livetime': <Quantity 9.9781254 min>}"
      ]
     },
     "execution_count": 4,
     "metadata": {},
     "output_type": "execute_result"
    }
   ],
   "source": [
    "ARDict"
   ]
  },
  {
   "cell_type": "code",
   "execution_count": 5,
   "id": "d41af870-a9f7-4d94-9c59-e90b7dd0910b",
   "metadata": {
    "execution": {
     "iopub.execute_input": "2025-01-23T20:37:56.420257Z",
     "iopub.status.busy": "2025-01-23T20:37:56.420175Z",
     "iopub.status.idle": "2025-01-23T20:37:56.485722Z",
     "shell.execute_reply": "2025-01-23T20:37:56.485313Z",
     "shell.execute_reply.started": "2025-01-23T20:37:56.420248Z"
    }
   },
   "outputs": [
    {
     "name": "stdout",
     "output_type": "stream",
     "text": [
      "19-22-53 20-23-22\n",
      "20-59-35 21-55-28\n",
      "22-52-38 23-15-55\n",
      "00-12-59 01-13-27\n"
     ]
    }
   ],
   "source": [
    "for id in id_dirs:\n",
    "    evt_data, hdr = ia.return_submap(datapath=id, fpm='A', return_evt_hdr=True)\n",
    "    time0, time1 = [nuutil.convert_nustar_time(hdr['TSTART']), nuutil.convert_nustar_time(hdr['TSTOP'])]\n",
    "    timerange = [time0, time1]\n",
    "    print(timerange[0].strftime('%H-%M-%S'), timerange[1].strftime('%H-%M-%S'))"
   ]
  },
  {
   "cell_type": "code",
   "execution_count": null,
   "id": "232fe900-e103-4d9e-8b23-4f0382cd2110",
   "metadata": {
    "execution": {
     "iopub.execute_input": "2025-01-23T20:37:56.486427Z",
     "iopub.status.busy": "2025-01-23T20:37:56.486338Z"
    }
   },
   "outputs": [
    {
     "name": "stdout",
     "output_type": "stream",
     "text": [
      "100% [............................................................................] 494760 / 494760"
     ]
    }
   ],
   "source": [
    "#importlib.reload(g2d)\n",
    "gauss_stats=[]\n",
    "for i in range(0, len(id_dirs)):\n",
    "    #guess, fast_min_factor \n",
    "    res = g2d.per_orbit_onegauss_params(id_dirs[i], guess=[], plot=True)\n",
    "    gauss_stats.append(res)\n"
   ]
  },
  {
   "cell_type": "code",
   "execution_count": null,
   "id": "77ce5c9b-590a-47e8-a46b-20fb5ba7b084",
   "metadata": {},
   "outputs": [],
   "source": [
    "ARDict['gauss_stats'] = gauss_stats\n",
    "\n",
    "data[key] = ARDict\n",
    "\n",
    "with open('all_targets.pickle', 'wb') as f:\n",
    "         # Pickle the 'data' dictionary using the highest protocol available.\n",
    "         pickle.dump(data, f, pickle.HIGHEST_PROTOCOL) "
   ]
  },
  {
   "cell_type": "code",
   "execution_count": null,
   "id": "d7b30db5-8923-4936-8798-bad8ed172c25",
   "metadata": {},
   "outputs": [],
   "source": [
    "#where: where to find templates + place scripts.\n",
    "tis.make_tis_scripts(obsids, key, where='./')    "
   ]
  },
  {
   "cell_type": "code",
   "execution_count": null,
   "id": "7c0e3593-e2d4-4d9a-a767-a8165751a4bd",
   "metadata": {},
   "outputs": [],
   "source": []
  },
  {
   "cell_type": "code",
   "execution_count": null,
   "id": "4581dbe1-a474-4cec-8304-687a5455c99c",
   "metadata": {},
   "outputs": [],
   "source": []
  }
 ],
 "metadata": {
  "kernelspec": {
   "display_name": "Python 3 (ipykernel)",
   "language": "python",
   "name": "python3"
  },
  "language_info": {
   "codemirror_mode": {
    "name": "ipython",
    "version": 3
   },
   "file_extension": ".py",
   "mimetype": "text/x-python",
   "name": "python",
   "nbconvert_exporter": "python",
   "pygments_lexer": "ipython3",
   "version": "3.10.13"
  }
 },
 "nbformat": 4,
 "nbformat_minor": 5
}
