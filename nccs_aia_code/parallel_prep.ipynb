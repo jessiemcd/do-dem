{
 "cells": [
  {
   "cell_type": "code",
   "execution_count": 1,
   "id": "009c3e33-8652-4750-bdf3-10e21b67b682",
   "metadata": {},
   "outputs": [
    {
     "name": "stderr",
     "output_type": "stream",
     "text": [
      "/home/jmdunca2/.conda/envs/test_env/lib/python3.12/site-packages/tqdm/auto.py:21: TqdmWarning: IProgress not found. Please update jupyter and ipywidgets. See https://ipywidgets.readthedocs.io/en/stable/user_install.html\n",
      "  from .autonotebook import tqdm as notebook_tqdm\n"
     ]
    }
   ],
   "source": [
    "from sys import path as sys_path\n",
    "sys_path.append('/home/jmdunca2/jessie_notebooks/')\n",
    "\n",
    "import glob\n",
    "import aia_prep as ap\n",
    "import pathlib"
   ]
  },
  {
   "cell_type": "markdown",
   "id": "4aeaa618-5e5b-4f9f-ac51-bc5953dc3851",
   "metadata": {},
   "source": [
    "Idea: rather than having all of the AIA file prep run in sequence (as the task for each time interval is \"embarassingly parallel\" with all others), we want to take advantage of the opportunity to run multiple processes simultaneously. So, for a given orbit (with a directory of region files and a data directory), we want to produce a series of automatically generated python scripts (one per time interval) + a bash script to run them all. "
   ]
  },
  {
   "cell_type": "code",
   "execution_count": 25,
   "id": "94bf5e90-6d90-4de2-92b8-62b79def5bf3",
   "metadata": {},
   "outputs": [
    {
     "name": "stdout",
     "output_type": "stream",
     "text": [
      "#!/bin/sh\n",
      "\n",
      "\n",
      "\n",
      "\n",
      "\n",
      "python aia_prep_21-20-15_21-24-40.py >  prep_out_21-20-15_21-24-40.txt &\n",
      "python aia_prep_21-24-40_21-25-25.py >  prep_out_21-24-40_21-25-25.txt &\n",
      "python aia_prep_21-25-25_21-26-20.py >  prep_out_21-25-25_21-26-20.txt &\n",
      "python aia_prep_21-26-20_21-27-35.py >  prep_out_21-26-20_21-27-35.txt &\n",
      "python aia_prep_21-27-35_21-28-35.py >  prep_out_21-27-35_21-28-35.txt &\n",
      "python aia_prep_21-28-35_21-29-15.py >  prep_out_21-28-35_21-29-15.txt &\n",
      "python aia_prep_21-29-15_21-30-05.py >  prep_out_21-29-15_21-30-05.txt &\n",
      "python aia_prep_21-30-05_21-31-05.py >  prep_out_21-30-05_21-31-05.txt &\n",
      "python aia_prep_21-31-05_21-31-35.py >  prep_out_21-31-05_21-31-35.txt &\n",
      "python aia_prep_21-31-35_21-32-05.py >  prep_out_21-31-35_21-32-05.txt &\n",
      "python aia_prep_21-32-05_21-32-35.py >  prep_out_21-32-05_21-32-35.txt &\n",
      "python aia_prep_21-32-35_21-33-05.py >  prep_out_21-32-35_21-33-05.txt &\n",
      "python aia_prep_21-33-05_21-33-35.py >  prep_out_21-33-05_21-33-35.txt &\n",
      "python aia_prep_21-33-35_21-34-05.py >  prep_out_21-33-35_21-34-05.txt &\n",
      "python aia_prep_21-34-05_21-34-35.py >  prep_out_21-34-05_21-34-35.txt &\n",
      "python aia_prep_21-34-35_21-35-05.py >  prep_out_21-34-35_21-35-05.txt &\n",
      "python aia_prep_21-35-05_21-35-35.py >  prep_out_21-35-05_21-35-35.txt &\n",
      "python aia_prep_21-35-35_21-36-05.py >  prep_out_21-35-35_21-36-05.txt &\n",
      "python aia_prep_21-36-05_21-36-35.py >  prep_out_21-36-05_21-36-35.txt &\n",
      "python aia_prep_21-36-35_21-37-05.py >  prep_out_21-36-35_21-37-05.txt &\n",
      "python aia_prep_21-37-05_21-37-35.py >  prep_out_21-37-05_21-37-35.txt &\n",
      "python aia_prep_21-37-35_21-38-05.py >  prep_out_21-37-35_21-38-05.txt &\n",
      "python aia_prep_21-38-05_21-38-35.py >  prep_out_21-38-05_21-38-35.txt &\n",
      "python aia_prep_21-38-35_21-39-05.py >  prep_out_21-38-35_21-39-05.txt &\n",
      "python aia_prep_21-39-05_21-39-35.py >  prep_out_21-39-05_21-39-35.txt &\n",
      "python aia_prep_21-39-35_21-40-05.py >  prep_out_21-39-35_21-40-05.txt &\n",
      "python aia_prep_21-40-05_21-40-35.py >  prep_out_21-40-05_21-40-35.txt &\n",
      "python aia_prep_21-40-35_21-41-05.py >  prep_out_21-40-35_21-41-05.txt &\n",
      "python aia_prep_21-41-05_21-41-35.py >  prep_out_21-41-05_21-41-35.txt &\n",
      "python aia_prep_21-41-35_21-42-05.py >  prep_out_21-41-35_21-42-05.txt &\n",
      "python aia_prep_21-42-05_21-42-35.py >  prep_out_21-42-05_21-42-35.txt &\n",
      "python aia_prep_21-42-35_21-43-05.py >  prep_out_21-42-35_21-43-05.txt &\n",
      "python aia_prep_21-43-05_21-43-35.py >  prep_out_21-43-05_21-43-35.txt &\n",
      "python aia_prep_21-43-35_21-44-05.py >  prep_out_21-43-35_21-44-05.txt &\n",
      "python aia_prep_21-44-05_21-44-35.py >  prep_out_21-44-05_21-44-35.txt &\n",
      "python aia_prep_21-44-35_21-45-05.py >  prep_out_21-44-35_21-45-05.txt &\n",
      "python aia_prep_21-45-05_21-45-35.py >  prep_out_21-45-05_21-45-35.txt &\n",
      "python aia_prep_21-45-35_21-46-05.py >  prep_out_21-45-35_21-46-05.txt &\n",
      "python aia_prep_21-46-05_21-46-35.py >  prep_out_21-46-05_21-46-35.txt &\n",
      "python aia_prep_21-46-35_21-47-05.py >  prep_out_21-46-35_21-47-05.txt &\n",
      "python aia_prep_21-47-05_21-47-35.py >  prep_out_21-47-05_21-47-35.txt &\n",
      "python aia_prep_21-47-35_21-48-05.py >  prep_out_21-47-35_21-48-05.txt &\n",
      "python aia_prep_21-48-05_21-48-35.py >  prep_out_21-48-05_21-48-35.txt &\n",
      "python aia_prep_21-48-35_21-49-05.py >  prep_out_21-48-35_21-49-05.txt &\n",
      "python aia_prep_21-49-05_21-49-35.py >  prep_out_21-49-05_21-49-35.txt &\n",
      "python aia_prep_21-49-35_21-50-05.py >  prep_out_21-49-35_21-50-05.txt &\n",
      "python aia_prep_21-50-05_21-50-35.py >  prep_out_21-50-05_21-50-35.txt &\n",
      "python aia_prep_21-50-35_21-51-05.py >  prep_out_21-50-35_21-51-05.txt &\n",
      "python aia_prep_21-51-05_21-51-35.py >  prep_out_21-51-05_21-51-35.txt &\n",
      "python aia_prep_21-51-35_21-52-05.py >  prep_out_21-51-35_21-52-05.txt &\n",
      "python aia_prep_21-52-05_21-52-35.py >  prep_out_21-52-05_21-52-35.txt &\n",
      "python aia_prep_21-52-35_21-53-05.py >  prep_out_21-52-35_21-53-05.txt &\n",
      "python aia_prep_21-53-05_21-53-35.py >  prep_out_21-53-05_21-53-35.txt &\n",
      "python aia_prep_21-53-35_21-54-05.py >  prep_out_21-53-35_21-54-05.txt &\n",
      "python aia_prep_21-54-05_21-54-35.py >  prep_out_21-54-05_21-54-35.txt &\n",
      "python aia_prep_21-54-35_21-55-05.py >  prep_out_21-54-35_21-55-05.txt &\n",
      "python aia_prep_21-55-05_21-55-35.py >  prep_out_21-55-05_21-55-35.txt &\n",
      "python aia_prep_21-55-35_21-56-05.py >  prep_out_21-55-35_21-56-05.txt &\n",
      "python aia_prep_21-56-05_21-56-35.py >  prep_out_21-56-05_21-56-35.txt &\n",
      "python aia_prep_21-56-35_21-57-05.py >  prep_out_21-56-35_21-57-05.txt &\n",
      "python aia_prep_21-57-05_21-57-35.py >  prep_out_21-57-05_21-57-35.txt &\n",
      "python aia_prep_21-57-35_21-58-05.py >  prep_out_21-57-35_21-58-05.txt &\n",
      "python aia_prep_21-58-05_21-58-35.py >  prep_out_21-58-05_21-58-35.txt &\n",
      "python aia_prep_21-58-35_21-59-15.py >  prep_out_21-58-35_21-59-15.txt &\n",
      "python aia_prep_21-59-15_21-59-50.py >  prep_out_21-59-15_21-59-50.txt &\n",
      "python aia_prep_21-59-50_22-00-30.py >  prep_out_21-59-50_22-00-30.txt &\n",
      "python aia_prep_22-00-30_22-01-00.py >  prep_out_22-00-30_22-01-00.txt &\n",
      "python aia_prep_22-01-00_22-01-45.py >  prep_out_22-01-00_22-01-45.txt &\n",
      "python aia_prep_22-01-45_22-02-35.py >  prep_out_22-01-45_22-02-35.txt &\n",
      "python aia_prep_22-02-35_22-03-05.py >  prep_out_22-02-35_22-03-05.txt &\n",
      "python aia_prep_22-03-05_22-03-35.py >  prep_out_22-03-05_22-03-35.txt &\n",
      "python aia_prep_22-03-35_22-04-30.py >  prep_out_22-03-35_22-04-30.txt &\n",
      "python aia_prep_22-04-30_22-06-45.py >  prep_out_22-04-30_22-06-45.txt &\n",
      "python aia_prep_22-06-45_22-07-30.py >  prep_out_22-06-45_22-07-30.txt &\n",
      "python aia_prep_22-07-30_22-08-50.py >  prep_out_22-07-30_22-08-50.txt &\n",
      "python aia_prep_22-08-50_22-12-10.py >  prep_out_22-08-50_22-12-10.txt &\n",
      "python aia_prep_22-12-10_22-13-05.py >  prep_out_22-12-10_22-13-05.txt &\n",
      "python aia_prep_22-13-05_22-13-45.py >  prep_out_22-13-05_22-13-45.txt &\n",
      "python aia_prep_22-13-45_22-14-30.py >  prep_out_22-13-45_22-14-30.txt &\n",
      "python aia_prep_22-14-30_22-15-05.py >  prep_out_22-14-30_22-15-05.txt &\n",
      "python aia_prep_22-15-05_22-15-50.py >  prep_out_22-15-05_22-15-50.txt &\n",
      "python aia_prep_22-15-50_22-16-40.py >  prep_out_22-15-50_22-16-40.txt &\n",
      "wait\n",
      "\n",
      "echo \"all orbit scripts finished\"\n"
     ]
    }
   ],
   "source": [
    "\n",
    "data_dir = '/home/jmdunca2/JupyterLinks/css/sdac/nuSTAR/AIA/20210429T2120_20210429T2216/'\n",
    "regions_dir = '/home/jmdunca2/all_aia_dicts_29-apr-21/orbit_20615005001/'\n",
    "#place to save prepped map directories (aia_path)\n",
    "map_save_path='/explore/nobackup/people/jmdunca2/29-apr-21/'\n",
    "\n",
    "save_path = pathlib.Path(map_save_path) \n",
    "if not save_path.exists():\n",
    "    save_path.mkdir()\n",
    "    \n",
    "ap.aia_prep_orbit(data_dir, regions_dir, map_save_path)"
   ]
  },
  {
   "cell_type": "code",
   "execution_count": null,
   "id": "344d4842-140f-4df2-a94e-2d2bb252d107",
   "metadata": {},
   "outputs": [],
   "source": []
  }
 ],
 "metadata": {
  "kernelspec": {
   "display_name": "Python [conda env:.conda-test_env]",
   "language": "python",
   "name": "conda-env-.conda-test_env-py"
  },
  "language_info": {
   "codemirror_mode": {
    "name": "ipython",
    "version": 3
   },
   "file_extension": ".py",
   "mimetype": "text/x-python",
   "name": "python",
   "nbconvert_exporter": "python",
   "pygments_lexer": "ipython3",
   "version": "3.12.3"
  }
 },
 "nbformat": 4,
 "nbformat_minor": 5
}
