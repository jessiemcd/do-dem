{
 "cells": [
  {
   "cell_type": "code",
   "execution_count": null,
   "id": "3a89ca47-6c27-450f-ba0a-0d5eb21a759c",
   "metadata": {},
   "outputs": [],
   "source": [
    "import sunpy.map\n",
    "from astropy.io import fits\n",
    "#import nustar_pysolar as nustar\n",
    "import matplotlib.pyplot as plt\n",
    "from astropy import units as u\n",
    "from astropy.coordinates import SkyCoord, SkyOffsetFrame\n",
    "\n",
    "# path_to_dodem = '/Users/jmdunca2/do-dem/'\n",
    "# from sys import path as sys_path\n",
    "# sys_path.append(path_to_dodem+'/dodem/')\n",
    "# import nustar_dem_prep as nu"
   ]
  },
  {
   "cell_type": "markdown",
   "id": "731c547d-e0a0-4cb4-9aa4-5d6b480e3fae",
   "metadata": {},
   "source": [
    "For some observations, a NuSTAR source at the limb does not have an obvious corresponding source in AIA channels that would be expected to have overlapping temperature sensitivity (particularly we look at 94 and 131 \\AA). Here we check on the AIA/NuSTAR observer coordinates to partially determine how much of a difference in the limb location there could be, due to differences in the locations of the two spacecraft. \n",
    "\n",
    "AIA is in a geosynchronous orbit. It is \\~35,350 km from the earth surface (\\~41,7500 km from earth center)\n",
    "NuSTAR is in a near-equitorial low earth orbit, meaning it is at most 600 km from the earth surface. (\\~7000 km from earth center). This declines over the course of the instrument lifetime by some %. \n",
    "\n",
    "For each AIA file, we can get the observer coordinate (where AIA is located) accurately by creating a sunpy map (and using the observer_coordinate attribute). \n",
    "\n",
    "For NuSTAR, we don't have accurate observer information in the same location. "
   ]
  },
  {
   "cell_type": "code",
   "execution_count": null,
   "id": "789997d4-31b2-4520-a44a-1df01c6eaa26",
   "metadata": {},
   "outputs": [],
   "source": [
    "#February 19, 2016 case:\n",
    "\n",
    "evt_file = '/Users/jmdunca2/do-dem/initial_dem_19feb16/18-54-50_19-08-55/nu20102011001A06_0_4_p_cl_sunpos.evt'\n",
    "\n",
    "\n",
    "with fits.open(evt_file) as hdu:\n",
    "    evt_data = hdu[1].data\n",
    "    hdr = hdu[1].header\n",
    "\n",
    "nustar_map = nustar.map.make_sunpy(evt_data, hdr)\n",
    "\n",
    "\n",
    "aia_file = './aia.lev1.94A_2016-02-19T185400.12Z.image_lev1.fits'\n",
    "aia_map = sunpy.map.Map(aia_file)\n",
    "\n",
    "print(aia_map.observer_coordinate.lon.to(u.arcsec))\n",
    "print(aia_map.observer_coordinate.cartesian.xyz.to(u.km))\n",
    "print(aia_map.observer_coordinate.cartesian.y.to(u.km)/(750*u.km/u.arcsec))"
   ]
  },
  {
   "cell_type": "markdown",
   "id": "b0f5ae30-a35b-40a7-8460-adaeae95cf1d",
   "metadata": {},
   "source": [
    "The above coordinates are in cartesian coordinates centered on the Sun (HEEQ)\n",
    "As defined in: https://www.mssl.ucl.ac.uk/grid/iau/extra/local_copy/SP_coords/heliosys.htm#:~:text=1.1%20Heliocentric%20Earth%20equatorial%20(HEEQ,as%20heliocentric%20solar%20(HS).\n",
    "\n",
    "- The x is basically 1 AU (measured along \"the intersection of the solar equator and the solar central meridian as seen from the Earth\")\n",
    "- The z is parallel to the Sun's rotation axis. \n",
    "- The y is perpendicular to both the above, so like essentially solar east-west.\n",
    "\n",
    "We see that when we convert the y to arcseconds on the sun, it's about the same as the longitude. "
   ]
  },
  {
   "cell_type": "code",
   "execution_count": null,
   "id": "d8f468cc-9e43-4bd2-8210-42526c430b8e",
   "metadata": {},
   "outputs": [],
   "source": [
    "print(nustar_map.observer_coordinate)\n",
    "print(nustar_map.observer_coordinate.cartesian)"
   ]
  },
  {
   "cell_type": "markdown",
   "id": "77f24a95-71bb-40a4-849e-d5b806108475",
   "metadata": {},
   "source": [
    "The two zeros (longitude, HEEQ y) indicate that the observer coordinate is just set to the center of the earth for NuSTAR. "
   ]
  },
  {
   "cell_type": "markdown",
   "id": "93ee7e7e-4464-412f-9ac3-ab913e185d96",
   "metadata": {},
   "source": [
    "In order to get the actual nustar position, we need to retrieve a tle file which has the information needed to make an EarthSatellite object (using skyfield). We then can turn it into a skyfield object and get it into the same units as the above: "
   ]
  },
  {
   "cell_type": "code",
   "execution_count": null,
   "id": "22280b3b-600f-40bf-8bd7-e4facb81cf3d",
   "metadata": {},
   "outputs": [],
   "source": [
    "import nustar_pysolar.io as io\n",
    "from skyfield.api import EarthSatellite\n",
    "import datetime\n",
    "\n",
    "tlefile=io.download_tle(outdir='/Users/jmdunca2/do-dem/initial_dem_19feb16/')\n",
    "mindt, line1, line2 = io.get_epoch_tle(datetime.datetime(2016, 2, 19, 18, 54, 55), tlefile)\n",
    "nustar_sat = EarthSatellite(line1, line2)\n",
    "print('')\n",
    "print(nustar_sat.at(nustar_sat.epoch).to_skycoord().heliographic_stonyhurst.cartesian.xyz.to(u.km))\n",
    "print(nustar_sat.at(nustar_sat.epoch).to_skycoord().heliographic_stonyhurst.cartesian.y.to(u.km)/(750*u.km/u.arcsec))"
   ]
  },
  {
   "cell_type": "markdown",
   "id": "63ebdcb3-f7b4-4b2a-97e2-288bcb8a5986",
   "metadata": {
    "execution": {
     "iopub.execute_input": "2025-04-25T19:41:19.435237Z",
     "iopub.status.busy": "2025-04-25T19:41:19.434911Z",
     "iopub.status.idle": "2025-04-25T19:41:19.438442Z",
     "shell.execute_reply": "2025-04-25T19:41:19.437948Z",
     "shell.execute_reply.started": "2025-04-25T19:41:19.435221Z"
    }
   },
   "source": [
    "Thus, we see that the observers are on opposite sides of the earth-Sun line, and interestingly that NuSTAR is about as far from the earth-sun line as it will ever get (\\~6500 km, when its orbit is \\~7000 km in radius. Is this true for the other cases as well?"
   ]
  },
  {
   "cell_type": "code",
   "execution_count": null,
   "id": "35119e13-a6fd-4380-9fc5-81077233a989",
   "metadata": {},
   "outputs": [],
   "source": [
    "aia_file = './aia.lev1.94A_2016-04-22T172000.12Z.image_lev1.fits'\n",
    "\n",
    "aia_map = sunpy.map.Map(aia_file)\n",
    "\n",
    "print('AIA Longitude: ', aia_map.observer_coordinate.lon.to(u.arcsec))\n",
    "print('AIA HEEQ Cartesian: ', aia_map.observer_coordinate.cartesian.xyz.to(u.km))\n",
    "print('HEEQ y to arcsec: ', aia_map.observer_coordinate.cartesian.y.to(u.km)/(750*u.km/u.arcsec))\n",
    "\n",
    "tlefile=io.download_tle(outdir='/Users/jmdunca2/do-dem/initial_dem_22apr16_2/')\n",
    "mindt, line1, line2 = io.get_epoch_tle(datetime.datetime(2016, 4, 22, 17, 20), tlefile)\n",
    "nustar_sat = EarthSatellite(line1, line2)\n",
    "print('')\n",
    "print('NuSTAR HEEQ Cartesian: ', nustar_sat.at(nustar_sat.epoch).to_skycoord().heliographic_stonyhurst.cartesian.xyz.to(u.km))\n",
    "print('HEEQ y to arcsec: ', nustar_sat.at(nustar_sat.epoch).to_skycoord().heliographic_stonyhurst.cartesian.y.to(u.km)/(750*u.km/u.arcsec))"
   ]
  },
  {
   "cell_type": "code",
   "execution_count": null,
   "id": "d38da4af-1988-491d-b2a5-6b02a8624fe8",
   "metadata": {},
   "outputs": [],
   "source": [
    "aia_file = './aia.lev1.94A_2018-05-29T211611.12Z.image_lev1.fits'\n",
    "\n",
    "aia_map = sunpy.map.Map(aia_file)\n",
    "\n",
    "print('AIA Longitude: ', aia_map.observer_coordinate.lon.to(u.arcsec))\n",
    "print('AIA HEEQ Cartesian: ', aia_map.observer_coordinate.cartesian.xyz.to(u.km))\n",
    "print('HEEQ y to arcsec: ', aia_map.observer_coordinate.cartesian.y.to(u.km)/(750*u.km/u.arcsec))\n",
    "\n",
    "tlefile=io.download_tle(outdir='/Users/jmdunca2/do-dem/initial_dem_29may18_2/')\n",
    "mindt, line1, line2 = io.get_epoch_tle(datetime.datetime(2018, 5, 29, 21, 16, 11), tlefile)\n",
    "nustar_sat = EarthSatellite(line1, line2)\n",
    "print('')\n",
    "print('NuSTAR HEEQ Cartesian: ', nustar_sat.at(nustar_sat.epoch).to_skycoord().heliographic_stonyhurst.cartesian.xyz.to(u.km))\n",
    "print('HEEQ y to arcsec: ', nustar_sat.at(nustar_sat.epoch).to_skycoord().heliographic_stonyhurst.cartesian.y.to(u.km)/(750*u.km/u.arcsec))"
   ]
  },
  {
   "cell_type": "markdown",
   "id": "ba16599d-5729-4b80-b428-6ac3a7ac3ca9",
   "metadata": {},
   "source": [
    "For both 2016 February 19 and 2018 May 29, NuSTAR is on the \"solar west\" side of the earth-sun line (and AIA is on the other side). This could support an interpretation in which NuSTAR can see farther over the limb than AIA, based on the orbital geometry. However, for the third case (2016 April 22), the opposite is true: AIA is quite far to the \"solar west\" of NuSTAR. "
   ]
  },
  {
   "cell_type": "markdown",
   "id": "8e217897-2409-4e87-b747-f1ece62dd42d",
   "metadata": {},
   "source": [
    "Next step: to evaluate further, it would be interesting to do some further geometry, such as:\n",
    "\n",
    "- determine the approximate angular position of the active region most likely to be the NuSTAR source in each case\n",
    "- determine the typical height of coronal loops in that/any region\n",
    "- determine whether such an altitude is consistent with a source being in NuSTAR's line of sight but not AIA's for each of the cases with the \"correct\" geometry.\n",
    "\n",
    "It would also be good to do spectroscopy to evaluate the potential validity of a purely non-thermal interpretation of the NuSTAR emission (unlikely, but very interesting). "
   ]
  },
  {
   "cell_type": "code",
   "execution_count": null,
   "id": "5036723c-af36-4019-a105-e653fc89b200",
   "metadata": {},
   "outputs": [],
   "source": []
  },
  {
   "cell_type": "code",
   "execution_count": null,
   "id": "68e31463-62a4-4d41-ac9a-1e5968d4d0e2",
   "metadata": {},
   "outputs": [],
   "source": []
  },
  {
   "cell_type": "code",
   "execution_count": null,
   "id": "c6d539d0-6556-406b-ac47-b3960e7fe680",
   "metadata": {},
   "outputs": [],
   "source": []
  },
  {
   "cell_type": "code",
   "execution_count": null,
   "id": "0f676fdf-1273-434a-b862-e3e9c0ce4b61",
   "metadata": {},
   "outputs": [],
   "source": [
    "# fig = plt.figure(figsize=(14,22))\n",
    "\n",
    "\n",
    "# #Set broad box for plotting (using region object)\n",
    "# bl=[(0)*u.arcsec, (-500)*u.arcsec]\n",
    "# tr=[(2000)*u.arcsec,(1000)*u.arcsec]\n",
    "# #print(tr[0]-bl[0], tr[1]-bl[1])\n",
    "\n",
    "# m = aia_map\n",
    "\n",
    "# bottom_left = SkyCoord(bl[0]-100*u.arcsec, bl[1]-100*u.arcsec, frame=m.coordinate_frame)\n",
    "# top_right = SkyCoord(tr[0]+100*u.arcsec,tr[1]+100*u.arcsec, frame=m.coordinate_frame)\n",
    "# mm = m.submap(bottom_left=bottom_left, top_right=top_right)\n",
    "# mm.peek()\n",
    "\n",
    "# fpm='A'\n",
    "# datapath='./' #not using, as input specific evt\n",
    "# nu_smap = nu.return_submap(datapath=datapath, fpm=fpm, specific_evt=evt_file, bl=bl, tr=tr, already_sunpos=True)\n",
    "# nu_smap.peek()"
   ]
  },
  {
   "cell_type": "code",
   "execution_count": null,
   "id": "2ece9ba2-77d5-4786-b188-4be1ec094b07",
   "metadata": {},
   "outputs": [],
   "source": [
    "aia_file = './aia.lev1.94A_2021-01-20T134610.62Z.image_lev1.fits'\n",
    "\n",
    "mm = sunpy.map.Map(aia_file)\n",
    "mm.fits_header['QUALITY']"
   ]
  },
  {
   "cell_type": "code",
   "execution_count": null,
   "id": "cfb7544b-243c-45e7-890f-e9c681c00c4d",
   "metadata": {},
   "outputs": [],
   "source": [
    "mm.fits_header['AISTATE']"
   ]
  },
  {
   "cell_type": "code",
   "execution_count": null,
   "id": "e7ac327e-9f7f-4937-b0df-a1ae9733fa04",
   "metadata": {},
   "outputs": [],
   "source": [
    "mm.fits_header['ACS_MODE']"
   ]
  },
  {
   "cell_type": "code",
   "execution_count": null,
   "id": "bbcf0351-09a1-4071-b81f-016a76b478bc",
   "metadata": {},
   "outputs": [],
   "source": [
    "import aiapy.util\n",
    "print(aiapy.util.check_quality_flag(mm.fits_header['QUALITY']))"
   ]
  },
  {
   "cell_type": "code",
   "execution_count": null,
   "id": "097959ea-96c4-40da-ac68-6072a8f54d65",
   "metadata": {},
   "outputs": [],
   "source": []
  },
  {
   "cell_type": "code",
   "execution_count": null,
   "id": "93f91bc1-9bb5-4c03-aac1-e8e6b2cb8489",
   "metadata": {},
   "outputs": [],
   "source": [
    "import sunpy.map\n",
    "import aiapy.psf\n",
    "aia_file = './aia.lev1.94A_2016-02-19T185400.12Z.image_lev1.fits'\n",
    "aia_map = sunpy.map.Map(aia_file)"
   ]
  },
  {
   "cell_type": "code",
   "execution_count": null,
   "id": "eb4c9fb9-aaba-4347-b693-41b9b1b8e58f",
   "metadata": {},
   "outputs": [],
   "source": [
    "aia_map_deconvolved = aiapy.psf.deconvolve(aia_map)"
   ]
  },
  {
   "cell_type": "code",
   "execution_count": null,
   "id": "38b773bf-22cf-44f6-8736-9f1c16d2de77",
   "metadata": {},
   "outputs": [],
   "source": [
    "aia_map"
   ]
  },
  {
   "cell_type": "code",
   "execution_count": null,
   "id": "5ef3c2e2-a3bb-4680-8929-099084737b65",
   "metadata": {},
   "outputs": [],
   "source": [
    "from astropy.coordinates import SkyCoord, SkyOffsetFrame\n",
    "from astropy import units as u\n",
    "from matplotlib import pyplot as plt\n",
    "from astropy.visualization import AsinhStretch, ImageNormalize\n",
    "\n",
    "left_corner = 0 * u.arcsec, 0 * u.arcsec\n",
    "right_corner = 700 * u.arcsec, 500 * u.arcsec\n",
    "\n",
    "aia_map_sub = aia_map.submap(\n",
    "    bottom_left=SkyCoord(*left_corner, frame=aia_map.coordinate_frame),\n",
    "    top_right=SkyCoord(*right_corner, frame=aia_map.coordinate_frame),\n",
    ")\n",
    "aia_map_deconvolved_sub = aia_map_deconvolved.submap(\n",
    "    bottom_left=SkyCoord(*left_corner, frame=aia_map_deconvolved.coordinate_frame),\n",
    "    top_right=SkyCoord(*right_corner, frame=aia_map_deconvolved.coordinate_frame),\n",
    ")\n",
    "\n",
    "fig = plt.figure()\n",
    "\n",
    "norm = ImageNormalize(vmin=0, vmax=1.5e2, stretch=AsinhStretch(0.01))\n",
    "\n",
    "ax = fig.add_subplot(121, projection=aia_map_sub)\n",
    "aia_map_sub.plot(axes=ax, norm=norm)\n",
    "ax.set_title(\"Normal\")\n",
    "\n",
    "ax = fig.add_subplot(122, projection=aia_map_deconvolved_sub)\n",
    "aia_map_deconvolved_sub.plot(axes=ax, annotate=False, norm=norm)\n",
    "ax.set_title(\"Deconvolved\")\n",
    "ax.coords[0].set_axislabel(\" \")\n",
    "ax.coords[1].set_axislabel(\" \")\n",
    "ax.coords[1].set_ticklabel_visible(visible=False)\n",
    "\n",
    "plt.show()"
   ]
  },
  {
   "cell_type": "code",
   "execution_count": null,
   "id": "16abb92f-0557-4b0a-b435-fa40de0e3216",
   "metadata": {},
   "outputs": [],
   "source": [
    "import numpy as np\n",
    "print(np.min(aia_map.data), np.max(aia_map.data), np.sum(aia_map.data))\n",
    "print(np.min(aia_map_deconvolved.data), np.max(aia_map_deconvolved.data), np.sum(aia_map_deconvolved.data))\n",
    "print(np.sum(aia_map.data)/np.sum(aia_map_deconvolved.data))"
   ]
  },
  {
   "cell_type": "code",
   "execution_count": null,
   "id": "51b80ee0-f982-4548-977a-01cbbb387196",
   "metadata": {},
   "outputs": [],
   "source": []
  }
 ],
 "metadata": {
  "kernelspec": {
   "display_name": "Python 3 (ipykernel)",
   "language": "python",
   "name": "python3"
  },
  "language_info": {
   "codemirror_mode": {
    "name": "ipython",
    "version": 3
   },
   "file_extension": ".py",
   "mimetype": "text/x-python",
   "name": "python",
   "nbconvert_exporter": "python",
   "pygments_lexer": "ipython3",
   "version": "3.10.13"
  }
 },
 "nbformat": 4,
 "nbformat_minor": 5
}
