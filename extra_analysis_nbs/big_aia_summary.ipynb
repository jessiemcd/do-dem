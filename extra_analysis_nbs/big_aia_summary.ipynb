{
 "cells": [
  {
   "cell_type": "code",
   "execution_count": null,
   "id": "6679510f-6a2f-4b76-98bd-82f9b9cb5135",
   "metadata": {},
   "outputs": [],
   "source": [
    "import matplotlib.pyplot as plt\n",
    "from astropy.coordinates import SkyCoord, SkyOffsetFrame\n",
    "from regions import CircleSkyRegion\n",
    "import numpy as np\n",
    "import glob\n",
    "# from astropy.io import fits\n",
    "# from astropy import units as u\n",
    "# import importlib\n",
    "# import pathlib\n",
    "\n",
    "#Path to top-level do-dem directory - edit for your system.\n",
    "path_to_dodem = '/Users/jmdunca2/do-dem/'\n",
    "from sys import path as sys_path\n",
    "sys_path.append(path_to_dodem+'/dodem/')\n",
    "\n",
    "# #import nustar_dem_prep as nu\n",
    "import images_and_coalignment as iac\n",
    "import time_interval_selection as tis\n",
    "import nustar_utilities as nuutil\n",
    "import gauss2D as g2d\n",
    "import nustar_dem_prep as nu\n",
    "\n",
    "\n",
    "# import os\n",
    "# # For macOS\n",
    "# def play_sound():\n",
    "#     os.system(\"afplay /System/Library/Sounds/Glass.aiff\")\n",
    "\n",
    "import pickle\n",
    "import pathlib\n",
    "import importlib\n",
    "from astropy import units as u\n",
    "import numpy as np\n",
    "\n",
    "\n",
    "with open('all_targets.pickle', 'rb') as f:\n",
    "    data = pickle.load(f)\n",
    "\n",
    "keys = list(data.keys())"
   ]
  },
  {
   "cell_type": "code",
   "execution_count": null,
   "id": "01d763af-4224-41fd-bb68-008169d358c0",
   "metadata": {
    "scrolled": true
   },
   "outputs": [],
   "source": [
    "aia_dir = '/Users/jmdunca2/sample_aia/sample_aia/'\n",
    "\n",
    "all_maps=[]\n",
    "for k in keys:\n",
    "    print(k)\n",
    "    if k == '22-apr-16_1':\n",
    "        continue\n",
    "\n",
    "    ARDict = data[k]\n",
    "\n",
    "    id_dirs = ARDict['datapaths']\n",
    "    aiamaps = iac.get_orbit_aiamaps(aia_dir, id_dirs, wave=94)   \n",
    "    all_maps.append(aiamaps[0])\n",
    "    \n",
    "    # obsids = ARDict['obsids']\n",
    "    # working_dir = ARDict['working_dir']\n",
    "\n",
    "    # if method=='double':\n",
    "    #     gauss_stats = ARDict['gauss_stats']\n",
    "    #     sep_axis = gauss_stats[0][0]\n",
    "    # else:\n",
    "    #     sep_axis = ''"
   ]
  },
  {
   "cell_type": "code",
   "execution_count": null,
   "id": "f73d26d7-3054-4ae0-a8cb-3cdd1379b46d",
   "metadata": {},
   "outputs": [],
   "source": [
    "len(all_maps)"
   ]
  },
  {
   "cell_type": "code",
   "execution_count": null,
   "id": "37785e25-6346-4955-a6a5-a1ec7367ccfb",
   "metadata": {},
   "outputs": [],
   "source": [
    "all_regiondicts = []\n",
    "\n",
    "for k in keys:\n",
    "    \n",
    "    regiondicts=[]\n",
    "    \n",
    "    if k == '22-apr-16_1':\n",
    "        continue\n",
    "\n",
    "    ARDict = data[k]\n",
    "    method = ARDict['method']\n",
    "    print(k)\n",
    "    orbdirs = glob.glob(ARDict['prepped_aia']+'*')\n",
    "    orbdirs.sort()\n",
    "    #print(orbdirs)\n",
    "    \n",
    "    timefiles = glob.glob(orbdirs[0]+'/*')\n",
    "    timefiles.sort()\n",
    "    print(timefiles[0])\n",
    "    \n",
    "    with open(timefiles[0], 'rb') as f:\n",
    "        aiadata = pickle.load(f)\n",
    "\n",
    "    if 'region0' in aiadata.keys():\n",
    "        try:\n",
    "            print('Reg 0: ', aiadata['region0'].keys())\n",
    "        except AttributeError:\n",
    "            #for i in range(1,14):\n",
    "            with open(timefiles[12], 'rb') as f:\n",
    "                aiadata = pickle.load(f)\n",
    "            print('Reg 0: ', aiadata['region0'].keys())\n",
    "\n",
    "        regiondicts.append(aiadata['region0'])\n",
    "            #print('Reg 0: ', aiadata['region0'].keys())\n",
    "            \n",
    "\n",
    "    if 'region1' in aiadata.keys():\n",
    "        print('Reg 1: ', aiadata['region1'].keys())\n",
    "        regiondicts.append(aiadata['region1'])\n",
    "\n",
    "    if 'radius' in aiadata.keys():\n",
    "        print(aiadata.keys())\n",
    "        regiondicts.append(aiadata)\n",
    "\n",
    "\n",
    "    all_regiondicts.append(regiondicts)\n",
    "\n",
    "\n",
    "    print('')"
   ]
  },
  {
   "cell_type": "code",
   "execution_count": null,
   "id": "f95b5352-0f56-430a-a650-2b14d4acf017",
   "metadata": {},
   "outputs": [],
   "source": [
    "len(all_regiondicts)"
   ]
  },
  {
   "cell_type": "code",
   "execution_count": null,
   "id": "55f39406-22b5-42c0-b745-d159d377f4ac",
   "metadata": {},
   "outputs": [],
   "source": [
    "(30/4)*7"
   ]
  },
  {
   "cell_type": "code",
   "execution_count": null,
   "id": "c8ff850c-5c6d-40a2-8e2e-9a87ec0834b5",
   "metadata": {},
   "outputs": [],
   "source": [
    "noindices = [0, 5, 9, 14, 15, 19, 20, 21]\n",
    "\n",
    "fig = plt.figure(figsize=(40,22))\n",
    "\n",
    "howmany=1\n",
    "for i in range(0, len(all_regiondicts)):\n",
    "\n",
    "    if i not in noindices:\n",
    "        #print(i)\n",
    "\n",
    "        m = all_maps[i]\n",
    "    \n",
    "        regd = all_regiondicts[i]\n",
    "        if len(regd) == 1:\n",
    "            xx = regd[0]['centerx'].value\n",
    "            yy = regd[0]['centery'].value\n",
    "        else:\n",
    "            xx = (regd[0]['centerx'].value + regd[1]['centerx'].value)/2.\n",
    "            yy = (regd[0]['centery'].value + regd[1]['centery'].value)/2.\n",
    "            \n",
    "    \n",
    "        #Set broad box for plotting (using region object)\n",
    "        bl=[(xx-275)*u.arcsec, (yy-275)*u.arcsec]\n",
    "        tr=[(xx+275)*u.arcsec,(yy+275)*u.arcsec]\n",
    "        #print(tr[0]-bl[0], tr[1]-bl[1])\n",
    "    \n",
    "        bottom_left = SkyCoord(bl[0]-100*u.arcsec, bl[1]-100*u.arcsec, frame=m.coordinate_frame)\n",
    "        top_right = SkyCoord(tr[0]+100*u.arcsec,tr[1]+100*u.arcsec, frame=m.coordinate_frame)\n",
    "        mm = m.submap(bottom_left=bottom_left, top_right=top_right)\n",
    "    \n",
    "        \n",
    "        ax = fig.add_subplot(4,7,howmany, projection=mm)\n",
    "        ax.set_axis_off()\n",
    "\n",
    "        norm = mm.plot_settings['norm']\n",
    "        #print(norm.vmin, norm.vmax)\n",
    "        norm.vmin, norm.vmax = 0.75, 60 #np.percentile(mm.data, [1, 99.9])\n",
    "        #print(norm.vmin, norm.vmax)\n",
    "        \n",
    "        mm.plot(axes=ax, norm=norm)\n",
    "        ax.set_title(mm.name[0:6]+r'$\\AA$'+mm.name[17:-3], fontsize=20)\n",
    "        howmany+=1\n",
    "\n",
    "        for r in regd:\n",
    "            region = iac.make_region(r, mm)\n",
    "            og_region = region.to_pixel(mm.wcs)                    \n",
    "            og_region.plot(axes=ax, color='red', ls='--', lw=3)\n",
    "\n",
    "        #print('')\n",
    "            \n",
    "        \n",
    "\n",
    "plt.savefig('All_regions_AIA94_reference.png')"
   ]
  },
  {
   "cell_type": "code",
   "execution_count": null,
   "id": "f0e241e0-8817-4e47-b6cf-1df1e79dcc20",
   "metadata": {},
   "outputs": [],
   "source": [
    "dir(mm)"
   ]
  },
  {
   "cell_type": "code",
   "execution_count": null,
   "id": "c3089831-0f3b-4914-81b2-e579f8873729",
   "metadata": {},
   "outputs": [],
   "source": [
    "mm.name[0:9]+r'$\\AA$'+mm.name[17:]"
   ]
  },
  {
   "cell_type": "code",
   "execution_count": null,
   "id": "4aca8a25-f3a9-4113-aff1-f9789cad9d8a",
   "metadata": {},
   "outputs": [],
   "source": [
    "print(r'Wavelength (\\AA)')"
   ]
  },
  {
   "cell_type": "code",
   "execution_count": null,
   "id": "4fe8079a-34a3-4283-afec-fbf0c899a8f5",
   "metadata": {},
   "outputs": [],
   "source": [
    "for i in range(0, len(keys)):\n",
    "    print(i, keys[i])"
   ]
  },
  {
   "cell_type": "code",
   "execution_count": null,
   "id": "597dce7d-80a8-4a7e-aab9-5c737939d2ac",
   "metadata": {},
   "outputs": [],
   "source": []
  }
 ],
 "metadata": {
  "kernelspec": {
   "display_name": "Python 3 (ipykernel)",
   "language": "python",
   "name": "python3"
  },
  "language_info": {
   "codemirror_mode": {
    "name": "ipython",
    "version": 3
   },
   "file_extension": ".py",
   "mimetype": "text/x-python",
   "name": "python",
   "nbconvert_exporter": "python",
   "pygments_lexer": "ipython3",
   "version": "3.10.13"
  }
 },
 "nbformat": 4,
 "nbformat_minor": 5
}
