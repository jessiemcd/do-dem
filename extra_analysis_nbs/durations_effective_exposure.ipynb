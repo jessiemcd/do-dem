{
 "cells": [
  {
   "cell_type": "code",
   "execution_count": 1,
   "id": "b458a5d2-57f3-4aea-9c49-c8963aaf3f60",
   "metadata": {
    "execution": {
     "iopub.execute_input": "2025-06-11T17:01:54.172724Z",
     "iopub.status.busy": "2025-06-11T17:01:54.172624Z",
     "iopub.status.idle": "2025-06-11T17:01:54.286189Z",
     "shell.execute_reply": "2025-06-11T17:01:54.285478Z",
     "shell.execute_reply.started": "2025-06-11T17:01:54.172712Z"
    }
   },
   "outputs": [
    {
     "ename": "ModuleNotFoundError",
     "evalue": "No module named 'all_nu_analysis'",
     "output_type": "error",
     "traceback": [
      "\u001b[0;31m---------------------------------------------------------------------------\u001b[0m",
      "\u001b[0;31mModuleNotFoundError\u001b[0m                       Traceback (most recent call last)",
      "Cell \u001b[0;32mIn[1], line 1\u001b[0m\n\u001b[0;32m----> 1\u001b[0m \u001b[38;5;28;01mimport\u001b[39;00m \u001b[38;5;21;01mall_nu_analysis\u001b[39;00m \u001b[38;5;28;01mas\u001b[39;00m \u001b[38;5;21;01mana\u001b[39;00m\n\u001b[1;32m      2\u001b[0m \u001b[38;5;28;01mimport\u001b[39;00m \u001b[38;5;21;01mglob\u001b[39;00m\n\u001b[1;32m      3\u001b[0m \u001b[38;5;28;01mimport\u001b[39;00m \u001b[38;5;21;01mimportlib\u001b[39;00m\n",
      "\u001b[0;31mModuleNotFoundError\u001b[0m: No module named 'all_nu_analysis'"
     ]
    }
   ],
   "source": [
    "import all_nu_analysis as ana\n",
    "import glob\n",
    "import importlib\n",
    "import numpy as np\n",
    "\n",
    "import visualize_dem_results as viz\n",
    "from astropy import units as u"
   ]
  },
  {
   "cell_type": "code",
   "execution_count": null,
   "id": "aadffd39-c82d-46bf-86a6-ebb529786052",
   "metadata": {
    "execution": {
     "iopub.status.busy": "2025-06-11T17:01:54.286473Z",
     "iopub.status.idle": "2025-06-11T17:01:54.286595Z",
     "shell.execute_reply": "2025-06-11T17:01:54.286530Z",
     "shell.execute_reply.started": "2025-06-11T17:01:54.286525Z"
    }
   },
   "outputs": [],
   "source": [
    "import pickle\n",
    "\n",
    "with open('/Users/jmdunca2/do-dem/result_file_dict.pickle', 'rb') as f:\n",
    "    dictz = pickle.load(f)"
   ]
  },
  {
   "cell_type": "code",
   "execution_count": null,
   "id": "bfabe99e-38f2-4b31-bc6a-a2ef1751a21c",
   "metadata": {
    "execution": {
     "iopub.status.busy": "2025-06-11T17:01:54.287153Z",
     "iopub.status.idle": "2025-06-11T17:01:54.287493Z",
     "shell.execute_reply": "2025-06-11T17:01:54.287375Z",
     "shell.execute_reply.started": "2025-06-11T17:01:54.287361Z"
    }
   },
   "outputs": [],
   "source": [
    "\n",
    "len(list(dictz.keys()))\n",
    "\n",
    "total_quiet_duration=0\n",
    "for f in filelist_:\n",
    "    data, timestring, time = viz.load_DEM(f)\n",
    "    print(data['nustar_datapath'])\n",
    "    #print(time)\n",
    "    print((time[1]-time[0]).to_value(u.s))\n",
    "    total_quiet_duration+=(time[1]-time[0]).to_value(u.s)\n",
    "    \n",
    "\n",
    "print((total_quiet_duration*u.s).to(u.hr))"
   ]
  },
  {
   "cell_type": "code",
   "execution_count": null,
   "id": "6b14e694-1dd4-47a1-b7fa-d8d217c21dc8",
   "metadata": {
    "execution": {
     "iopub.status.busy": "2025-06-11T17:01:54.288174Z",
     "iopub.status.idle": "2025-06-11T17:01:54.288348Z",
     "shell.execute_reply": "2025-06-11T17:01:54.288269Z",
     "shell.execute_reply.started": "2025-06-11T17:01:54.288261Z"
    }
   },
   "outputs": [],
   "source": [
    "importlib.reload(ana)\n",
    "\n",
    "filelist_2 = dictz['all regions']['flare files']\n",
    "filelist_2.sort()\n",
    "\n",
    "evtpaths=[]\n",
    "hkpaths=[]\n",
    "for f in filelist_2:\n",
    "    fpm='A'\n",
    "    #print(f)\n",
    "    data, timestring, time = viz.load_DEM(f)\n",
    "    hkpaths.append(data['nustar_datapath'])\n",
    "    thepath = pathlib.Path('/'.join(f.split('/')[0:-1])+'/')\n",
    "    thefiles = glob.glob(str(thepath)+'/*'+fpm+'*sunpos.evt')\n",
    "    evtpaths.append(thefiles[0])\n",
    "\n",
    "\n",
    "\n",
    "\n",
    "durations, total, lvttotal = ana.get_durations(evtpaths, fpm='A', filepaths=True, hkpaths=hkpaths)\n",
    "print('Flaring – Duration: ', np.round(total, 2), '| Effective Exposure: ', np.round(lvttotal,2), '| Livetime %: ', np.round((lvttotal/total),2))\n"
   ]
  },
  {
   "cell_type": "code",
   "execution_count": null,
   "id": "2fa6c54c-af81-489f-b2b0-a409bfed6bdc",
   "metadata": {
    "execution": {
     "iopub.status.busy": "2025-06-11T17:01:54.288863Z",
     "iopub.status.idle": "2025-06-11T17:01:54.289091Z",
     "shell.execute_reply": "2025-06-11T17:01:54.288959Z",
     "shell.execute_reply.started": "2025-06-11T17:01:54.288953Z"
    }
   },
   "outputs": [],
   "source": [
    "importlib.reload(ana)\n",
    "\n",
    "evtpaths=[]\n",
    "hkpaths=[]\n",
    "for f in filelist_:\n",
    "    fpm='A'\n",
    "    #print(f)\n",
    "    data, timestring, time = viz.load_DEM(f)\n",
    "    hkpaths.append(data['nustar_datapath'])\n",
    "    thepath = pathlib.Path('/'.join(f.split('/')[0:-1])+'/')\n",
    "    thefiles = glob.glob(str(thepath)+'/*'+fpm+'*sunpos.evt')\n",
    "    evtpaths.append(thefiles[0])\n",
    "\n",
    "\n",
    "\n",
    "\n",
    "durations, total, lvttotal = ana.get_durations(evtpaths, fpm='A', filepaths=True, hkpaths=hkpaths)\n",
    "print('Quiescent – Duration: ', np.round(total, 2), '| Effective Exposure: ', np.round(lvttotal,2), '| Livetime %: ', np.round((lvttotal/total),2))\n"
   ]
  }
 ],
 "metadata": {
  "kernelspec": {
   "display_name": "Python 3 (ipykernel)",
   "language": "python",
   "name": "python3"
  },
  "language_info": {
   "codemirror_mode": {
    "name": "ipython",
    "version": 3
   },
   "file_extension": ".py",
   "mimetype": "text/x-python",
   "name": "python",
   "nbconvert_exporter": "python",
   "pygments_lexer": "ipython3",
   "version": "3.10.13"
  }
 },
 "nbformat": 4,
 "nbformat_minor": 5
}
