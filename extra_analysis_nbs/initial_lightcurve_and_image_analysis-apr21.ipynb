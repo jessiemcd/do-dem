{
 "cells": [
  {
   "cell_type": "markdown",
   "id": "e8da3660-347a-4fb4-98b8-b5f8e9c2a3dc",
   "metadata": {},
   "source": [
    "As of the last time this was worked on, it'd not functioning because of the JSOC outage. Further edits may also be needed to bring the usage of the plotting here (from initial_analysis.py) in line with the current version of that code."
   ]
  },
  {
   "cell_type": "markdown",
   "id": "7848554d",
   "metadata": {},
   "source": [
    "First, edit the paths in the following cell to point to the correct locations on your system."
   ]
  },
  {
   "cell_type": "code",
   "execution_count": 1,
   "id": "dec12ae2",
   "metadata": {
    "ExecuteTime": {
     "end_time": "2023-11-27T13:45:15.155261Z",
     "start_time": "2023-11-27T13:45:10.917052Z"
    },
    "execution": {
     "iopub.execute_input": "2024-12-17T17:17:03.268713Z",
     "iopub.status.busy": "2024-12-17T17:17:03.268550Z",
     "iopub.status.idle": "2024-12-17T17:17:04.967466Z",
     "shell.execute_reply": "2024-12-17T17:17:04.967079Z",
     "shell.execute_reply.started": "2024-12-17T17:17:03.268691Z"
    }
   },
   "outputs": [
    {
     "data": {
      "text/plain": [
       "'/Users/jmdunca2/do-dem'"
      ]
     },
     "execution_count": 1,
     "metadata": {},
     "output_type": "execute_result"
    }
   ],
   "source": [
    "#AIA Error table - set path to location in your system.\n",
    "errortab='/Users/jmdunca2/ssw/sdo/aia/response/aia_V3_error_table.txt'\n",
    "\n",
    "#Sunpy data directory (or wherever else you store your downloaded AIA data)\n",
    "sunpy_dir='/Users/jmdunca2/sunpy/data/'\n",
    "\n",
    "#Path to top-level do-dem directory - edit for your system.\n",
    "path_to_dodem = '/Users/jmdunca2/do-dem/'\n",
    "from sys import path as sys_path\n",
    "sys_path.append(path_to_dodem+'/dodem/')\n",
    "\n",
    "#do-dem\n",
    "import lightcurves as lc\n",
    "import region_fitting as rf\n",
    "import nustar_dem_prep as nu\n",
    "import initial_analysis as ia\n",
    "import aia_dem_prep as ap\n",
    "#import dodem\n",
    "\n",
    "#Basics\n",
    "import numpy as np\n",
    "import importlib\n",
    "import matplotlib.pyplot as plt\n",
    "from astropy import units as u\n",
    "\n",
    "#Time\n",
    "import matplotlib.dates as mdates\n",
    "import astropy.time\n",
    "import datetime\n",
    "\n",
    "#File wrangling\n",
    "import glob\n",
    "import pickle\n",
    "import os\n",
    "import pathlib\n",
    "\n",
    "\n",
    "\n",
    "# from astropy.io import fits\n",
    "# import nustar_pysolar as nustar\n",
    "# import matplotlib.colors as colors\n",
    "# from astropy.coordinates import SkyCoord\n",
    "# from regions import CircleSkyRegion\n",
    "import importlib\n",
    "# import nustar_utilities as nuutil\n",
    "# import shutil\n",
    "\n",
    "\n",
    "os.getcwd()"
   ]
  },
  {
   "cell_type": "markdown",
   "id": "fc5040f8",
   "metadata": {},
   "source": [
    "First, let's take a look at the NuSTAR lightcurves."
   ]
  },
  {
   "cell_type": "code",
   "execution_count": 2,
   "id": "e54600e1",
   "metadata": {
    "ExecuteTime": {
     "end_time": "2023-11-27T13:45:23.759568Z",
     "start_time": "2023-11-27T13:45:15.165401Z"
    },
    "editable": true,
    "execution": {
     "iopub.execute_input": "2024-12-17T17:17:04.968915Z",
     "iopub.status.busy": "2024-12-17T17:17:04.968561Z",
     "iopub.status.idle": "2024-12-17T17:17:04.971180Z",
     "shell.execute_reply": "2024-12-17T17:17:04.970833Z",
     "shell.execute_reply.started": "2024-12-17T17:17:04.968902Z"
    },
    "slideshow": {
     "slide_type": ""
    },
    "tags": []
   },
   "outputs": [],
   "source": [
    "# importlib.reload(lc)\n",
    "# #Name your working directory\n",
    "# working_dir='./initial_dem/'\n",
    "\n",
    "# #Make a new working directory for prepped data/etc if it doesn't yet exist\n",
    "# save_path = pathlib.Path(working_dir)\n",
    "# if not save_path.exists():\n",
    "#     save_path.mkdir()\n",
    "    \n",
    "# #Set path to obsid directory - initial pipeline should have been run already.\n",
    "# datapath='/Users/jmdunca2/nustar/apr-2021/20615001001/'\n",
    "# obsid='20615001001'\n",
    "# #datapath='/Users/jmdunca2/nustar/jul-2021/90710201001/'\n",
    "# #obsid='90710201001'\n",
    "\n",
    "\n",
    "# #Comment second line if you're not using this same example nustar orbit\n",
    "# #Edit it to include only the desired time interval (default- all times in file) once you've run this once\n",
    "# timerange=[]\n",
    "# timerange=[datetime.datetime(2021, 4, 29, 14, 53, 30), datetime.datetime(2021, 4, 29, 15, 53, 30)]\n",
    "# from datetime import timezone\n",
    "# timerange = [t.replace(tzinfo=timezone.utc) for t in timerange]\n",
    "\n",
    "# evtA = glob.glob(datapath+'/event_cl/*A06_cl.evt')\n",
    "# evtB = glob.glob(datapath+'/event_cl/*B06_cl.evt')\n",
    "# hkA  = glob.glob(datapath+'/hk/*A_fpm.hk')\n",
    "# hkB  = glob.glob(datapath+'/hk/*B_fpm.hk')\n",
    "\n",
    "# importlib.reload(lc)\n",
    "# lc.prepare_nustar_lightcurves(evtA, evtB, hkA, hkB, timebin=15, erange=[2.,4.], \n",
    "#                               livetime_corr=False, save_dir=working_dir)\n",
    "# lc.prepare_nustar_lightcurves(evtA, evtB, hkA, hkB, timebin=15, erange=[4.,6.], \n",
    "#                               livetime_corr=False, save_dir=working_dir)\n",
    "# lc.prepare_nustar_lightcurves(evtA, evtB, hkA, hkB, timebin=15, erange=[6.,10.], \n",
    "#                               livetime_corr=False, save_dir=working_dir)\n",
    "\n",
    "# lc.plot_nustar_lightcurves(eranges = [[2.,4.],[4.,6.],[6.,10.]],\n",
    "#                            timerange=timerange, save_dir=working_dir)"
   ]
  },
  {
   "cell_type": "markdown",
   "id": "28145614-df0f-4fe0-a9d0-d92709c9e608",
   "metadata": {
    "editable": true,
    "slideshow": {
     "slide_type": ""
    },
    "tags": []
   },
   "source": [
    "First, make time-interval and grade specific .evt files to use to pick your regions for generating spectral data products later. To make additional copies for different regions, re-run with different directory names (working_dir) – or just copy them over (nothing is region-specific yet). "
   ]
  },
  {
   "cell_type": "code",
   "execution_count": 3,
   "id": "d57b7b21-0367-495a-8842-835a108f1f7b",
   "metadata": {
    "editable": true,
    "execution": {
     "iopub.execute_input": "2024-12-17T17:17:04.971797Z",
     "iopub.status.busy": "2024-12-17T17:17:04.971622Z",
     "iopub.status.idle": "2024-12-17T17:17:04.973740Z",
     "shell.execute_reply": "2024-12-17T17:17:04.973492Z",
     "shell.execute_reply.started": "2024-12-17T17:17:04.971784Z"
    },
    "slideshow": {
     "slide_type": ""
    },
    "tags": []
   },
   "outputs": [],
   "source": [
    "# importlib.reload(nu)\n",
    "# working_dir='./apr-2021/'\n",
    "# #Make a new working directory for prepped data/etc if it doesn't yet exist\n",
    "# save_path = pathlib.Path(working_dir)\n",
    "# if not save_path.exists():\n",
    "#     save_path.mkdir()\n",
    "\n",
    "# #magixs2_interval = [astropy.time.Time('2024-07-16T19:03:30', scale='utc', format='isot'),\n",
    "# #                    astropy.time.Time('2024-07-16T19:10:00', scale='utc', format='isot')]\n",
    "# the_interval = [astropy.time.Time('2021-04-29T14:53:30', scale='utc', format='isot'),\n",
    "#                     astropy.time.Time('2021-04-29T15:16:00', scale='utc', format='isot')]\n",
    "# time_interval=the_interval\n",
    "\n",
    "# time = the_interval\n",
    "# timestring = time[0].strftime('%H-%M-%S')\n",
    "# stopstring = time[1].strftime('%H-%M-%S')\n",
    "# timestring=timestring+'_'+stopstring\n",
    "\n",
    "# #not actually used since we aren't making spectral data products yet\n",
    "# regfile=path_to_dodem+'starter_region.reg'\n",
    "\n",
    "# gtifile=datapath+'event_cl/nu'+obsid+'A06_gti.fits'\n",
    "# nu.make_nustar_products(time_interval, 'A', gtifile, datapath, regfile, working_dir, edit_regfile=False,\n",
    "#                             pile_up_corr=True, clobber=True, path_to_dodem=path_to_dodem, dip_before_products=True)\n",
    "\n",
    "# gtifile=datapath+'event_cl/nu'+obsid+'B06_gti.fits'\n",
    "# nu.make_nustar_products(time_interval, 'B', gtifile, datapath, regfile, working_dir, edit_regfile=False,\n",
    "#                             pile_up_corr=True, clobber=True, path_to_dodem=path_to_dodem, dip_before_products=True)\n"
   ]
  },
  {
   "cell_type": "code",
   "execution_count": 4,
   "id": "20eb598f-949d-423e-9891-c4773f643ded",
   "metadata": {
    "execution": {
     "iopub.execute_input": "2024-12-17T17:17:04.974320Z",
     "iopub.status.busy": "2024-12-17T17:17:04.974223Z",
     "iopub.status.idle": "2024-12-17T17:17:04.976179Z",
     "shell.execute_reply": "2024-12-17T17:17:04.975845Z",
     "shell.execute_reply.started": "2024-12-17T17:17:04.974310Z"
    }
   },
   "outputs": [],
   "source": [
    "# #Make a copy to do the other AR - if running for the first time\n",
    "# working_dir2='./jul-24-AR13743/'\n",
    "# shutil.copytree(working_dir+timestring, working_dir2+timestring)"
   ]
  },
  {
   "cell_type": "markdown",
   "id": "3f3b1884-d834-4bb2-8175-db1be225da4a",
   "metadata": {},
   "source": [
    "Now, make images in each grade, and refine the desired regions."
   ]
  },
  {
   "cell_type": "code",
   "execution_count": 5,
   "id": "e87175ed-88cf-4e46-bed8-bd79911f756b",
   "metadata": {
    "execution": {
     "iopub.execute_input": "2024-12-17T17:17:04.977024Z",
     "iopub.status.busy": "2024-12-17T17:17:04.976755Z",
     "iopub.status.idle": "2024-12-17T17:17:04.979293Z",
     "shell.execute_reply": "2024-12-17T17:17:04.978914Z",
     "shell.execute_reply.started": "2024-12-17T17:17:04.977005Z"
    }
   },
   "outputs": [],
   "source": [
    "# importlib.reload(ia)\n",
    "\n",
    "# midtime=astropy.time.Time('2021-04-29T15:07:00', scale='utc', format='isot')\n",
    "\n",
    "# working_dir='./apr-2021/'\n",
    "# regionsavename='initialreg_'\n",
    "# savefigdir=working_dir+timestring\n",
    "# specific_time_evt = glob.glob(working_dir+timestring+'/'+'*cl.evt') #.sort()\n",
    "# specific_time_evt.sort()\n",
    "# print(specific_time_evt)\n",
    "\n",
    "# regiondict = {'radius': 150,\n",
    "#               'centerx': 650*u.arcsec,\n",
    "#               'centery': -300*u.arcsec}\n",
    "\n",
    "# ia.nuevtplot(datapath, evtA=specific_time_evt[0], evtB=specific_time_evt[3],\n",
    "#           savefigdir=savefigdir,\n",
    "#           regiondictA=regiondict, regiondictB=regiondict,\n",
    "#          regionsavetime=midtime, regionsavename=regionsavename)    \n",
    "# ia.nuevtplot(datapath, evtA=specific_time_evt[1], evtB=specific_time_evt[4],\n",
    "#           savefigdir=savefigdir,\n",
    "#           regiondictA=regiondict, regiondictB=regiondict,\n",
    "#          regionsavetime=midtime, regionsavename=regionsavename) \n",
    "# ia.nuevtplot(datapath, evtA=specific_time_evt[2], evtB=specific_time_evt[5],\n",
    "#           savefigdir=savefigdir,\n",
    "#           regiondictA=regiondict, regiondictB=regiondict,\n",
    "#          regionsavetime=midtime, regionsavename=regionsavename)"
   ]
  },
  {
   "cell_type": "markdown",
   "id": "fa66013b-b12a-480a-b4f1-9d91566aad7a",
   "metadata": {},
   "source": [
    "Now, let's get a midtime AIA 94 \\AA image and see how the NuSTAR emission lines up with the observed regions. This will allow us to determine if double centers in NuSTAR represent unique targets, and also to find any offset between NuSTAR + AIA due to the NuSTAR pointing uncertainty. "
   ]
  },
  {
   "cell_type": "code",
   "execution_count": 6,
   "id": "95be313e-2e38-4730-9aea-43a41a6c33a4",
   "metadata": {
    "execution": {
     "iopub.execute_input": "2024-12-17T17:17:04.979854Z",
     "iopub.status.busy": "2024-12-17T17:17:04.979761Z",
     "iopub.status.idle": "2024-12-17T17:17:04.982092Z",
     "shell.execute_reply": "2024-12-17T17:17:04.981574Z",
     "shell.execute_reply.started": "2024-12-17T17:17:04.979845Z"
    }
   },
   "outputs": [],
   "source": [
    "# importlib.reload(ia)\n",
    "\n",
    "# working_dir='./apr-2021/'\n",
    "# regionsavename='initialreg_'\n",
    "# savefigdir=working_dir+timestring\n",
    "# specific_time_evt = glob.glob(working_dir+timestring+'/'+'*cl.evt') #.sort()\n",
    "# specific_time_evt.sort()\n",
    "# #print(specific_time_evt)\n",
    "\n",
    "# regiondict = {'radius': 150,\n",
    "#               'centerx': 650*u.arcsec,\n",
    "#               'centery': -300*u.arcsec}\n",
    "\n",
    "# ia.nuevtplot(datapath, evtA=specific_time_evt[0], evtB=specific_time_evt[3],\n",
    "#           savefigdir=savefigdir, AIA94=True,\n",
    "#           regiondictA=regiondict, regiondictB=regiondict,\n",
    "#          regionsavetime=midtime, regionsavename=regionsavename) "
   ]
  },
  {
   "cell_type": "markdown",
   "id": "3696f479-96c3-4407-9636-9f3aeba3f132",
   "metadata": {},
   "source": [
    "Looks like the NuSTAR data definitely includes a large pointing shift! Let's look at when that might occur.\n",
    "\n",
    "(Add Reed's code here)"
   ]
  },
  {
   "cell_type": "code",
   "execution_count": 15,
   "id": "3ecd3198-f527-4156-bafc-9d8e4a1fadbb",
   "metadata": {
    "execution": {
     "iopub.execute_input": "2024-12-17T17:21:29.323257Z",
     "iopub.status.busy": "2024-12-17T17:21:29.322181Z",
     "iopub.status.idle": "2024-12-17T17:21:29.341398Z",
     "shell.execute_reply": "2024-12-17T17:21:29.340783Z",
     "shell.execute_reply.started": "2024-12-17T17:21:29.323187Z"
    }
   },
   "outputs": [],
   "source": [
    "def nuevtplot_wrapper(time_interval, working_dir='./apr-2021/', regiondict=[], obsid='', datapath='',\n",
    "                      first=False, inputaia=[]):\n",
    "\n",
    "\n",
    "    \"\"\"\n",
    "    Starting from a \n",
    "    \"\"\"\n",
    "\n",
    "    \n",
    "    importlib.reload(ia)\n",
    "    \n",
    "    #Make a new working directory for prepped data/etc if it doesn't yet exist\n",
    "    save_path = pathlib.Path(working_dir)\n",
    "    if not save_path.exists():\n",
    "        save_path.mkdir()\n",
    "\n",
    "    time = time_interval\n",
    "    timestring = time[0].strftime('%H-%M-%S')\n",
    "    stopstring = time[1].strftime('%H-%M-%S')\n",
    "    timestring=timestring+'_'+stopstring\n",
    "\n",
    "    if first:\n",
    "        #not actually used since we aren't making spectral data products yet\n",
    "        regfile=path_to_dodem+'starter_region.reg'\n",
    "        \n",
    "        gtifile=datapath+'event_cl/nu'+obsid+'A06_gti.fits'\n",
    "        nu.make_nustar_products(time_interval, 'A', gtifile, datapath, regfile, working_dir, edit_regfile=False,\n",
    "                                    pile_up_corr=True, clobber=True, path_to_dodem=path_to_dodem, dip_before_products=True)\n",
    "        \n",
    "        gtifile=datapath+'event_cl/nu'+obsid+'B06_gti.fits'\n",
    "        nu.make_nustar_products(time_interval, 'B', gtifile, datapath, regfile, working_dir, edit_regfile=False,\n",
    "                                    pile_up_corr=True, clobber=True, path_to_dodem=path_to_dodem, dip_before_products=True)\n",
    "\n",
    "\n",
    "    #≠≠≠≠≠≠≠≠≠≠≠≠≠≠≠≠≠≠≠≠≠≠≠≠≠≠≠≠≠≠≠≠≠≠≠≠≠≠≠≠≠≠≠≠≠≠≠≠≠≠≠≠≠≠\n",
    "    #Now time to make plot\n",
    "    #≠≠≠≠≠≠≠≠≠≠≠≠≠≠≠≠≠≠≠≠≠≠≠≠≠≠≠≠≠≠≠≠≠≠≠≠≠≠≠≠≠≠≠≠≠≠≠≠≠≠≠≠≠≠\n",
    "    \n",
    "    regionsavename='initialreg_'\n",
    "    savefigdir=working_dir+timestring\n",
    "    specific_time_evt = glob.glob(working_dir+timestring+'/'+'*cl.evt') #.sort()\n",
    "    specific_time_evt.sort()\n",
    "    print(specific_time_evt)\n",
    "\n",
    "    if first:\n",
    "        #First run: includes AIA download + prep\n",
    "        m=ia.nuevtplot(datapath=datapath, evtA=specific_time_evt[0], evtB=specific_time_evt[3],\n",
    "                  savefigdir=savefigdir, AIA94=True, nushift=[30, -120],\n",
    "                  regiondictA=regiondict, regiondictB=regiondict,\n",
    "                 regionsave=True, regionsavename=regionsavename, overlimb=True)\n",
    "\n",
    "    \n",
    "    else:\n",
    "        print(specific_time_evt[0])\n",
    "        m=ia.nuevtplot(datapath=datapath, evtA=specific_time_evt[0], evtB=specific_time_evt[3],\n",
    "              savefigdir=savefigdir, AIA94=True, nushift=[30, -120], input_aia=inputaia,\n",
    "              regiondictA=regiondict, regiondictB=regiondict,\n",
    "             regionsave=True, regionsavename=regionsavename, overlimb=True) \n",
    "\n",
    "\n",
    "    return m\n"
   ]
  },
  {
   "cell_type": "code",
   "execution_count": 16,
   "id": "91e64809-b4a6-4615-945f-09d4fef98e14",
   "metadata": {
    "execution": {
     "iopub.execute_input": "2024-12-17T17:21:31.038750Z",
     "iopub.status.busy": "2024-12-17T17:21:31.037945Z",
     "iopub.status.idle": "2024-12-17T17:21:44.902735Z",
     "shell.execute_reply": "2024-12-17T17:21:44.902253Z",
     "shell.execute_reply.started": "2024-12-17T17:21:31.038704Z"
    }
   },
   "outputs": [
    {
     "name": "stdout",
     "output_type": "stream",
     "text": [
      "['./apr-2021/15-04-00_15-05-00/nu20615001001A06_0_4_p_cl.evt', './apr-2021/15-04-00_15-05-00/nu20615001001A06_0_p_cl.evt', './apr-2021/15-04-00_15-05-00/nu20615001001A06_21_24_p_cl.evt', './apr-2021/15-04-00_15-05-00/nu20615001001B06_0_4_p_cl.evt', './apr-2021/15-04-00_15-05-00/nu20615001001B06_0_p_cl.evt', './apr-2021/15-04-00_15-05-00/nu20615001001B06_21_24_p_cl.evt']\n",
      "./apr-2021/15-04-00_15-05-00/nu20615001001A06_0_4_p_cl.evt\n",
      "Results from 1 Provider:\n",
      "\n",
      "1 Results from the VSOClient:\n",
      "Source: http://vso.stanford.edu/cgi-bin/search\n",
      "Total estimated size: 67.789 Mbyte\n",
      "\n",
      "       Start Time               End Time        Source ... Extent Type   Size  \n",
      "                                                       ...              Mibyte \n",
      "----------------------- ----------------------- ------ ... ----------- --------\n",
      "2021-04-29 15:04:23.000 2021-04-29 15:04:24.000    SDO ...    FULLDISK 64.64844\n",
      "\n",
      "\n"
     ]
    },
    {
     "data": {
      "application/vnd.jupyter.widget-view+json": {
       "model_id": "54f982aba2d2442480c8148c52223eb1",
       "version_major": 2,
       "version_minor": 0
      },
      "text/plain": [
       "Files Downloaded:   0%|          | 0/1 [00:00<?, ?file/s]"
      ]
     },
     "metadata": {},
     "output_type": "display_data"
    },
    {
     "name": "stdout",
     "output_type": "stream",
     "text": [
      "1/0 files failed to download. Please check `.errors` for details\n",
      "[]\n",
      "Errors:\n",
      "(<parfive.results.Error object at 0x16a861c60>\n",
      "http://netdrms01.nispdc.nso.edu/cgi-bin/netdrms/drms_export.cgi?series=aia__lev1;compress=rice;record=94_1398783902-1398783902,\n",
      "Download Failed: http://netdrms01.nispdc.nso.edu/cgi-bin/netdrms/drms_export.cgi?series=aia__lev1;compress=rice;record=94_1398783902-1398783902 with error <ClientResponse(http://netdrms01.nispdc.nso.edu/cgi-bin/netdrms/drms_export.cgi?series=aia__lev1;compress=rice;record=94_1398783902-1398783902) [500 Internal Server Error]>\n",
      "<CIMultiDictProxy('Date': 'Tue, 17 Dec 2024 17:21:41 GMT', 'Server': 'Apache/2.2.15 (CentOS)', 'Content-Length': '624', 'Connection': 'close', 'Content-Type': 'text/html; charset=iso-8859-1')>\n",
      ")\n"
     ]
    },
    {
     "ename": "RuntimeError",
     "evalue": "No maps loaded",
     "output_type": "error",
     "traceback": [
      "\u001b[0;31m---------------------------------------------------------------------------\u001b[0m",
      "\u001b[0;31mRuntimeError\u001b[0m                              Traceback (most recent call last)",
      "Cell \u001b[0;32mIn[16], line 10\u001b[0m\n\u001b[1;32m      4\u001b[0m regiondict \u001b[38;5;241m=\u001b[39m {\u001b[38;5;124m'\u001b[39m\u001b[38;5;124mradius\u001b[39m\u001b[38;5;124m'\u001b[39m: \u001b[38;5;241m100\u001b[39m,\n\u001b[1;32m      5\u001b[0m               \u001b[38;5;124m'\u001b[39m\u001b[38;5;124mcenterx\u001b[39m\u001b[38;5;124m'\u001b[39m: \u001b[38;5;241m750\u001b[39m\u001b[38;5;241m*\u001b[39mu\u001b[38;5;241m.\u001b[39marcsec,\n\u001b[1;32m      6\u001b[0m               \u001b[38;5;124m'\u001b[39m\u001b[38;5;124mcentery\u001b[39m\u001b[38;5;124m'\u001b[39m: \u001b[38;5;241m-\u001b[39m\u001b[38;5;241m200\u001b[39m\u001b[38;5;241m*\u001b[39mu\u001b[38;5;241m.\u001b[39marcsec}\n\u001b[1;32m      8\u001b[0m time_interval \u001b[38;5;241m=\u001b[39m [astropy\u001b[38;5;241m.\u001b[39mtime\u001b[38;5;241m.\u001b[39mTime(\u001b[38;5;124m'\u001b[39m\u001b[38;5;124m2021-04-29T15:04:00\u001b[39m\u001b[38;5;124m'\u001b[39m, scale\u001b[38;5;241m=\u001b[39m\u001b[38;5;124m'\u001b[39m\u001b[38;5;124mutc\u001b[39m\u001b[38;5;124m'\u001b[39m, \u001b[38;5;28mformat\u001b[39m\u001b[38;5;241m=\u001b[39m\u001b[38;5;124m'\u001b[39m\u001b[38;5;124misot\u001b[39m\u001b[38;5;124m'\u001b[39m),\n\u001b[1;32m      9\u001b[0m                     astropy\u001b[38;5;241m.\u001b[39mtime\u001b[38;5;241m.\u001b[39mTime(\u001b[38;5;124m'\u001b[39m\u001b[38;5;124m2021-04-29T15:05:00\u001b[39m\u001b[38;5;124m'\u001b[39m, scale\u001b[38;5;241m=\u001b[39m\u001b[38;5;124m'\u001b[39m\u001b[38;5;124mutc\u001b[39m\u001b[38;5;124m'\u001b[39m, \u001b[38;5;28mformat\u001b[39m\u001b[38;5;241m=\u001b[39m\u001b[38;5;124m'\u001b[39m\u001b[38;5;124misot\u001b[39m\u001b[38;5;124m'\u001b[39m)]\n\u001b[0;32m---> 10\u001b[0m m \u001b[38;5;241m=\u001b[39m \u001b[43mnuevtplot_wrapper\u001b[49m\u001b[43m(\u001b[49m\u001b[43mtime_interval\u001b[49m\u001b[43m,\u001b[49m\u001b[43m \u001b[49m\u001b[43mworking_dir\u001b[49m\u001b[38;5;241;43m=\u001b[39;49m\u001b[38;5;124;43m'\u001b[39;49m\u001b[38;5;124;43m./apr-2021/\u001b[39;49m\u001b[38;5;124;43m'\u001b[39;49m\u001b[43m,\u001b[49m\u001b[43m \u001b[49m\u001b[43mfirst\u001b[49m\u001b[38;5;241;43m=\u001b[39;49m\u001b[38;5;28;43;01mFalse\u001b[39;49;00m\u001b[43m,\u001b[49m\u001b[43m \u001b[49m\u001b[38;5;66;43;03m#inputaia=m, \u001b[39;49;00m\n\u001b[1;32m     11\u001b[0m \u001b[43m                      \u001b[49m\u001b[43mregiondict\u001b[49m\u001b[38;5;241;43m=\u001b[39;49m\u001b[43mregiondict\u001b[49m\u001b[43m,\u001b[49m\u001b[43m \u001b[49m\u001b[43mobsid\u001b[49m\u001b[38;5;241;43m=\u001b[39;49m\u001b[43mobsid\u001b[49m\u001b[43m)\u001b[49m\n\u001b[1;32m     13\u001b[0m time_interval \u001b[38;5;241m=\u001b[39m [astropy\u001b[38;5;241m.\u001b[39mtime\u001b[38;5;241m.\u001b[39mTime(\u001b[38;5;124m'\u001b[39m\u001b[38;5;124m2021-04-29T15:05:00\u001b[39m\u001b[38;5;124m'\u001b[39m, scale\u001b[38;5;241m=\u001b[39m\u001b[38;5;124m'\u001b[39m\u001b[38;5;124mutc\u001b[39m\u001b[38;5;124m'\u001b[39m, \u001b[38;5;28mformat\u001b[39m\u001b[38;5;241m=\u001b[39m\u001b[38;5;124m'\u001b[39m\u001b[38;5;124misot\u001b[39m\u001b[38;5;124m'\u001b[39m),\n\u001b[1;32m     14\u001b[0m                     astropy\u001b[38;5;241m.\u001b[39mtime\u001b[38;5;241m.\u001b[39mTime(\u001b[38;5;124m'\u001b[39m\u001b[38;5;124m2021-04-29T15:06:00\u001b[39m\u001b[38;5;124m'\u001b[39m, scale\u001b[38;5;241m=\u001b[39m\u001b[38;5;124m'\u001b[39m\u001b[38;5;124mutc\u001b[39m\u001b[38;5;124m'\u001b[39m, \u001b[38;5;28mformat\u001b[39m\u001b[38;5;241m=\u001b[39m\u001b[38;5;124m'\u001b[39m\u001b[38;5;124misot\u001b[39m\u001b[38;5;124m'\u001b[39m)]\n\u001b[1;32m     15\u001b[0m m1 \u001b[38;5;241m=\u001b[39m nuevtplot_wrapper(time_interval, working_dir\u001b[38;5;241m=\u001b[39m\u001b[38;5;124m'\u001b[39m\u001b[38;5;124m./apr-2021/\u001b[39m\u001b[38;5;124m'\u001b[39m, first\u001b[38;5;241m=\u001b[39m\u001b[38;5;28;01mFalse\u001b[39;00m, \u001b[38;5;66;03m#inputaia=m1, \u001b[39;00m\n\u001b[1;32m     16\u001b[0m                        regiondict\u001b[38;5;241m=\u001b[39mregiondict, obsid\u001b[38;5;241m=\u001b[39mobsid)\n",
      "Cell \u001b[0;32mIn[15], line 55\u001b[0m, in \u001b[0;36mnuevtplot_wrapper\u001b[0;34m(time_interval, working_dir, regiondict, obsid, datapath, first, inputaia)\u001b[0m\n\u001b[1;32m     53\u001b[0m \u001b[38;5;28;01melse\u001b[39;00m:\n\u001b[1;32m     54\u001b[0m     \u001b[38;5;28mprint\u001b[39m(specific_time_evt[\u001b[38;5;241m0\u001b[39m])\n\u001b[0;32m---> 55\u001b[0m     m\u001b[38;5;241m=\u001b[39m\u001b[43mia\u001b[49m\u001b[38;5;241;43m.\u001b[39;49m\u001b[43mnuevtplot\u001b[49m\u001b[43m(\u001b[49m\u001b[43mdatapath\u001b[49m\u001b[38;5;241;43m=\u001b[39;49m\u001b[43mdatapath\u001b[49m\u001b[43m,\u001b[49m\u001b[43m \u001b[49m\u001b[43mevtA\u001b[49m\u001b[38;5;241;43m=\u001b[39;49m\u001b[43mspecific_time_evt\u001b[49m\u001b[43m[\u001b[49m\u001b[38;5;241;43m0\u001b[39;49m\u001b[43m]\u001b[49m\u001b[43m,\u001b[49m\u001b[43m \u001b[49m\u001b[43mevtB\u001b[49m\u001b[38;5;241;43m=\u001b[39;49m\u001b[43mspecific_time_evt\u001b[49m\u001b[43m[\u001b[49m\u001b[38;5;241;43m3\u001b[39;49m\u001b[43m]\u001b[49m\u001b[43m,\u001b[49m\n\u001b[1;32m     56\u001b[0m \u001b[43m          \u001b[49m\u001b[43msavefigdir\u001b[49m\u001b[38;5;241;43m=\u001b[39;49m\u001b[43msavefigdir\u001b[49m\u001b[43m,\u001b[49m\u001b[43m \u001b[49m\u001b[43mAIA94\u001b[49m\u001b[38;5;241;43m=\u001b[39;49m\u001b[38;5;28;43;01mTrue\u001b[39;49;00m\u001b[43m,\u001b[49m\u001b[43m \u001b[49m\u001b[43mnushift\u001b[49m\u001b[38;5;241;43m=\u001b[39;49m\u001b[43m[\u001b[49m\u001b[38;5;241;43m30\u001b[39;49m\u001b[43m,\u001b[49m\u001b[43m \u001b[49m\u001b[38;5;241;43m-\u001b[39;49m\u001b[38;5;241;43m120\u001b[39;49m\u001b[43m]\u001b[49m\u001b[43m,\u001b[49m\u001b[43m \u001b[49m\u001b[43minput_aia\u001b[49m\u001b[38;5;241;43m=\u001b[39;49m\u001b[43minputaia\u001b[49m\u001b[43m,\u001b[49m\n\u001b[1;32m     57\u001b[0m \u001b[43m          \u001b[49m\u001b[43mregiondictA\u001b[49m\u001b[38;5;241;43m=\u001b[39;49m\u001b[43mregiondict\u001b[49m\u001b[43m,\u001b[49m\u001b[43m \u001b[49m\u001b[43mregiondictB\u001b[49m\u001b[38;5;241;43m=\u001b[39;49m\u001b[43mregiondict\u001b[49m\u001b[43m,\u001b[49m\n\u001b[1;32m     58\u001b[0m \u001b[43m         \u001b[49m\u001b[43mregionsave\u001b[49m\u001b[38;5;241;43m=\u001b[39;49m\u001b[38;5;28;43;01mTrue\u001b[39;49;00m\u001b[43m,\u001b[49m\u001b[43m \u001b[49m\u001b[43mregionsavename\u001b[49m\u001b[38;5;241;43m=\u001b[39;49m\u001b[43mregionsavename\u001b[49m\u001b[43m,\u001b[49m\u001b[43m \u001b[49m\u001b[43moverlimb\u001b[49m\u001b[38;5;241;43m=\u001b[39;49m\u001b[38;5;28;43;01mTrue\u001b[39;49;00m\u001b[43m)\u001b[49m \n\u001b[1;32m     61\u001b[0m \u001b[38;5;28;01mreturn\u001b[39;00m m\n",
      "File \u001b[0;32m~/do-dem//dodem/initial_analysis.py:218\u001b[0m, in \u001b[0;36mnuevtplot\u001b[0;34m(evtA, evtB, datapath, AIA94, nushift, input_aia, savefigdir, regiondictA, regiondictB, regionsave, regionsavename, starter_region, overlimb)\u001b[0m\n\u001b[1;32m    216\u001b[0m \u001b[38;5;28mprint\u001b[39m(files)\n\u001b[1;32m    217\u001b[0m \u001b[38;5;28;01mtry\u001b[39;00m:\n\u001b[0;32m--> 218\u001b[0m     amap\u001b[38;5;241m=\u001b[39m\u001b[43msunpy\u001b[49m\u001b[38;5;241;43m.\u001b[39;49m\u001b[43mmap\u001b[49m\u001b[38;5;241;43m.\u001b[39;49m\u001b[43mMap\u001b[49m\u001b[43m(\u001b[49m\u001b[43mfiles\u001b[49m\u001b[43m)\u001b[49m\n\u001b[1;32m    219\u001b[0m     \u001b[38;5;66;03m#If things keep failing on the pointing table line, it may be an issue with the actual AIA map – try another time.\u001b[39;00m\n\u001b[1;32m    220\u001b[0m     ptab \u001b[38;5;241m=\u001b[39m get_pointing_table(amap\u001b[38;5;241m.\u001b[39mdate \u001b[38;5;241m-\u001b[39m \u001b[38;5;241m12\u001b[39m \u001b[38;5;241m*\u001b[39m u\u001b[38;5;241m.\u001b[39mh, amap\u001b[38;5;241m.\u001b[39mdate \u001b[38;5;241m+\u001b[39m \u001b[38;5;241m12\u001b[39m \u001b[38;5;241m*\u001b[39m u\u001b[38;5;241m.\u001b[39mh)\n",
      "File \u001b[0;32m~/miniforge3/lib/python3.10/site-packages/sunpy/map/map_factory.py:276\u001b[0m, in \u001b[0;36mMapFactory.__call__\u001b[0;34m(self, composite, sequence, silence_errors, *args, **kwargs)\u001b[0m\n\u001b[1;32m    273\u001b[0m         warn_user(\u001b[38;5;124mf\u001b[39m\u001b[38;5;124m\"\u001b[39m\u001b[38;5;124mOne of the data, header pairs failed to validate with: \u001b[39m\u001b[38;5;132;01m{\u001b[39;00me\u001b[38;5;132;01m}\u001b[39;00m\u001b[38;5;124m\"\u001b[39m)\n\u001b[1;32m    275\u001b[0m \u001b[38;5;28;01mif\u001b[39;00m \u001b[38;5;129;01mnot\u001b[39;00m \u001b[38;5;28mlen\u001b[39m(new_maps):\n\u001b[0;32m--> 276\u001b[0m     \u001b[38;5;28;01mraise\u001b[39;00m \u001b[38;5;167;01mRuntimeError\u001b[39;00m(\u001b[38;5;124m'\u001b[39m\u001b[38;5;124mNo maps loaded\u001b[39m\u001b[38;5;124m'\u001b[39m)\n\u001b[1;32m    278\u001b[0m \u001b[38;5;66;03m# If the list is meant to be a sequence, instantiate a map sequence\u001b[39;00m\n\u001b[1;32m    279\u001b[0m \u001b[38;5;28;01mif\u001b[39;00m sequence:\n",
      "\u001b[0;31mRuntimeError\u001b[0m: No maps loaded"
     ]
    },
    {
     "data": {
      "text/plain": [
       "<Figure size 1400x2200 with 0 Axes>"
      ]
     },
     "metadata": {},
     "output_type": "display_data"
    }
   ],
   "source": [
    "datapath='/Users/jmdunca2/nustar/apr-2021/20615001001/'\n",
    "obsid='20615001001'\n",
    "\n",
    "regiondict = {'radius': 100,\n",
    "              'centerx': 750*u.arcsec,\n",
    "              'centery': -200*u.arcsec}\n",
    "\n",
    "time_interval = [astropy.time.Time('2021-04-29T15:04:00', scale='utc', format='isot'),\n",
    "                    astropy.time.Time('2021-04-29T15:05:00', scale='utc', format='isot')]\n",
    "m = nuevtplot_wrapper(time_interval, working_dir='./apr-2021/', first=False, #inputaia=m, \n",
    "                      regiondict=regiondict, obsid=obsid)\n",
    "\n",
    "time_interval = [astropy.time.Time('2021-04-29T15:05:00', scale='utc', format='isot'),\n",
    "                    astropy.time.Time('2021-04-29T15:06:00', scale='utc', format='isot')]\n",
    "m1 = nuevtplot_wrapper(time_interval, working_dir='./apr-2021/', first=False, #inputaia=m1, \n",
    "                       regiondict=regiondict, obsid=obsid)\n",
    "\n",
    "time_interval = [astropy.time.Time('2021-04-29T15:06:00', scale='utc', format='isot'),\n",
    "                    astropy.time.Time('2021-04-29T15:07:00', scale='utc', format='isot')]\n",
    "m2 = nuevtplot_wrapper(time_interval, working_dir='./apr-2021/', first=False, #inputaia=m2, \n",
    "                       regiondict=regiondict, obsid=obsid)\n"
   ]
  },
  {
   "cell_type": "code",
   "execution_count": null,
   "id": "aaf91179-3935-4d9d-82ba-f9bf80aa9e83",
   "metadata": {},
   "outputs": [],
   "source": [
    "the_interval = [astropy.time.Time('2021-04-29T15:05:30', scale='utc', format='isot'),\n",
    "                    astropy.time.Time('2021-04-29T15:15:00', scale='utc', format='isot')]\n",
    "\n",
    "the_interval = [astropy.time.Time('2021-04-29T14:53:30', scale='utc', format='isot'),\n",
    "                    astropy.time.Time('2021-04-29T15:01:00', scale='utc', format='isot')]\n",
    "\n",
    "the_interval = [astropy.time.Time('2021-04-29T15:05:15', scale='utc', format='isot'),\n",
    "                    astropy.time.Time('2021-04-29T15:06:00', scale='utc', format='isot')]"
   ]
  },
  {
   "cell_type": "markdown",
   "id": "d5543382-f811-4872-98cd-75cb038e0528",
   "metadata": {},
   "source": [
    "Let's see how things look for just a few minute interval:"
   ]
  },
  {
   "cell_type": "code",
   "execution_count": null,
   "id": "8704b0f6-949c-40b4-9b4b-26abbc16b7c2",
   "metadata": {},
   "outputs": [],
   "source": [
    "importlib.reload(nu)\n",
    "importlib.reload(ia)\n",
    "\n",
    "working_dir='./apr-2021/'\n",
    "#Make a new working directory for prepped data/etc if it doesn't yet exist\n",
    "save_path = pathlib.Path(working_dir)\n",
    "if not save_path.exists():\n",
    "    save_path.mkdir()\n",
    "\n",
    "\n",
    "the_interval = [astropy.time.Time('2021-04-29T15:05:15', scale='utc', format='isot'),\n",
    "                    astropy.time.Time('2021-04-29T15:06:00', scale='utc', format='isot')]\n",
    "time_interval=the_interval\n",
    "\n",
    "time = the_interval\n",
    "timestring = time[0].strftime('%H-%M-%S')\n",
    "stopstring = time[1].strftime('%H-%M-%S')\n",
    "timestring=timestring+'_'+stopstring\n",
    "\n",
    "#not actually used since we aren't making spectral data products yet\n",
    "regfile=path_to_dodem+'starter_region.reg'\n",
    "\n",
    "gtifile=datapath+'event_cl/nu'+obsid+'A06_gti.fits'\n",
    "nu.make_nustar_products(time_interval, 'A', gtifile, datapath, regfile, working_dir, edit_regfile=False,\n",
    "                            pile_up_corr=True, clobber=True, path_to_dodem=path_to_dodem, dip_before_products=True)\n",
    "\n",
    "gtifile=datapath+'event_cl/nu'+obsid+'B06_gti.fits'\n",
    "nu.make_nustar_products(time_interval, 'B', gtifile, datapath, regfile, working_dir, edit_regfile=False,\n",
    "                            pile_up_corr=True, clobber=True, path_to_dodem=path_to_dodem, dip_before_products=True)\n",
    "\n",
    "#≠≠≠≠≠≠≠≠≠≠≠≠≠≠≠≠≠≠≠≠≠≠≠≠≠≠≠≠≠≠≠≠≠≠≠≠≠≠≠≠≠≠≠≠≠≠≠≠≠≠≠≠≠≠\n",
    "#Now time to make plot\n",
    "#≠≠≠≠≠≠≠≠≠≠≠≠≠≠≠≠≠≠≠≠≠≠≠≠≠≠≠≠≠≠≠≠≠≠≠≠≠≠≠≠≠≠≠≠≠≠≠≠≠≠≠≠≠≠\n",
    "\n",
    "regionsavename='initialreg_'\n",
    "savefigdir=working_dir+timestring\n",
    "specific_time_evt = glob.glob(working_dir+timestring+'/'+'*cl.evt') #.sort()\n",
    "specific_time_evt.sort()\n",
    "#print(specific_time_evt)\n",
    "\n",
    "regiondict = {'radius': 100,\n",
    "              'centerx': 750*u.arcsec,\n",
    "              'centery': -200*u.arcsec}\n",
    "\n",
    "#First run: includes AIA download + prep\n",
    "m=ia.nuevtplot(datapath, evtA=specific_time_evt[0], evtB=specific_time_evt[3],\n",
    "          savefigdir=savefigdir, AIA94=True, nushift=[10, -100],\n",
    "          regiondictA=regiondict, regiondictB=regiondict,\n",
    "         regionsave=True, regionsavename=regionsavename) \n",
    "\n",
    "# m=ia.nuevtplot(datapath, evtA=specific_time_evt[0], evtB=specific_time_evt[3],\n",
    "#           savefigdir=savefigdir, AIA94=True, nushift=[30, -120], input_aia=m,\n",
    "#           regiondictA=regiondict, regiondictB=regiondict,\n",
    "#          regionsave=True, regionsavename=regionsavename) "
   ]
  },
  {
   "cell_type": "code",
   "execution_count": null,
   "id": "f24ccb4e-32ea-4ab9-afba-a7865609322f",
   "metadata": {},
   "outputs": [],
   "source": []
  },
  {
   "cell_type": "code",
   "execution_count": null,
   "id": "c5947c8a-43a8-4ae8-a4d5-ca83b525e6ab",
   "metadata": {},
   "outputs": [],
   "source": []
  },
  {
   "cell_type": "code",
   "execution_count": null,
   "id": "f0563117-f7d7-4d57-b7d2-c3309eb11c03",
   "metadata": {},
   "outputs": [],
   "source": [
    "shift=[40,-40]"
   ]
  },
  {
   "cell_type": "code",
   "execution_count": null,
   "id": "ecf87ce5-3abc-4808-9fad-9cf2ed7b6d7e",
   "metadata": {},
   "outputs": [],
   "source": [
    "str(shift)"
   ]
  },
  {
   "cell_type": "code",
   "execution_count": null,
   "id": "410dce08-f937-4145-98c0-07d0ae60722b",
   "metadata": {},
   "outputs": [],
   "source": []
  },
  {
   "cell_type": "code",
   "execution_count": null,
   "id": "dbef3f1a-f162-45b9-a73e-2ff28a335770",
   "metadata": {},
   "outputs": [],
   "source": []
  },
  {
   "cell_type": "code",
   "execution_count": null,
   "id": "bedce97c-74e5-4143-b2e1-920e91fd3bc8",
   "metadata": {},
   "outputs": [],
   "source": []
  },
  {
   "cell_type": "markdown",
   "id": "ea17bfe1-37bd-4031-93d1-ae7b5a38f22e",
   "metadata": {},
   "source": [
    "We want a wrapper function that will, for a specific NuSTAR time interval + datapath, make a combined NuSTAR/AIA image with superimposed regions. This is to determine:\n",
    "- If there is an issue with the NuSTAR region (e.g. from a mid-interval pointing shift). \n",
    "- What shift should be added to the AIA region to agree with the NuSTAR (possibly we get this from doing the opposite). "
   ]
  },
  {
   "cell_type": "markdown",
   "id": "fb3f11b5-37b6-4b32-984e-723c1e0a1ab9",
   "metadata": {},
   "source": [
    "Ideas for automated region checks: \n",
    "- Look for timestep-to-timestep shifts in COM location\n",
    "- Look for timestep-to-timestep shifts in % of emission is in COM region"
   ]
  },
  {
   "cell_type": "code",
   "execution_count": null,
   "id": "8a26fc84-484e-45d2-8dd8-47873fd4e84d",
   "metadata": {},
   "outputs": [],
   "source": []
  },
  {
   "cell_type": "code",
   "execution_count": null,
   "id": "f6140110-4119-48d2-b8d9-e5c43bd806bb",
   "metadata": {},
   "outputs": [],
   "source": []
  },
  {
   "cell_type": "code",
   "execution_count": null,
   "id": "18904d3a-0ec2-4da6-bc2e-091892a76e29",
   "metadata": {},
   "outputs": [],
   "source": []
  },
  {
   "cell_type": "code",
   "execution_count": null,
   "id": "594de9bb-c771-4016-946f-3c1f4682a2ec",
   "metadata": {},
   "outputs": [],
   "source": []
  },
  {
   "cell_type": "code",
   "execution_count": null,
   "id": "54d8edd5-e3b7-4a5b-a371-d7f7ec99b775",
   "metadata": {},
   "outputs": [],
   "source": []
  }
 ],
 "metadata": {
  "kernelspec": {
   "display_name": "Python 3 (ipykernel)",
   "language": "python",
   "name": "python3"
  },
  "language_info": {
   "codemirror_mode": {
    "name": "ipython",
    "version": 3
   },
   "file_extension": ".py",
   "mimetype": "text/x-python",
   "name": "python",
   "nbconvert_exporter": "python",
   "pygments_lexer": "ipython3",
   "version": "3.10.13"
  }
 },
 "nbformat": 4,
 "nbformat_minor": 5
}
