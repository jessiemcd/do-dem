{
 "cells": [
  {
   "cell_type": "markdown",
   "id": "4974afc2-59e1-46a9-822c-d18b59fc18e3",
   "metadata": {},
   "source": [
    "We are trying to evaluate how big of a deal pointing shifts are with respect to DEM results. We want to examine the actual change in NuSTAR DEM inputs related to changes in the region for a range of geometries related to pointing shifts – smearing, double centers – for a range of source brightnesses. Some of these are:\n",
    "\n",
    "- "
   ]
  },
  {
   "cell_type": "code",
   "execution_count": 1,
   "id": "ab998d64-a0e0-43bb-b48e-ece71bcfe5ed",
   "metadata": {
    "execution": {
     "iopub.execute_input": "2024-12-16T21:39:27.208766Z",
     "iopub.status.busy": "2024-12-16T21:39:27.207675Z",
     "iopub.status.idle": "2024-12-16T21:39:31.476755Z",
     "shell.execute_reply": "2024-12-16T21:39:31.476431Z",
     "shell.execute_reply.started": "2024-12-16T21:39:27.208697Z"
    }
   },
   "outputs": [],
   "source": [
    "import astropy.time\n",
    "import numpy as np\n",
    "from matplotlib import pyplot as plt\n",
    "\n",
    "path_to_dodem = '/Users/jmdunca2/do-dem/'\n",
    "from sys import path as sys_path\n",
    "sys_path.append(path_to_dodem+'/dodem/')\n",
    "\n",
    "import nustar_dem_prep as nu\n",
    "import region_fitting as rf\n",
    "\n",
    "\n",
    "import importlib\n",
    "import pathlib\n",
    "from astropy.io import fits\n",
    "import nustar_pysolar as nustar\n",
    "from astropy.coordinates import SkyCoord\n",
    "from regions import CircleSkyRegion\n",
    "from astropy import coordinates as coord\n"
   ]
  },
  {
   "cell_type": "code",
   "execution_count": 2,
   "id": "5b0e9709-fdff-4faa-8f76-7b97b47e5aee",
   "metadata": {
    "execution": {
     "iopub.execute_input": "2024-12-16T21:39:31.477824Z",
     "iopub.status.busy": "2024-12-16T21:39:31.477582Z",
     "iopub.status.idle": "2024-12-16T21:39:31.479913Z",
     "shell.execute_reply": "2024-12-16T21:39:31.479627Z",
     "shell.execute_reply.started": "2024-12-16T21:39:31.477810Z"
    }
   },
   "outputs": [],
   "source": [
    "working_dir='./shift_region_tests/'\n",
    "\n",
    "#Make a new working directory for prepped data/etc if it doesn't yet exist\n",
    "save_path = pathlib.Path(working_dir)\n",
    "if not save_path.exists():\n",
    "    save_path.mkdir()"
   ]
  },
  {
   "cell_type": "code",
   "execution_count": 3,
   "id": "ef91de74-2e0f-4699-a583-2707194641e0",
   "metadata": {
    "execution": {
     "iopub.execute_input": "2024-12-16T21:39:32.469574Z",
     "iopub.status.busy": "2024-12-16T21:39:32.468799Z",
     "iopub.status.idle": "2024-12-16T21:39:32.486331Z",
     "shell.execute_reply": "2024-12-16T21:39:32.485328Z",
     "shell.execute_reply.started": "2024-12-16T21:39:32.469528Z"
    }
   },
   "outputs": [],
   "source": [
    "def percents(evt_file, regfile):\n",
    "    with fits.open(evt_file) as hdu:\n",
    "        evt_data = hdu[1].data\n",
    "        hdr = hdu[1].header\n",
    "    \n",
    "    lowbounds=[0.,2.5,3.5,6.]#,10.]\n",
    "    \n",
    "    for low in lowbounds:\n",
    "        cleanevt = nustar.filter.event_filter(evt_data, energy_low=low, energy_high=20.,\n",
    "                                             no_bad_pix_filter=True, no_grade_filter=True)\n",
    "        #print(len(cleanevt), len(evt_data))\n",
    "        nustar_map = nustar.map.make_sunpy(cleanevt, hdr)\n",
    "    \n",
    "    \n",
    "        offset, rad = rf.read_regfile(regfile, time_interval[0], time_interval[1], 'hourangle')\n",
    "        region = CircleSkyRegion(\n",
    "                        center = coord.SkyCoord(offset[0], offset[1], frame=nustar_map.coordinate_frame),\n",
    "                        radius = rad\n",
    "                    )\n",
    "        \n",
    "        regdata = rf.get_region_data(nustar_map, region, 0)\n",
    "        percent = np.sum(regdata)/np.sum(nustar_map.data)\n",
    "        print('Percent of >'+str(low)+' keV emission in region:', percent)"
   ]
  },
  {
   "cell_type": "code",
   "execution_count": 4,
   "id": "4a93e5d1-2a5d-4530-b349-561abde67279",
   "metadata": {
    "execution": {
     "iopub.execute_input": "2024-12-16T21:39:40.050074Z",
     "iopub.status.busy": "2024-12-16T21:39:40.049600Z",
     "iopub.status.idle": "2024-12-16T21:39:51.866593Z",
     "shell.execute_reply": "2024-12-16T21:39:51.866287Z",
     "shell.execute_reply.started": "2024-12-16T21:39:40.050044Z"
    }
   },
   "outputs": [
    {
     "name": "stdout",
     "output_type": "stream",
     "text": [
      "18-27-55_18-28-25\n",
      "Percent of >0.0 keV emission in region: 0.84603629417383\n",
      "Percent of >2.5 keV emission in region: 0.8767462422634836\n",
      "Percent of >3.5 keV emission in region: 0.8983364140480592\n",
      "Percent of >6.0 keV emission in region: 0.9285714285714286\n",
      "Using input regfile:\n",
      "/Users/jmdunca2/do-dem/initial_dem_apr21/snowflakes/18-27-55_18-28-25/nu20615003001A06_0_4_p_cl_sunpos_COM_region.reg\n",
      "Using grades 0-4 NuSTAR events.\n",
      "\n",
      "For NuSTAR area, using region in:  /Users/jmdunca2/do-dem/initial_dem_apr21/snowflakes/18-27-55_18-28-25/nu20615003001A06_0_4_p_cl_sunpos_COM_region.reg\n",
      "Max NuSTAR Energy:  10.320000648498535\n",
      "Warning: there is at least one NuSTAR event of higher energy than your highest energy range\n",
      "Highest energy range: [6.0, 10.0]\n",
      "Total Above:  1\n",
      "Above Energies:  [10.32000065]\n",
      "\n",
      "2.5-3.5keV :     17406.95   3494.78  20 %\n",
      "3.5-6.0keV :     5819.32   1177.21  20 %\n",
      "6.0-10.0keV :     238.89   59.71  25 %\n"
     ]
    }
   ],
   "source": [
    "#Bright AR double center during shift:\n",
    "\n",
    "time_interval = [astropy.time.Time('2021-04-29T18:27:55', scale='utc', format='isot'),\n",
    "                    astropy.time.Time('2021-04-29T18:28:25', scale='utc', format='isot')]\n",
    "time = time_interval\n",
    "timestring = time[0].strftime('%H-%M-%S')\n",
    "stopstring = time[1].strftime('%H-%M-%S')\n",
    "timestring=timestring+'_'+stopstring\n",
    "print(timestring)\n",
    "\n",
    "datapath='/Users/jmdunca2/nustar/apr-2021/20615003001/'\n",
    "obsid='20615003001'\n",
    "\n",
    "gtifile=datapath+'event_cl/nu'+obsid+'A06_gti.fits'\n",
    "\n",
    "regfile=path_to_dodem+'initial_dem_apr21/snowflakes/'+timestring+'/nu20615003001A06_0_4_p_cl_sunpos_COM_region.reg'\n",
    "evt_file = path_to_dodem+'initial_dem_apr21/snowflakes/'+timestring+'/nu20615003001A06_0_4_p_cl_sunpos.evt'\n",
    "\n",
    "percents(evt_file, regfile)\n",
    "\n",
    "eng_tr=[[2.5,3.5], [3.5,6.], [6.,10.]]\n",
    "\n",
    "res = nu.load_nustar(time_interval, eng_tr, working_dir, 'A', make_nustar=True, gtifile=gtifile, datapath=datapath, regfile=regfile, \n",
    "                edit_regfile=False, compare_fpm=False, combine_fpm=True, actual_total_counts=False, nofit=False,\n",
    "                   use_fit_regfile=False, clobber=False, default_err=0.2, pile_up_corr=True, special_pha='', shush=True,\n",
    "                   adjacent_grades=True, path_to_dodem=path_to_dodem)\n",
    "\n",
    "\n",
    "dn_in=[]\n",
    "edn_in=[]\n",
    "chanax=[]\n",
    "combine_fpm=True\n",
    "rate, erate, nutrs, nu_tresp, nu_logt, fpm = res\n",
    "for i in range(0, len(nutrs)):\n",
    "    dn_in.append(rate[i])\n",
    "    edn_in.append(erate[i])\n",
    "    if combine_fpm==False:\n",
    "        chanax.append(nutrs[i]+'-'+fpm)\n",
    "    else:\n",
    "        chanax.append(nutrs[i])\n",
    "        \n",
    "print('')\n",
    "for i in np.arange(len(dn_in)):\n",
    "    print(chanax[i],':    ',\"{0:.2f}\".format(dn_in[i]),\n",
    "          \"  {0:.2f}\".format(edn_in[i]),\n",
    "          \" {0:.0f}\".format(100.*edn_in[i]/dn_in[i]),'%')"
   ]
  },
  {
   "cell_type": "code",
   "execution_count": 48,
   "id": "dc259a00-85c0-4705-9ca7-c0cc769ad1b0",
   "metadata": {
    "execution": {
     "iopub.execute_input": "2024-12-06T20:37:25.276622Z",
     "iopub.status.busy": "2024-12-06T20:37:25.275597Z",
     "iopub.status.idle": "2024-12-06T20:38:10.435709Z",
     "shell.execute_reply": "2024-12-06T20:38:10.435273Z",
     "shell.execute_reply.started": "2024-12-06T20:37:25.276583Z"
    }
   },
   "outputs": [
    {
     "name": "stdout",
     "output_type": "stream",
     "text": [
      "18-26-05_18-26-35\n",
      "Percent of >0.0 keV emission in region: 0.8899196633511859\n",
      "Percent of >2.5 keV emission in region: 0.9167887966129294\n",
      "Percent of >3.5 keV emission in region: 0.95\n",
      "Percent of >6.0 keV emission in region: 0.9690721649484536\n",
      "Using input regfile:\n",
      "/Users/jmdunca2/do-dem/initial_dem_apr21/18-26-05_18-26-35/nu20615003001A06_0_4_p_cl_sunpos_COM_region.reg\n",
      "Using grades 0-4 NuSTAR events.\n",
      "Now we will make some spectral data products.\n",
      "ARF File:  []\n",
      "RMF File:  []\n",
      "PHA File:  []\n",
      "ARF File:  []\n",
      "RMF File:  []\n",
      "PHA File:  []\n",
      "ARF File:  []\n",
      "RMF File:  []\n",
      "PHA File:  []\n",
      "100% [........................................................] 488180 / 488180"
     ]
    },
    {
     "name": "stderr",
     "output_type": "stream",
     "text": [
      "WARNING: AstropyDeprecationWarning: The following keywords are now recognized as special column-related attributes and should be set via the Column objects: TCDLTn, TCRPXn, TCRVLn, TCTYPn, TCUNIn. In future, these values will be dropped from manually specified headers automatically and replaced with values generated based on the Column objects. [astropy.io.fits.hdu.table]\n"
     ]
    },
    {
     "name": "stdout",
     "output_type": "stream",
     "text": [
      "ARF File:  ['./shift_region_tests/18-26-05_18-26-35/nu20615003001A06_0_4_p_sr.arf']\n",
      "RMF File:  ['./shift_region_tests/18-26-05_18-26-35/nu20615003001A06_0_4_p_sr.rmf']\n",
      "PHA File:  ['./shift_region_tests/18-26-05_18-26-35/nu20615003001A06_0_4_p_sr.pha']\n",
      "ARF File:  ['./shift_region_tests/18-26-05_18-26-35/nu20615003001A06_21_24_p_sr.arf']\n",
      "RMF File:  ['./shift_region_tests/18-26-05_18-26-35/nu20615003001A06_21_24_p_sr.rmf']\n",
      "PHA File:  ['./shift_region_tests/18-26-05_18-26-35/nu20615003001A06_21_24_p_sr.pha']\n",
      "\n",
      "For NuSTAR area, using region in:  /Users/jmdunca2/do-dem/initial_dem_apr21/18-26-05_18-26-35/nu20615003001A06_0_4_p_cl_sunpos_COM_region.reg\n",
      "Max NuSTAR Energy:  9.079999923706055\n",
      "\n",
      "2.5-3.5keV :     24904.08   4998.20  20 %\n",
      "3.5-6.0keV :     9472.26   1911.79  20 %\n",
      "6.0-10.0keV :     426.68   101.26  24 %\n"
     ]
    }
   ],
   "source": [
    "#Bright AR double center during shift:\n",
    "\n",
    "time_interval = [astropy.time.Time('2021-04-29T18:26:05', scale='utc', format='isot'),\n",
    "                    astropy.time.Time('2021-04-29T18:26:35', scale='utc', format='isot')]\n",
    "time = time_interval\n",
    "timestring = time[0].strftime('%H-%M-%S')\n",
    "stopstring = time[1].strftime('%H-%M-%S')\n",
    "timestring=timestring+'_'+stopstring\n",
    "print(timestring)\n",
    "\n",
    "datapath='/Users/jmdunca2/nustar/apr-2021/20615003001/'\n",
    "obsid='20615003001'\n",
    "\n",
    "gtifile=datapath+'event_cl/nu'+obsid+'A06_gti.fits'\n",
    "\n",
    "regfile=path_to_dodem+'initial_dem_apr21/'+timestring+'/nu20615003001A06_0_4_p_cl_sunpos_COM_region.reg'\n",
    "evt_file = path_to_dodem+'initial_dem_apr21/'+timestring+'/nu20615003001A06_0_4_p_cl_sunpos.evt'\n",
    "\n",
    "\n",
    "\n",
    "percents(evt_file, regfile)\n",
    "\n",
    "eng_tr=[[2.5,3.5], [3.5,6.], [6.,10.]]\n",
    "\n",
    "res = nu.load_nustar(time_interval, eng_tr, working_dir, 'A', make_nustar=True, gtifile=gtifile, datapath=datapath, regfile=regfile, \n",
    "                edit_regfile=False, compare_fpm=False, combine_fpm=True, actual_total_counts=False, nofit=False,\n",
    "                   use_fit_regfile=False, clobber=False, default_err=0.2, pile_up_corr=True, special_pha='', shush=True,\n",
    "                   adjacent_grades=True, path_to_dodem=path_to_dodem)\n",
    "\n",
    "\n",
    "dn_in=[]\n",
    "edn_in=[]\n",
    "chanax=[]\n",
    "combine_fpm=True\n",
    "rate, erate, nutrs, nu_tresp, nu_logt, fpm = res\n",
    "for i in range(0, len(nutrs)):\n",
    "    dn_in.append(rate[i])\n",
    "    edn_in.append(erate[i])\n",
    "    if combine_fpm==False:\n",
    "        chanax.append(nutrs[i]+'-'+fpm)\n",
    "    else:\n",
    "        chanax.append(nutrs[i])\n",
    "        \n",
    "print('')\n",
    "for i in np.arange(len(dn_in)):\n",
    "    print(chanax[i],':    ',\"{0:.2f}\".format(dn_in[i]),\n",
    "          \"  {0:.2f}\".format(edn_in[i]),\n",
    "          \" {0:.0f}\".format(100.*edn_in[i]/dn_in[i]),'%')"
   ]
  },
  {
   "cell_type": "code",
   "execution_count": 21,
   "id": "386d0016-2a35-4ca2-a004-84cb5ede3adf",
   "metadata": {
    "execution": {
     "iopub.execute_input": "2024-12-06T20:10:10.728438Z",
     "iopub.status.busy": "2024-12-06T20:10:10.727955Z",
     "iopub.status.idle": "2024-12-06T20:11:30.600072Z",
     "shell.execute_reply": "2024-12-06T20:11:30.599664Z",
     "shell.execute_reply.started": "2024-12-06T20:10:10.728396Z"
    }
   },
   "outputs": [
    {
     "name": "stdout",
     "output_type": "stream",
     "text": [
      "ARF File:  ['./shift_region_tests/18-27-55_18-28-25/nu20615003001A06_0_p_sr.arf']\n",
      "RMF File:  ['./shift_region_tests/18-27-55_18-28-25/nu20615003001A06_0_p_sr.rmf']\n",
      "PHA File:  ['./shift_region_tests/18-27-55_18-28-25/nu20615003001A06_0_p_sr.pha']\n",
      "ARF File:  ['./shift_region_tests/18-27-55_18-28-25/nu20615003001A06_0_4_p_sr.arf']\n",
      "RMF File:  ['./shift_region_tests/18-27-55_18-28-25/nu20615003001A06_0_4_p_sr.rmf']\n",
      "PHA File:  ['./shift_region_tests/18-27-55_18-28-25/nu20615003001A06_0_4_p_sr.pha']\n",
      "ARF File:  ['./shift_region_tests/18-27-55_18-28-25/nu20615003001A06_21_24_p_sr.arf']\n",
      "RMF File:  ['./shift_region_tests/18-27-55_18-28-25/nu20615003001A06_21_24_p_sr.rmf']\n",
      "PHA File:  ['./shift_region_tests/18-27-55_18-28-25/nu20615003001A06_21_24_p_sr.pha']\n",
      "100% [........................................................] 488180 / 488180"
     ]
    },
    {
     "data": {
      "text/plain": [
       "'/Users/jmdunca2/do-dem/initial_dem_apr21/snowflakes/18-27-55_18-28-25/nu20615003001A06_0_4_p_cl_sunpos_COM_region.reg'"
      ]
     },
     "execution_count": 21,
     "metadata": {},
     "output_type": "execute_result"
    }
   ],
   "source": [
    "importlib.reload(nu)\n",
    "\n",
    "clobber=True\n",
    "\n",
    "gtifile=datapath+'event_cl/nu'+obsid+'A06_gti.fits'\n",
    "nu.make_nustar_products(time_interval, 'A', gtifile, datapath, regfile, working_dir, edit_regfile=True,\n",
    "                            pile_up_corr=True, clobber=clobber, path_to_dodem=path_to_dodem, dip_before_products=False)\n"
   ]
  },
  {
   "cell_type": "code",
   "execution_count": null,
   "id": "b747c812-f51c-424b-8a9e-1d6f01bc2d21",
   "metadata": {},
   "outputs": [],
   "source": []
  }
 ],
 "metadata": {
  "kernelspec": {
   "display_name": "Python 3 (ipykernel)",
   "language": "python",
   "name": "python3"
  },
  "language_info": {
   "codemirror_mode": {
    "name": "ipython",
    "version": 3
   },
   "file_extension": ".py",
   "mimetype": "text/x-python",
   "name": "python",
   "nbconvert_exporter": "python",
   "pygments_lexer": "ipython3",
   "version": "3.10.13"
  }
 },
 "nbformat": 4,
 "nbformat_minor": 5
}
