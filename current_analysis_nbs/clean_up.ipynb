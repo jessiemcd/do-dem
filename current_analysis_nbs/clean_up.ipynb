{
 "cells": [
  {
   "cell_type": "code",
   "execution_count": 5,
   "id": "82259b29-b016-4adb-8eb2-1bbe730f83df",
   "metadata": {
    "execution": {
     "iopub.execute_input": "2025-09-26T20:08:12.808147Z",
     "iopub.status.busy": "2025-09-26T20:08:12.807958Z",
     "iopub.status.idle": "2025-09-26T20:08:12.810712Z",
     "shell.execute_reply": "2025-09-26T20:08:12.810184Z",
     "shell.execute_reply.started": "2025-09-26T20:08:12.808132Z"
    }
   },
   "outputs": [],
   "source": [
    "path_to_dodem = '/Users/jmdunca2/do-dem/'\n",
    "from sys import path as sys_path\n",
    "sys_path.append(path_to_dodem+'/dodem/')\n",
    "\n",
    "import all_nu_analysis as ana\n",
    "import time_interval_selection as tis\n",
    "import visualize_dem_results as viz\n",
    "\n",
    "import os\n",
    "import pickle\n",
    "import shutil\n",
    "import pathlib\n",
    "import glob"
   ]
  },
  {
   "cell_type": "code",
   "execution_count": 6,
   "id": "c8ad043d-40fa-4bc3-a928-6cd2a2dc46bb",
   "metadata": {
    "execution": {
     "iopub.execute_input": "2025-09-26T20:08:15.215115Z",
     "iopub.status.busy": "2025-09-26T20:08:15.214914Z",
     "iopub.status.idle": "2025-09-26T20:08:15.219570Z",
     "shell.execute_reply": "2025-09-26T20:08:15.219239Z",
     "shell.execute_reply.started": "2025-09-26T20:08:15.215100Z"
    }
   },
   "outputs": [
    {
     "data": {
      "text/plain": [
       "['19-feb-16',\n",
       " '22-apr-16_1',\n",
       " '22-apr-16_2',\n",
       " '26-jul-16_1',\n",
       " '27-jul-16_1',\n",
       " '26-jul-16_2',\n",
       " '10-oct-17',\n",
       " '29-may-18_1',\n",
       " '29-may-18_2',\n",
       " '09-sep-18',\n",
       " '10-sep-18',\n",
       " '12-apr-19',\n",
       " '13-apr-19',\n",
       " '29-jan-20',\n",
       " '06-jun-20',\n",
       " '07-jun-20',\n",
       " '08-jun-20',\n",
       " '09-jun-20',\n",
       " '08-jan-21',\n",
       " '14-jan-21',\n",
       " '20-jan-21',\n",
       " '29-apr-21',\n",
       " '03-may-21_1',\n",
       " '03-may-21_2',\n",
       " '07-may-21',\n",
       " '30-jul-21_1',\n",
       " '30-jul-21_2',\n",
       " '17-nov-21_1',\n",
       " '19-nov-21',\n",
       " '20-nov-21',\n",
       " '22-nov-21_1',\n",
       " '22-nov-21_2',\n",
       " '03-jun-22_1',\n",
       " '03-jun-22_2',\n",
       " '06-sep-22',\n",
       " '09-dec-22']"
      ]
     },
     "execution_count": 6,
     "metadata": {},
     "output_type": "execute_result"
    }
   ],
   "source": [
    "file = '/Users/jmdunca2/do-dem/reference_files/all_targets_postghost.pickle'\n",
    "\n",
    "with open(file, 'rb') as f:\n",
    "        data = pickle.load(f)\n",
    "    \n",
    "keys = list(data.keys())\n",
    "\n",
    "keys\n"
   ]
  },
  {
   "cell_type": "code",
   "execution_count": 8,
   "id": "94483b73-a7c6-4e40-8877-c3ddf3a88c74",
   "metadata": {
    "execution": {
     "iopub.execute_input": "2025-09-26T20:08:51.786391Z",
     "iopub.status.busy": "2025-09-26T20:08:51.785962Z",
     "iopub.status.idle": "2025-09-26T20:08:51.860558Z",
     "shell.execute_reply": "2025-09-26T20:08:51.860121Z",
     "shell.execute_reply.started": "2025-09-26T20:08:51.786375Z"
    }
   },
   "outputs": [
    {
     "name": "stdout",
     "output_type": "stream",
     "text": [
      "20-nov-21\n",
      "['/Users/jmdunca2/do-dem/DEM_folders//initial_dem_20nov21/region_0/']\n",
      "boo:  /Users/jmdunca2/do-dem/DEM_folders//initial_dem_20nov21/region_0/01-07-10_01-13-45\n",
      "boo:  /Users/jmdunca2/do-dem/DEM_folders//initial_dem_20nov21/region_0/00-13-55_00-22-25\n",
      "boo:  /Users/jmdunca2/do-dem/DEM_folders//initial_dem_20nov21/region_0/02-42-10_02-49-15\n",
      "boo:  /Users/jmdunca2/do-dem/DEM_folders//initial_dem_20nov21/region_0/02-42-10_02-47-15\n",
      "boo:  /Users/jmdunca2/do-dem/DEM_folders//initial_dem_20nov21/region_0/00-58-00_01-07-10\n"
     ]
    }
   ],
   "source": [
    "import importlib\n",
    "importlib.reload(ana)\n",
    "#subfolders = [ f.path for f in os.scandir(working_dir) if f.is_dir() ]\n",
    "#print(subfolders)\n",
    "\n",
    "\n",
    "key = '20-nov-21' #keys[44]\n",
    "print(key)\n",
    "\n",
    "directories = ana.get_region_directories(key, targets_file=file)\n",
    "print(directories)\n",
    "\n",
    "count=0\n",
    "for dd in directories:\n",
    "    success_paths = []\n",
    "    subfolders = [ f.path for f in os.scandir(dd) if f.is_dir() ]\n",
    "    subfolders = [s for s in subfolders if s.split('/')[-1][0].isdigit()]\n",
    "    #for s in subfolders:\n",
    "    #    print(s.split('/')[-1][0:8])\n",
    "    #print('subfolders:', subfolders)\n",
    "\n",
    "    all_time_intervals, all_time_intervals_list = tis.find_all_intervals(dd, shush=True, \n",
    "                                                                            missing_last=False)\n",
    "\n",
    "    for at in all_time_intervals:\n",
    "        for tt in at:\n",
    "            timestring = viz.make_timestring(tt)\n",
    "            success_paths.append(os.path.normpath(dd+timestring+'/'))\n",
    "\n",
    "    #print(success_paths)\n",
    "\n",
    "    save_path = pathlib.Path(dd+'unsuccessful_intervals'+key+'_'+str(count)+'/')\n",
    "    if not save_path.exists():\n",
    "        save_path.mkdir()\n",
    "\n",
    "    count+=1\n",
    "\n",
    "    for s in subfolders:\n",
    "        if not os.path.normpath(s) in success_paths:\n",
    "            print('boo: ', s)\n",
    "\n",
    "            shutil.move(s, str(save_path)+'/')\n",
    "\n",
    "        else:\n",
    "            imgs = glob.glob(s+'/*.img')\n",
    "            #print(imgs)\n",
    "            for ii in imgs:\n",
    "                os.remove(ii)"
   ]
  },
  {
   "cell_type": "code",
   "execution_count": 26,
   "id": "bce47213-dff8-4880-a494-0c9dee075e39",
   "metadata": {
    "execution": {
     "iopub.execute_input": "2025-09-03T17:24:35.135879Z",
     "iopub.status.busy": "2025-09-03T17:24:35.135652Z",
     "iopub.status.idle": "2025-09-03T17:24:35.138274Z",
     "shell.execute_reply": "2025-09-03T17:24:35.137834Z",
     "shell.execute_reply.started": "2025-09-03T17:24:35.135856Z"
    }
   },
   "outputs": [],
   "source": [
    "for ii in []:\n",
    "    print('hi')"
   ]
  },
  {
   "cell_type": "code",
   "execution_count": 6,
   "id": "00bac20c-b21f-493a-a1c4-a7cd80a299e2",
   "metadata": {
    "execution": {
     "iopub.execute_input": "2025-09-02T15:28:38.062135Z",
     "iopub.status.busy": "2025-09-02T15:28:38.061493Z",
     "iopub.status.idle": "2025-09-02T15:28:38.077973Z",
     "shell.execute_reply": "2025-09-02T15:28:38.077416Z",
     "shell.execute_reply.started": "2025-09-02T15:28:38.062086Z"
    }
   },
   "outputs": [
    {
     "data": {
      "text/plain": [
       "'/Users/jmdunca2/do-dem/DEM_folders/initial_dem_3jun22/unsuccessful_intervals/'"
      ]
     },
     "execution_count": 6,
     "metadata": {},
     "output_type": "execute_result"
    }
   ],
   "source": [
    "str(save_path)+'/'"
   ]
  },
  {
   "cell_type": "code",
   "execution_count": 5,
   "id": "4235079c-39c4-4e9d-bf5a-e62a95fd9f30",
   "metadata": {
    "execution": {
     "iopub.execute_input": "2025-09-02T15:02:35.897929Z",
     "iopub.status.busy": "2025-09-02T15:02:35.897717Z",
     "iopub.status.idle": "2025-09-02T15:02:35.900677Z",
     "shell.execute_reply": "2025-09-02T15:02:35.900352Z",
     "shell.execute_reply.started": "2025-09-02T15:02:35.897913Z"
    }
   },
   "outputs": [
    {
     "data": {
      "text/plain": [
       "['/Users/jmdunca2/do-dem/DEM_folders//initial_dem_3jun22/13-30-00_14-11-30/',\n",
       " '/Users/jmdunca2/do-dem/DEM_folders//initial_dem_3jun22/14-11-30_14-30-40/']"
      ]
     },
     "execution_count": 5,
     "metadata": {},
     "output_type": "execute_result"
    }
   ],
   "source": [
    "success_paths"
   ]
  },
  {
   "cell_type": "code",
   "execution_count": 8,
   "id": "96558f0a-cb88-468e-9090-1d1f5efc367c",
   "metadata": {
    "execution": {
     "iopub.execute_input": "2025-09-02T15:04:32.982352Z",
     "iopub.status.busy": "2025-09-02T15:04:32.981953Z",
     "iopub.status.idle": "2025-09-02T15:04:32.985066Z",
     "shell.execute_reply": "2025-09-02T15:04:32.984771Z",
     "shell.execute_reply.started": "2025-09-02T15:04:32.982337Z"
    }
   },
   "outputs": [
    {
     "data": {
      "text/plain": [
       "'/Users/jmdunca2/do-dem/DEM_folders/initial_dem_3jun22/13-30-00_14-11-30'"
      ]
     },
     "execution_count": 8,
     "metadata": {},
     "output_type": "execute_result"
    }
   ],
   "source": [
    "os.path.normpath(success_paths[0])"
   ]
  },
  {
   "cell_type": "code",
   "execution_count": null,
   "id": "33663ce1-26f1-4bac-b7ce-1f556a5cdcf7",
   "metadata": {},
   "outputs": [],
   "source": []
  }
 ],
 "metadata": {
  "kernelspec": {
   "display_name": "Python 3 (ipykernel)",
   "language": "python",
   "name": "python3"
  },
  "language_info": {
   "codemirror_mode": {
    "name": "ipython",
    "version": 3
   },
   "file_extension": ".py",
   "mimetype": "text/x-python",
   "name": "python",
   "nbconvert_exporter": "python",
   "pygments_lexer": "ipython3",
   "version": "3.10.13"
  }
 },
 "nbformat": 4,
 "nbformat_minor": 5
}
