{
 "cells": [
  {
   "cell_type": "code",
   "execution_count": 1,
   "id": "676097dd-3aba-4e79-a9f1-83133f1cf10a",
   "metadata": {
    "execution": {
     "iopub.execute_input": "2025-09-23T14:54:51.266933Z",
     "iopub.status.busy": "2025-09-23T14:54:51.266857Z",
     "iopub.status.idle": "2025-09-23T14:54:53.362510Z",
     "shell.execute_reply": "2025-09-23T14:54:53.362168Z",
     "shell.execute_reply.started": "2025-09-23T14:54:51.266923Z"
    }
   },
   "outputs": [],
   "source": [
    "#Path to top-level do-dem directory - edit for your system.\n",
    "path_to_dodem = '/Users/jmdunca2/do-dem/'\n",
    "from sys import path as sys_path\n",
    "sys_path.append(path_to_dodem+'/dodem/')\n",
    "\n",
    "\n",
    "import all_nu_analysis as ana\n",
    "import images_and_coalignment as iac\n",
    "import visualize_dem_results as viz\n",
    "\n",
    "\n",
    "import pickle\n",
    "import pathlib\n",
    "import importlib\n",
    "import numpy as np\n",
    "import subprocess\n",
    "from matplotlib import pyplot as plt\n"
   ]
  },
  {
   "cell_type": "markdown",
   "id": "53e10d14-ac4c-4ecf-85b9-a1b13f901eac",
   "metadata": {},
   "source": [
    "Manual flarefinding."
   ]
  },
  {
   "cell_type": "code",
   "execution_count": 2,
   "id": "73d1c7f8-6a75-443e-9ff4-959c507d95d9",
   "metadata": {
    "execution": {
     "iopub.execute_input": "2025-09-23T14:54:53.363925Z",
     "iopub.status.busy": "2025-09-23T14:54:53.363687Z",
     "iopub.status.idle": "2025-09-23T14:54:53.370626Z",
     "shell.execute_reply": "2025-09-23T14:54:53.370217Z",
     "shell.execute_reply.started": "2025-09-23T14:54:53.363913Z"
    }
   },
   "outputs": [
    {
     "data": {
      "text/plain": [
       "<Time object: scale='utc' format='isot' value=2015-09-01T03:59:48.000>"
      ]
     },
     "execution_count": 2,
     "metadata": {},
     "output_type": "execute_result"
    }
   ],
   "source": [
    "import pandas as pd\n",
    "import astropy.time\n",
    "df = pd.read_csv('/Users/jmdunca2/do-dem/reference_files/fpmA.csv')\n",
    "starts = df['flare_start'].values\n",
    "stops = df['flare_end'].values\n",
    "\n",
    "astropy.time.Time(starts[0])"
   ]
  },
  {
   "cell_type": "code",
   "execution_count": 3,
   "id": "38a4fb5e-de31-41f9-8c28-a289655a5446",
   "metadata": {
    "execution": {
     "iopub.execute_input": "2025-09-23T14:54:53.371380Z",
     "iopub.status.busy": "2025-09-23T14:54:53.371218Z",
     "iopub.status.idle": "2025-09-23T14:54:53.399559Z",
     "shell.execute_reply": "2025-09-23T14:54:53.399183Z",
     "shell.execute_reply.started": "2025-09-23T14:54:53.371364Z"
    }
   },
   "outputs": [],
   "source": [
    "keys = ['01-sep-15', '02-sep-15',\n",
    "        '19-feb-16', '22-apr-16_2', '26-jul-16_1', '27-jul-16_1', '26-jul-16_2',\n",
    "        '11-sep-17', '12-sep-17', '13-sep-17', '10-oct-17',\n",
    "        '29-may-18_1', '09-sep-18', '10-sep-18', \n",
    "        '12-apr-19', '13-apr-19', \n",
    "        '06-jun-20', '07-jun-20', \n",
    "        '08-jun-20', '09-jun-20',\n",
    "        '29-apr-21', '03-may-21_1', '03-may-21_2', '20-jul-21', \n",
    "        '30-jul-21_1', \n",
    "        '30-jul-21_2']\n",
    "\n",
    "with open('/Users/jmdunca2/do-dem/reference_files/all_targets.pickle', 'rb') as f:\n",
    "    all_targets = pickle.load(f)\n",
    "    "
   ]
  },
  {
   "cell_type": "markdown",
   "id": "7e9891df-ed19-4fb4-90d9-13d198145c06",
   "metadata": {},
   "source": [
    "Notes:\n",
    "\n",
    "Added:\n",
    "- '22-apr-16_2' has two pretty gradual flares (added two manual flares to get the beginings of the rises into the flare category)\n",
    "- '11-sep-17' first orbit is \"transient\" (rolling bumps) nearly the whole time. Added orbit-long \"flare\" to remove orbit.\n",
    "- '11-sep-17' second orbit is a continual decay in most AIA and low-energy NuSTAR, which does not indicate quiescence. Added orbit-long \"flare\" to remove orbit.\n",
    "- '11-sep-17' third orbit is \"transient\" (rolling bumps) nearly the whole time. Added orbit-long \"flare\" to remove orbit.\n",
    "- '11-sep-17' last orbit has transient at start that was missed, added.\n",
    "- '12-sep-17' second orbit, two flaring intervals are sections of longer flare, added whole flare.\n",
    "- '29-may-18_1' second orbit, flare doesn't start soon enough. added section.\n",
    "- '12-apr-19' two events added (one fainter one missed in middle of orbit, and orbit-start-associated decline in another).\n",
    "- '12-apr-19' two events added (both gaps in flare coverage during overlapping/multi-peak transients).\n",
    "- '06-jun-20' orbit one two events added to cover whole orbit (all flares)\n",
    "- '07-jun-20' two events added (one earlier start, one gap in multi-peak)\n",
    "- '08-jun-20' flare added at start of orbit 2\n",
    "- '29-apr-21' last orbit; flare doesn't start soon enough. added section.\n",
    "- '03-may-21' last orbit; flare doesn't start soon enough. added section.\n",
    "- '20-jul-21' added three events (misc)\n",
    "\n",
    "\n",
    "Did not add but marginal:\n",
    "- '27-jul-16_1' region 0 - some potential variability.\n",
    "- '12-sep-17' also unclear on what counts as flaring, return.\n",
    "- '20-jul-21' ambiguity in last orbit (~12:10)\n",
    "\n",
    "Flare removal\n",
    "- Two events in '10-oct-17' orbit 3 do not appear to really be flares.\n",
    "  "
   ]
  },
  {
   "cell_type": "code",
   "execution_count": null,
   "id": "a8ee6fc1-5333-4eed-ad9f-18c3c2e37605",
   "metadata": {},
   "outputs": [],
   "source": []
  },
  {
   "cell_type": "code",
   "execution_count": 4,
   "id": "1e577f64-2a8a-4fad-87eb-c238b9801ab0",
   "metadata": {
    "execution": {
     "iopub.execute_input": "2025-09-23T14:54:53.400371Z",
     "iopub.status.busy": "2025-09-23T14:54:53.400245Z",
     "iopub.status.idle": "2025-09-23T14:54:53.415239Z",
     "shell.execute_reply": "2025-09-23T14:54:53.414875Z",
     "shell.execute_reply.started": "2025-09-23T14:54:53.400360Z"
    }
   },
   "outputs": [
    {
     "name": "stdout",
     "output_type": "stream",
     "text": [
      "04/22/16 20-40-00 04/22/16 20-45-00\n",
      "04/22/16 22-35-00 04/22/16 22-45-00\n",
      "09/11/17 15-55-00 09/11/17 17-00-00\n",
      "09/11/17 17-30-00 09/11/17 18-40-00\n",
      "09/11/17 19-00-00 09/11/17 20-20-00\n",
      "09/11/17 20-40-00 09/11/17 20-48-00\n",
      "09/12/17 22-58-00 09/12/17 23-15-00\n",
      "09/12/17 21-42-00 09/12/17 21-50-00\n",
      "05/29/18 17-34-00 05/29/18 17-40-00\n",
      "05/29/18 16-01-00 05/29/18 16-03-00\n",
      "05/29/18 16-10-00 05/29/18 16-14-00\n",
      "04/12/19 17-12-00 04/12/19 17-25-00\n",
      "04/12/19 18-20-00 04/12/19 18-30-00\n",
      "04/13/19 04-25-00 04/13/19 04-40-00\n",
      "04/13/19 06-10-00 04/13/19 06-27-00\n",
      "06/06/20 19-35-00 06/06/20 19-45-00\n",
      "06/06/20 19-55-00 06/06/20 20-10-00\n",
      "06/07/20 19-49-00 06/07/20 19-58-00\n",
      "06/07/20 21-27-00 06/07/20 21-30-00\n",
      "06/08/20 21-00-00 06/08/20 21-05-00\n",
      "04/29/21 21-28-00 04/29/21 21-40-00\n",
      "05/03/21 17-37-00 05/03/21 17-50-00\n",
      "07/20/21 08-47-00 07/20/21 09-00-00\n",
      "07/20/21 10-00-00 07/20/21 10-07-00\n",
      "07/20/21 10-57-35 07/20/21 10-57-59\n",
      "07/20/21 11-45-00 07/20/21 11-50-00\n",
      "11/20/21 00-25-00 11/20/21 00-40-00\n",
      "09/06/22 17-20-00 09/06/22 17-29-00\n",
      "09/06/22 19-10-00 09/06/22 19-20-00\n",
      "12/10/22 00-30-00 12/10/22 00-45-00\n"
     ]
    }
   ],
   "source": [
    "mfts = []\n",
    "mfts.append([astropy.time.Time('2016-04-22 20:40:00'), astropy.time.Time('2016-04-22 20:45:00')])\n",
    "mfts.append([astropy.time.Time('2016-04-22 22:35:00'), astropy.time.Time('2016-04-22 22:45:00')])\n",
    "\n",
    "mfts.append([astropy.time.Time('2017-09-11 15:55:00'), astropy.time.Time('2017-09-11 17:00:00')])\n",
    "mfts.append([astropy.time.Time('2017-09-11 17:30:00'), astropy.time.Time('2017-09-11 18:40:00')])\n",
    "mfts.append([astropy.time.Time('2017-09-11 19:00:00'), astropy.time.Time('2017-09-11 20:20:00')])\n",
    "mfts.append([astropy.time.Time('2017-09-11 20:40:00'), astropy.time.Time('2017-09-11 20:48:00')])\n",
    "\n",
    "mfts.append([astropy.time.Time('2017-09-12 22:58:00'), astropy.time.Time('2017-09-12 23:15:00')])\n",
    "mfts.append([astropy.time.Time('2017-09-12 21:42:00'), astropy.time.Time('2017-09-12 21:50:00')])\n",
    "\n",
    "mfts.append([astropy.time.Time('2018-05-29 17:34:00'), astropy.time.Time('2018-05-29 17:40:00')])\n",
    "mfts.append([astropy.time.Time('2018-05-29 16:01:00'), astropy.time.Time('2018-05-29 16:03:00')])\n",
    "mfts.append([astropy.time.Time('2018-05-29 16:10:00'), astropy.time.Time('2018-05-29 16:14:00')])\n",
    "\n",
    "mfts.append([astropy.time.Time('2019-04-12 17:12:00'), astropy.time.Time('2019-04-12 17:25:00')])\n",
    "mfts.append([astropy.time.Time('2019-04-12 18:20:00'), astropy.time.Time('2019-04-12 18:30:00')])\n",
    "\n",
    "mfts.append([astropy.time.Time('2019-04-13 04:25:00'), astropy.time.Time('2019-04-13 04:40:00')])\n",
    "mfts.append([astropy.time.Time('2019-04-13 06:10:00'), astropy.time.Time('2019-04-13 06:27:00')])\n",
    "\n",
    "mfts.append([astropy.time.Time('2020-06-06 19:35:00'), astropy.time.Time('2020-06-06 19:45:00')])\n",
    "mfts.append([astropy.time.Time('2020-06-06 19:55:00'), astropy.time.Time('2020-06-06 20:10:00')])\n",
    "\n",
    "mfts.append([astropy.time.Time('2020-06-07 19:49:00'), astropy.time.Time('2020-06-07 19:58:00')])\n",
    "mfts.append([astropy.time.Time('2020-06-07 21:27:00'), astropy.time.Time('2020-06-07 21:30:00')])\n",
    "\n",
    "mfts.append([astropy.time.Time('2020-06-08 21:00:00'), astropy.time.Time('2020-06-08 21:05:00')])\n",
    "\n",
    "\n",
    "mfts.append([astropy.time.Time('2021-04-29 21:28:00'), astropy.time.Time('2021-04-29 21:40:00')])\n",
    "\n",
    "mfts.append([astropy.time.Time('2021-05-03 17:37:00'), astropy.time.Time('2021-05-03 17:50:00')])\n",
    "\n",
    "mfts.append([astropy.time.Time('2021-07-20 08:47:00'), astropy.time.Time('2021-07-20 09:00:00')])\n",
    "mfts.append([astropy.time.Time('2021-07-20 10:00:00'), astropy.time.Time('2021-07-20 10:07:00')])\n",
    "mfts.append([astropy.time.Time('2021-07-20 10:57:35'), astropy.time.Time('2021-07-20 10:57:59')])\n",
    "mfts.append([astropy.time.Time('2021-07-20 11:45:00'), astropy.time.Time('2021-07-20 11:50:00')])\n",
    "\n",
    "mfts.append([astropy.time.Time('2021-11-20 00:25:00'), astropy.time.Time('2021-11-20 00:40:00')])\n",
    "\n",
    "mfts.append([astropy.time.Time('2022-09-06 17:20:00'), astropy.time.Time('2022-09-06 17:29:00')])\n",
    "mfts.append([astropy.time.Time('2022-09-06 19:10:00'), astropy.time.Time('2022-09-06 19:20:00')])\n",
    "\n",
    "mfts.append([astropy.time.Time('2022-12-10 00:30:00'), astropy.time.Time('2022-12-10 00:45:00')])\n",
    "\n",
    "for m in mfts:\n",
    "    print(m[0].strftime('%D %H-%M-%S'), m[1].strftime('%D %H-%M-%S'))\n",
    "\n",
    "\n",
    "data = {'manual_flares': mfts}\n",
    "\n",
    "with open('/Users/jmdunca2/do-dem/reference_files/manual_flares.pickle', 'wb') as f:\n",
    "     # Pickle the 'data' dictionary using the highest protocol available.\n",
    "     pickle.dump(data, f, pickle.HIGHEST_PROTOCOL) "
   ]
  },
  {
   "cell_type": "code",
   "execution_count": 7,
   "id": "404c67ce-8126-4806-aac6-ccfbcdec8021",
   "metadata": {
    "execution": {
     "iopub.execute_input": "2025-09-23T14:56:33.228483Z",
     "iopub.status.busy": "2025-09-23T14:56:33.228067Z",
     "iopub.status.idle": "2025-09-23T14:56:33.238769Z",
     "shell.execute_reply": "2025-09-23T14:56:33.238439Z",
     "shell.execute_reply.started": "2025-09-23T14:56:33.228462Z"
    }
   },
   "outputs": [
    {
     "name": "stdout",
     "output_type": "stream",
     "text": [
      "[datetime.datetime(2015, 9, 1, 3, 58, 30, tzinfo=datetime.timezone.utc), datetime.datetime(2015, 9, 1, 8, 40, tzinfo=datetime.timezone.utc), datetime.datetime(2015, 9, 1, 8, 43, 30, tzinfo=datetime.timezone.utc), datetime.datetime(2015, 9, 1, 9, 3, 45, tzinfo=datetime.timezone.utc), datetime.datetime(2015, 9, 1, 11, 2, 30, tzinfo=datetime.timezone.utc), datetime.datetime(2015, 9, 2, 2, 23, 45, tzinfo=datetime.timezone.utc), datetime.datetime(2015, 9, 2, 2, 42, tzinfo=datetime.timezone.utc), datetime.datetime(2015, 9, 2, 4, 0, 30, tzinfo=datetime.timezone.utc), datetime.datetime(2015, 9, 2, 4, 22, 15, tzinfo=datetime.timezone.utc), datetime.datetime(2015, 9, 2, 8, 50, 45, tzinfo=datetime.timezone.utc), datetime.datetime(2015, 9, 2, 9, 21, 30, tzinfo=datetime.timezone.utc), datetime.datetime(2015, 9, 2, 9, 47, 45, tzinfo=datetime.timezone.utc), datetime.datetime(2015, 9, 2, 10, 27, 30, tzinfo=datetime.timezone.utc), datetime.datetime(2015, 9, 2, 10, 40, 15, tzinfo=datetime.timezone.utc), datetime.datetime(2015, 9, 2, 10, 48, 45, tzinfo=datetime.timezone.utc), datetime.datetime(2015, 9, 2, 2, 23, 45, tzinfo=datetime.timezone.utc), datetime.datetime(2015, 9, 2, 2, 42, tzinfo=datetime.timezone.utc), datetime.datetime(2015, 9, 2, 4, 0, 30, tzinfo=datetime.timezone.utc), datetime.datetime(2015, 9, 2, 4, 22, 15, tzinfo=datetime.timezone.utc), datetime.datetime(2015, 9, 2, 8, 50, 45, tzinfo=datetime.timezone.utc), datetime.datetime(2015, 9, 2, 9, 21, 30, tzinfo=datetime.timezone.utc), datetime.datetime(2015, 9, 2, 9, 47, 45, tzinfo=datetime.timezone.utc), datetime.datetime(2015, 9, 2, 10, 27, 30, tzinfo=datetime.timezone.utc), datetime.datetime(2015, 9, 2, 10, 40, 15, tzinfo=datetime.timezone.utc), datetime.datetime(2015, 9, 2, 10, 48, 45, tzinfo=datetime.timezone.utc), datetime.datetime(2016, 2, 19, 19, 31, tzinfo=datetime.timezone.utc), datetime.datetime(2016, 2, 19, 19, 40, 15, tzinfo=datetime.timezone.utc), datetime.datetime(2016, 2, 19, 19, 49, 30, tzinfo=datetime.timezone.utc), datetime.datetime(2016, 2, 19, 20, 53, 30, tzinfo=datetime.timezone.utc), datetime.datetime(2016, 2, 19, 21, 2, tzinfo=datetime.timezone.utc), datetime.datetime(2016, 2, 19, 22, 53, 45, tzinfo=datetime.timezone.utc), datetime.datetime(2016, 4, 22, 17, 26, 15, tzinfo=datetime.timezone.utc), datetime.datetime(2016, 4, 22, 19, 47, tzinfo=datetime.timezone.utc), datetime.datetime(2016, 4, 22, 20, 48, tzinfo=datetime.timezone.utc), datetime.datetime(2016, 4, 22, 20, 57, 15, tzinfo=datetime.timezone.utc), datetime.datetime(2016, 4, 22, 22, 48, 15, tzinfo=datetime.timezone.utc), datetime.datetime(2016, 7, 26, 19, 24, 15, tzinfo=datetime.timezone.utc), datetime.datetime(2016, 7, 26, 22, 54, tzinfo=datetime.timezone.utc), datetime.datetime(2016, 7, 26, 22, 56, 45, tzinfo=datetime.timezone.utc), datetime.datetime(2016, 7, 26, 19, 24, 15, tzinfo=datetime.timezone.utc), datetime.datetime(2016, 7, 27, 1, 3, 15, tzinfo=datetime.timezone.utc), datetime.datetime(2016, 7, 27, 1, 3, 15, tzinfo=datetime.timezone.utc), datetime.datetime(2017, 9, 11, 16, 8, tzinfo=datetime.timezone.utc), datetime.datetime(2017, 9, 11, 16, 26, 30, tzinfo=datetime.timezone.utc), datetime.datetime(2017, 9, 11, 17, 34, 30, tzinfo=datetime.timezone.utc), datetime.datetime(2017, 9, 11, 17, 51, 30, tzinfo=datetime.timezone.utc), datetime.datetime(2017, 9, 11, 17, 53, 15, tzinfo=datetime.timezone.utc), datetime.datetime(2017, 9, 11, 19, 16, tzinfo=datetime.timezone.utc), datetime.datetime(2017, 9, 11, 19, 19, 45, tzinfo=datetime.timezone.utc), datetime.datetime(2017, 9, 11, 19, 51, 45, tzinfo=datetime.timezone.utc), datetime.datetime(2017, 9, 11, 21, 12, tzinfo=datetime.timezone.utc), datetime.datetime(2017, 9, 12, 20, 57, 15, tzinfo=datetime.timezone.utc), datetime.datetime(2017, 9, 12, 21, 1, 45, tzinfo=datetime.timezone.utc), datetime.datetime(2017, 9, 12, 21, 4, 30, tzinfo=datetime.timezone.utc), datetime.datetime(2017, 9, 12, 22, 34, 15, tzinfo=datetime.timezone.utc), datetime.datetime(2017, 9, 12, 23, 0, 45, tzinfo=datetime.timezone.utc), datetime.datetime(2017, 9, 12, 23, 7, 45, tzinfo=datetime.timezone.utc), datetime.datetime(2017, 9, 12, 20, 57, 15, tzinfo=datetime.timezone.utc), datetime.datetime(2017, 9, 12, 21, 1, 45, tzinfo=datetime.timezone.utc), datetime.datetime(2017, 9, 12, 21, 4, 30, tzinfo=datetime.timezone.utc), datetime.datetime(2017, 9, 12, 22, 34, 15, tzinfo=datetime.timezone.utc), datetime.datetime(2017, 9, 12, 23, 0, 45, tzinfo=datetime.timezone.utc), datetime.datetime(2017, 9, 12, 23, 7, 45, tzinfo=datetime.timezone.utc), datetime.datetime(2017, 9, 13, 0, 10, 45, tzinfo=datetime.timezone.utc), datetime.datetime(2017, 9, 13, 0, 16, tzinfo=datetime.timezone.utc), datetime.datetime(2017, 9, 13, 0, 17, tzinfo=datetime.timezone.utc), datetime.datetime(2017, 9, 13, 2, 9, 15, tzinfo=datetime.timezone.utc), datetime.datetime(2017, 9, 13, 0, 10, 45, tzinfo=datetime.timezone.utc), datetime.datetime(2017, 9, 13, 0, 16, tzinfo=datetime.timezone.utc), datetime.datetime(2017, 9, 13, 0, 17, tzinfo=datetime.timezone.utc), datetime.datetime(2017, 9, 13, 2, 9, 15, tzinfo=datetime.timezone.utc), datetime.datetime(2017, 10, 10, 1, 54, 15, tzinfo=datetime.timezone.utc), datetime.datetime(2017, 10, 10, 1, 54, 15, tzinfo=datetime.timezone.utc), datetime.datetime(2018, 5, 29, 16, 18, 45, tzinfo=datetime.timezone.utc), datetime.datetime(2018, 5, 29, 17, 47, 15, tzinfo=datetime.timezone.utc), datetime.datetime(2018, 5, 29, 19, 44, tzinfo=datetime.timezone.utc), datetime.datetime(2018, 5, 29, 20, 53, tzinfo=datetime.timezone.utc), datetime.datetime(2018, 5, 29, 22, 50, tzinfo=datetime.timezone.utc), datetime.datetime(2018, 5, 29, 22, 52, 30, tzinfo=datetime.timezone.utc), datetime.datetime(2018, 5, 29, 23, 7, 45, tzinfo=datetime.timezone.utc), datetime.datetime(2018, 5, 29, 21, 33, tzinfo=datetime.timezone.utc), datetime.datetime(2018, 9, 9, 9, 12, 45, tzinfo=datetime.timezone.utc), datetime.datetime(2018, 9, 9, 9, 22, 30, tzinfo=datetime.timezone.utc), datetime.datetime(2018, 9, 9, 10, 29, tzinfo=datetime.timezone.utc), datetime.datetime(2018, 9, 9, 12, 6, 15, tzinfo=datetime.timezone.utc), datetime.datetime(2018, 9, 9, 12, 43, 30, tzinfo=datetime.timezone.utc), datetime.datetime(2018, 9, 10, 13, 51, 15, tzinfo=datetime.timezone.utc), datetime.datetime(2018, 9, 10, 14, 1, 15, tzinfo=datetime.timezone.utc), datetime.datetime(2018, 9, 10, 16, 20, 45, tzinfo=datetime.timezone.utc), datetime.datetime(2018, 9, 10, 17, 53, 30, tzinfo=datetime.timezone.utc), datetime.datetime(2019, 4, 12, 15, 52, 30, tzinfo=datetime.timezone.utc), datetime.datetime(2019, 4, 12, 16, 7, 30, tzinfo=datetime.timezone.utc), datetime.datetime(2019, 4, 12, 17, 42, 15, tzinfo=datetime.timezone.utc), datetime.datetime(2019, 4, 12, 18, 53, 45, tzinfo=datetime.timezone.utc), datetime.datetime(2019, 4, 12, 18, 59, 45, tzinfo=datetime.timezone.utc), datetime.datetime(2019, 4, 12, 20, 21, 15, tzinfo=datetime.timezone.utc), datetime.datetime(2019, 4, 13, 2, 31, 15, tzinfo=datetime.timezone.utc), datetime.datetime(2019, 4, 13, 4, 39, tzinfo=datetime.timezone.utc), datetime.datetime(2019, 4, 13, 4, 43, 15, tzinfo=datetime.timezone.utc), datetime.datetime(2019, 4, 13, 4, 46, 45, tzinfo=datetime.timezone.utc), datetime.datetime(2019, 4, 13, 4, 52, 30, tzinfo=datetime.timezone.utc), datetime.datetime(2019, 4, 13, 5, 44, tzinfo=datetime.timezone.utc), datetime.datetime(2019, 4, 13, 6, 12, tzinfo=datetime.timezone.utc), datetime.datetime(2019, 4, 13, 7, 28, 45, tzinfo=datetime.timezone.utc), datetime.datetime(2019, 4, 13, 9, 20, tzinfo=datetime.timezone.utc), datetime.datetime(2019, 4, 13, 9, 27, 15, tzinfo=datetime.timezone.utc), datetime.datetime(2019, 4, 13, 10, 38, tzinfo=datetime.timezone.utc), datetime.datetime(2019, 4, 13, 10, 54, 45, tzinfo=datetime.timezone.utc), datetime.datetime(2019, 4, 13, 11, 5, tzinfo=datetime.timezone.utc), datetime.datetime(2019, 4, 13, 11, 16, 45, tzinfo=datetime.timezone.utc), datetime.datetime(2020, 1, 29, 11, 21, 45, tzinfo=datetime.timezone.utc), datetime.datetime(2020, 1, 29, 16, 7, tzinfo=datetime.timezone.utc), datetime.datetime(2020, 1, 29, 16, 31, 15, tzinfo=datetime.timezone.utc), datetime.datetime(2020, 1, 29, 19, 28, 30, tzinfo=datetime.timezone.utc), datetime.datetime(2020, 1, 29, 19, 49, 30, tzinfo=datetime.timezone.utc), datetime.datetime(2020, 1, 29, 21, 22, 30, tzinfo=datetime.timezone.utc), datetime.datetime(2020, 6, 6, 19, 46, 49, tzinfo=datetime.timezone.utc), datetime.datetime(2020, 6, 6, 21, 2, tzinfo=datetime.timezone.utc), datetime.datetime(2020, 6, 6, 21, 11, 30, tzinfo=datetime.timezone.utc), datetime.datetime(2020, 6, 6, 21, 30, 15, tzinfo=datetime.timezone.utc), datetime.datetime(2020, 6, 6, 21, 35, tzinfo=datetime.timezone.utc), datetime.datetime(2020, 6, 7, 19, 36, 9, tzinfo=datetime.timezone.utc), datetime.datetime(2020, 6, 7, 19, 40, 54, tzinfo=datetime.timezone.utc), datetime.datetime(2020, 6, 7, 21, 3, 45, tzinfo=datetime.timezone.utc), datetime.datetime(2020, 6, 7, 21, 5, 30, tzinfo=datetime.timezone.utc), datetime.datetime(2020, 6, 7, 21, 35, 45, tzinfo=datetime.timezone.utc), datetime.datetime(2020, 6, 8, 21, 27, 15, tzinfo=datetime.timezone.utc), datetime.datetime(2020, 6, 8, 21, 31, 15, tzinfo=datetime.timezone.utc), datetime.datetime(2020, 6, 8, 21, 52, 15, tzinfo=datetime.timezone.utc), datetime.datetime(2020, 6, 9, 14, 54, 30, tzinfo=datetime.timezone.utc), datetime.datetime(2020, 6, 9, 15, 16, 15, tzinfo=datetime.timezone.utc), datetime.datetime(2021, 1, 20, 12, 29, tzinfo=datetime.timezone.utc), datetime.datetime(2021, 1, 20, 14, 8, 45, tzinfo=datetime.timezone.utc), datetime.datetime(2021, 1, 20, 14, 16, 45, tzinfo=datetime.timezone.utc), datetime.datetime(2021, 4, 29, 15, 3, 30, tzinfo=datetime.timezone.utc), datetime.datetime(2021, 4, 29, 15, 9, 15, tzinfo=datetime.timezone.utc), datetime.datetime(2021, 4, 29, 15, 33, 15, tzinfo=datetime.timezone.utc), datetime.datetime(2021, 4, 29, 15, 46, tzinfo=datetime.timezone.utc), datetime.datetime(2021, 4, 29, 17, 15, 30, tzinfo=datetime.timezone.utc), datetime.datetime(2021, 4, 29, 18, 8, 15, tzinfo=datetime.timezone.utc), datetime.datetime(2021, 4, 29, 18, 20, 30, tzinfo=datetime.timezone.utc), datetime.datetime(2021, 4, 29, 19, 46, 15, tzinfo=datetime.timezone.utc), datetime.datetime(2021, 4, 29, 20, 41, tzinfo=datetime.timezone.utc), datetime.datetime(2021, 4, 29, 21, 38, 15, tzinfo=datetime.timezone.utc), datetime.datetime(2021, 4, 29, 21, 44, tzinfo=datetime.timezone.utc), datetime.datetime(2021, 4, 29, 21, 45, tzinfo=datetime.timezone.utc), datetime.datetime(2021, 5, 3, 15, 35, 30, tzinfo=datetime.timezone.utc), datetime.datetime(2021, 5, 3, 16, 17, tzinfo=datetime.timezone.utc), datetime.datetime(2021, 5, 3, 16, 19, tzinfo=datetime.timezone.utc), datetime.datetime(2021, 5, 3, 16, 23, 15, tzinfo=datetime.timezone.utc), datetime.datetime(2021, 5, 3, 17, 55, 45, tzinfo=datetime.timezone.utc), datetime.datetime(2021, 5, 3, 19, 1, 45, tzinfo=datetime.timezone.utc), datetime.datetime(2021, 5, 3, 20, 39, 15, tzinfo=datetime.timezone.utc), datetime.datetime(2021, 5, 3, 20, 42, 15, tzinfo=datetime.timezone.utc), datetime.datetime(2021, 5, 3, 20, 50, 45, tzinfo=datetime.timezone.utc), datetime.datetime(2021, 5, 3, 22, 41, 30, tzinfo=datetime.timezone.utc), datetime.datetime(2021, 7, 20, 0, 34, 15, tzinfo=datetime.timezone.utc), datetime.datetime(2021, 7, 20, 5, 17, 15, tzinfo=datetime.timezone.utc), datetime.datetime(2021, 7, 20, 6, 56, 45, tzinfo=datetime.timezone.utc), datetime.datetime(2021, 7, 20, 7, 39, 30, tzinfo=datetime.timezone.utc), datetime.datetime(2021, 7, 20, 7, 42, 15, tzinfo=datetime.timezone.utc), datetime.datetime(2021, 7, 20, 9, 12, 15, tzinfo=datetime.timezone.utc), datetime.datetime(2021, 7, 20, 9, 15, 45, tzinfo=datetime.timezone.utc), datetime.datetime(2021, 7, 20, 9, 21, 15, tzinfo=datetime.timezone.utc), datetime.datetime(2021, 7, 20, 10, 20, tzinfo=datetime.timezone.utc), datetime.datetime(2021, 7, 20, 12, 32, 30, tzinfo=datetime.timezone.utc), datetime.datetime(2021, 7, 20, 0, 34, 15, tzinfo=datetime.timezone.utc), datetime.datetime(2021, 7, 20, 5, 17, 15, tzinfo=datetime.timezone.utc), datetime.datetime(2021, 7, 20, 6, 56, 45, tzinfo=datetime.timezone.utc), datetime.datetime(2021, 7, 20, 7, 39, 30, tzinfo=datetime.timezone.utc), datetime.datetime(2021, 7, 20, 7, 42, 15, tzinfo=datetime.timezone.utc), datetime.datetime(2021, 7, 20, 9, 12, 15, tzinfo=datetime.timezone.utc), datetime.datetime(2021, 7, 20, 9, 15, 45, tzinfo=datetime.timezone.utc), datetime.datetime(2021, 7, 20, 9, 21, 15, tzinfo=datetime.timezone.utc), datetime.datetime(2021, 7, 20, 10, 20, tzinfo=datetime.timezone.utc), datetime.datetime(2021, 7, 20, 12, 32, 30, tzinfo=datetime.timezone.utc), datetime.datetime(2021, 7, 30, 18, 16, 15, tzinfo=datetime.timezone.utc), datetime.datetime(2021, 7, 30, 18, 33, 45, tzinfo=datetime.timezone.utc), datetime.datetime(2021, 7, 30, 18, 16, 15, tzinfo=datetime.timezone.utc), datetime.datetime(2021, 7, 30, 18, 33, 45, tzinfo=datetime.timezone.utc), datetime.datetime(2021, 7, 30, 19, 47, tzinfo=datetime.timezone.utc), datetime.datetime(2022, 2, 24, 15, 52, 45, tzinfo=datetime.timezone.utc), datetime.datetime(2022, 2, 24, 17, 22, 45, tzinfo=datetime.timezone.utc), datetime.datetime(2022, 2, 24, 18, 17, 30, tzinfo=datetime.timezone.utc), datetime.datetime(2022, 2, 24, 19, 2, 30, tzinfo=datetime.timezone.utc), datetime.datetime(2022, 2, 24, 19, 49, tzinfo=datetime.timezone.utc), datetime.datetime(2022, 2, 24, 15, 52, 45, tzinfo=datetime.timezone.utc), datetime.datetime(2022, 2, 24, 17, 22, 45, tzinfo=datetime.timezone.utc), datetime.datetime(2022, 2, 24, 18, 17, 30, tzinfo=datetime.timezone.utc), datetime.datetime(2022, 2, 24, 19, 2, 30, tzinfo=datetime.timezone.utc), datetime.datetime(2022, 2, 24, 19, 49, tzinfo=datetime.timezone.utc), datetime.datetime(2022, 2, 25, 16, 46, 30, tzinfo=datetime.timezone.utc), datetime.datetime(2022, 2, 25, 17, 32, tzinfo=datetime.timezone.utc), datetime.datetime(2022, 2, 25, 17, 40, 45, tzinfo=datetime.timezone.utc), datetime.datetime(2022, 2, 25, 20, 32, tzinfo=datetime.timezone.utc), datetime.datetime(2022, 2, 25, 16, 46, 30, tzinfo=datetime.timezone.utc), datetime.datetime(2022, 2, 25, 17, 32, tzinfo=datetime.timezone.utc), datetime.datetime(2022, 2, 25, 17, 40, 45, tzinfo=datetime.timezone.utc), datetime.datetime(2022, 2, 25, 20, 32, tzinfo=datetime.timezone.utc), datetime.datetime(2022, 2, 25, 16, 46, 30, tzinfo=datetime.timezone.utc), datetime.datetime(2022, 2, 25, 17, 32, tzinfo=datetime.timezone.utc), datetime.datetime(2022, 2, 25, 17, 40, 45, tzinfo=datetime.timezone.utc), datetime.datetime(2022, 2, 25, 20, 32, tzinfo=datetime.timezone.utc), datetime.datetime(2022, 2, 27, 1, 30, 15, tzinfo=datetime.timezone.utc), datetime.datetime(2022, 2, 27, 1, 45, 15, tzinfo=datetime.timezone.utc), datetime.datetime(2022, 6, 3, 14, 6, 30, tzinfo=datetime.timezone.utc), datetime.datetime(2022, 9, 6, 15, 49, 45, tzinfo=datetime.timezone.utc), datetime.datetime(2022, 9, 6, 15, 58, tzinfo=datetime.timezone.utc), datetime.datetime(2022, 9, 6, 16, 5, 45, tzinfo=datetime.timezone.utc), datetime.datetime(2022, 9, 6, 18, 10, 45, tzinfo=datetime.timezone.utc), datetime.datetime(2022, 9, 6, 19, 18, tzinfo=datetime.timezone.utc), datetime.datetime(2022, 9, 6, 19, 44, 45, tzinfo=datetime.timezone.utc), datetime.datetime(2022, 9, 6, 20, 35, tzinfo=datetime.timezone.utc), datetime.datetime(2022, 9, 6, 21, 23, 15, tzinfo=datetime.timezone.utc), datetime.datetime(2023, 3, 18, 13, 37, 15, tzinfo=datetime.timezone.utc), datetime.datetime(2023, 3, 18, 14, 23, 45, tzinfo=datetime.timezone.utc), datetime.datetime(2023, 3, 18, 15, 8, 15, tzinfo=datetime.timezone.utc), datetime.datetime(2023, 3, 18, 15, 9, 30, tzinfo=datetime.timezone.utc), datetime.datetime(2023, 3, 18, 15, 22, tzinfo=datetime.timezone.utc), datetime.datetime(2023, 3, 18, 15, 59, 15, tzinfo=datetime.timezone.utc), datetime.datetime(2023, 3, 18, 17, 2, 45, tzinfo=datetime.timezone.utc), datetime.datetime(2023, 3, 18, 17, 5, 15, tzinfo=datetime.timezone.utc), datetime.datetime(2023, 3, 18, 18, 30, tzinfo=datetime.timezone.utc), datetime.datetime(2023, 3, 18, 21, 44, tzinfo=datetime.timezone.utc), datetime.datetime(2023, 3, 18, 22, 18, 30, tzinfo=datetime.timezone.utc), datetime.datetime(2023, 3, 18, 22, 20, 30, tzinfo=datetime.timezone.utc), datetime.datetime(2023, 3, 18, 22, 21, 45, tzinfo=datetime.timezone.utc), datetime.datetime(2023, 3, 18, 23, 14, 30, tzinfo=datetime.timezone.utc), datetime.datetime(2023, 3, 18, 23, 47, 45, tzinfo=datetime.timezone.utc), datetime.datetime(2023, 3, 18, 19, 57, 45, tzinfo=datetime.timezone.utc), datetime.datetime(2023, 3, 18, 20, 5, tzinfo=datetime.timezone.utc), datetime.datetime(2022, 12, 10, 0, 5, tzinfo=datetime.timezone.utc), datetime.datetime(2022, 12, 10, 0, 6, tzinfo=datetime.timezone.utc), datetime.datetime(2022, 12, 10, 0, 5, tzinfo=datetime.timezone.utc), datetime.datetime(2022, 12, 10, 0, 6, tzinfo=datetime.timezone.utc), datetime.datetime(2022, 12, 10, 0, 5, tzinfo=datetime.timezone.utc), datetime.datetime(2022, 12, 10, 0, 6, tzinfo=datetime.timezone.utc), datetime.datetime(2022, 12, 10, 0, 5, tzinfo=datetime.timezone.utc), datetime.datetime(2022, 12, 10, 0, 6, tzinfo=datetime.timezone.utc), datetime.datetime(2022, 12, 11, 22, 43, tzinfo=datetime.timezone.utc), datetime.datetime(2022, 12, 11, 22, 51, 30, tzinfo=datetime.timezone.utc), datetime.datetime(2022, 12, 12, 0, 11, 45, tzinfo=datetime.timezone.utc), datetime.datetime(2021, 11, 17, 19, 7, tzinfo=datetime.timezone.utc), datetime.datetime(2021, 11, 17, 19, 32, 45, tzinfo=datetime.timezone.utc), datetime.datetime(2021, 11, 17, 19, 35, 15, tzinfo=datetime.timezone.utc), datetime.datetime(2021, 11, 17, 19, 49, tzinfo=datetime.timezone.utc), datetime.datetime(2021, 11, 17, 21, 2, 15, tzinfo=datetime.timezone.utc), datetime.datetime(2021, 11, 17, 21, 13, 15, tzinfo=datetime.timezone.utc), datetime.datetime(2021, 11, 17, 21, 24, 15, tzinfo=datetime.timezone.utc), datetime.datetime(2021, 11, 19, 23, 12, 30, tzinfo=datetime.timezone.utc), datetime.datetime(2021, 11, 21, 23, 48, 30, tzinfo=datetime.timezone.utc), datetime.datetime(2021, 11, 19, 23, 12, 30, tzinfo=datetime.timezone.utc), datetime.datetime(2021, 11, 21, 23, 48, 30, tzinfo=datetime.timezone.utc), datetime.datetime(2021, 11, 19, 23, 12, 30, tzinfo=datetime.timezone.utc), datetime.datetime(2021, 11, 21, 23, 48, 30, tzinfo=datetime.timezone.utc), datetime.datetime(2021, 11, 20, 0, 53, tzinfo=datetime.timezone.utc), datetime.datetime(2021, 11, 20, 2, 26, 30, tzinfo=datetime.timezone.utc), datetime.datetime(2021, 11, 22, 1, 18, 30, tzinfo=datetime.timezone.utc), datetime.datetime(2021, 11, 22, 2, 24, 30, tzinfo=datetime.timezone.utc), datetime.datetime(2022, 6, 3, 19, 6, tzinfo=datetime.timezone.utc), datetime.datetime(2022, 6, 3, 22, 1, tzinfo=datetime.timezone.utc), datetime.datetime(2022, 6, 3, 22, 5, tzinfo=datetime.timezone.utc), datetime.datetime(2022, 6, 3, 19, 6, tzinfo=datetime.timezone.utc), datetime.datetime(2022, 6, 3, 22, 1, tzinfo=datetime.timezone.utc), datetime.datetime(2022, 6, 3, 22, 5, tzinfo=datetime.timezone.utc), datetime.datetime(2021, 1, 14, 10, 20, 30, tzinfo=datetime.timezone.utc), datetime.datetime(2021, 1, 14, 11, 36, 30, tzinfo=datetime.timezone.utc)]\n",
      "[]\n"
     ]
    }
   ],
   "source": [
    "#MANUALLY REMOVING SOME NON-FLARES!\n",
    "\n",
    "with open('/Users/jmdunca2/do-dem/reference_files/stdv_flares.pickle', 'rb') as f:\n",
    "    data = pickle.load(f)\n",
    "\n",
    "firsts = [d[0] for d in data['stdv_flares']]\n",
    "print(firsts)\n",
    "import datetime\n",
    "from datetime import timezone\n",
    "\n",
    "removing_these = [datetime.datetime(2016,2,19,23,50).replace(tzinfo=timezone.utc),\n",
    "                  \n",
    "                  datetime.datetime(2017,10,10,4,45).replace(tzinfo=timezone.utc),\n",
    "                  datetime.datetime(2017,10,10,5,11).replace(tzinfo=timezone.utc),\n",
    "                  datetime.datetime(2017,10,10,5,13).replace(tzinfo=timezone.utc),\n",
    "                  datetime.datetime(2017,10,10,5,16,50).replace(tzinfo=timezone.utc),\n",
    "                  datetime.datetime(2017,10,10,5,18).replace(tzinfo=timezone.utc),\n",
    "                  datetime.datetime(2020,1,29,16,50).replace(tzinfo=timezone.utc),\n",
    "                  datetime.datetime(2020,1,29,17,53,30).replace(tzinfo=timezone.utc),\n",
    "                  \n",
    "                  datetime.datetime(2021,1,8,10,14,30).replace(tzinfo=timezone.utc),\n",
    "                  datetime.datetime(2021,1,14,13,27,10).replace(tzinfo=timezone.utc),\n",
    "                  datetime.datetime(2021,11,17,18,23).replace(tzinfo=timezone.utc),\n",
    "                  datetime.datetime(2021,11,19,23,15).replace(tzinfo=timezone.utc),\n",
    "                  datetime.datetime(2021,11,22,0,42,35).replace(tzinfo=timezone.utc),\n",
    "                  datetime.datetime(2022,6,3,22,23).replace(tzinfo=timezone.utc)\n",
    "                  \n",
    "                 ]\n",
    "\n",
    "flares = data['stdv_flares']\n",
    "removals = []\n",
    "for i in range(0, len(flares)):\n",
    "    for rt in removing_these:\n",
    "        if np.logical_and(rt > flares[i][0], rt < flares[i][1]):\n",
    "            \n",
    "            removals.append(i)\n",
    "\n",
    "print(removals)\n",
    "\n",
    "keepflares = [flares[i] for i in range(0, len(flares)) if i not in removals]\n",
    "\n",
    "\n",
    "# d1 = datetime.datetime(2017,10,10,4, 30).replace(tzinfo=timezone.utc)\n",
    "# d2 = datetime.datetime(2017,10,10,6).replace(tzinfo=timezone.utc)\n",
    "\n",
    "# keepflares = np.where(np.logical_or(np.array(firsts) < d1, np.array(firsts) > d2))\n",
    "\n",
    "\n",
    "#to_keep = [data['stdv_flares'][i] for i in keepflares[0]]\n",
    "#data['stdv_flares'] = to_keep\n",
    "\n",
    "data['stdv_flares'] = keepflares\n",
    "\n",
    "with open('/Users/jmdunca2/do-dem/reference_files/stdv_flares.pickle', 'wb') as f:\n",
    "     # Pickle the 'data' dictionary using the highest protocol available.\n",
    "    pickle.dump(data, f, pickle.HIGHEST_PROTOCOL) "
   ]
  },
  {
   "cell_type": "code",
   "execution_count": 6,
   "id": "1b644ccd-7ed9-4b6b-b582-2f937c004f89",
   "metadata": {
    "execution": {
     "iopub.execute_input": "2025-08-21T15:20:00.793192Z",
     "iopub.status.busy": "2025-08-21T15:20:00.793058Z",
     "iopub.status.idle": "2025-08-21T15:31:24.475367Z",
     "shell.execute_reply": "2025-08-21T15:31:24.475070Z",
     "shell.execute_reply.started": "2025-08-21T15:20:00.793179Z"
    },
    "scrolled": true
   },
   "outputs": [
    {
     "name": "stdout",
     "output_type": "stream",
     "text": [
      "00-24-01 01-16-50\n"
     ]
    },
    {
     "name": "stderr",
     "output_type": "stream",
     "text": [
      "/Users/jmdunca2/do-dem//dodem/lightcurves.py:1028: RuntimeWarning: invalid value encountered in divide\n",
      "  countrate=counts/lvt[:-1]\n",
      "/Users/jmdunca2/do-dem//dodem/lightcurves.py:1028: RuntimeWarning: invalid value encountered in divide\n",
      "  countrate=counts/lvt[:-1]\n",
      "/Users/jmdunca2/do-dem//dodem/lightcurves.py:1028: RuntimeWarning: invalid value encountered in divide\n",
      "  countrate=counts/lvt[:-1]\n",
      "/Users/jmdunca2/do-dem//dodem/lightcurves.py:1028: RuntimeWarning: invalid value encountered in divide\n",
      "  countrate=counts/lvt[:-1]\n",
      "/Users/jmdunca2/do-dem//dodem/lightcurves.py:1028: RuntimeWarning: invalid value encountered in divide\n",
      "  countrate=counts/lvt[:-1]\n",
      "/Users/jmdunca2/do-dem//dodem/lightcurves.py:1028: RuntimeWarning: invalid value encountered in divide\n",
      "  countrate=counts/lvt[:-1]\n",
      "/Users/jmdunca2/do-dem//dodem/lightcurves.py:1028: RuntimeWarning: invalid value encountered in divide\n",
      "  countrate=counts/lvt[:-1]\n",
      "/Users/jmdunca2/do-dem//dodem/lightcurves.py:1028: RuntimeWarning: invalid value encountered in divide\n",
      "  countrate=counts/lvt[:-1]\n",
      "/Users/jmdunca2/do-dem//dodem/lightcurves.py:1028: RuntimeWarning: invalid value encountered in divide\n",
      "  countrate=counts/lvt[:-1]\n",
      "/Users/jmdunca2/do-dem//dodem/lightcurves.py:1028: RuntimeWarning: invalid value encountered in divide\n",
      "  countrate=counts/lvt[:-1]\n",
      "/Users/jmdunca2/do-dem//dodem/lightcurves.py:1028: RuntimeWarning: invalid value encountered in divide\n",
      "  countrate=counts/lvt[:-1]\n",
      "/Users/jmdunca2/do-dem//dodem/lightcurves.py:1028: RuntimeWarning: invalid value encountered in divide\n",
      "  countrate=counts/lvt[:-1]\n",
      "/Users/jmdunca2/do-dem//dodem/lightcurves.py:1028: RuntimeWarning: invalid value encountered in divide\n",
      "  countrate=counts/lvt[:-1]\n",
      "/Users/jmdunca2/do-dem//dodem/lightcurves.py:1028: RuntimeWarning: invalid value encountered in divide\n",
      "  countrate=counts/lvt[:-1]\n"
     ]
    },
    {
     "name": "stdout",
     "output_type": "stream",
     "text": [
      "Using 1s GOES flux (\"flx1s\")\n"
     ]
    },
    {
     "data": {
      "application/vnd.jupyter.widget-view+json": {
       "model_id": "21a9cdbe00534a9e9c67aea29a240cd5",
       "version_major": 2,
       "version_minor": 0
      },
      "text/plain": [
       "Files Downloaded:   0%|          | 0/1 [00:00<?, ?file/s]"
      ]
     },
     "metadata": {},
     "output_type": "display_data"
    },
    {
     "name": "stdout",
     "output_type": "stream",
     "text": [
      "/Users/jmdunca2/nustar/jul-2021/80710201001//event_cl/nu80710201001A06_cl.evt\n",
      "/Users/jmdunca2/nustar/jul-2021/80710201001/event_cl/nu80710201001A06_cl_sunpos.evt\n",
      "d\n",
      "Loading coordinates from pickle: ./centroid_coordinates/d_80710201001_fpmA_3s_RAW_centroid.pkl\n",
      "/Users/jmdunca2/nustar/jul-2021/80710201001/event_cl/nu80710201001A06_cl_sunpos.evt\n",
      "/Users/jmdunca2/nustar/jul-2021/80710201001//event_cl/nu80710201001B06_cl.evt\n",
      "/Users/jmdunca2/nustar/jul-2021/80710201001/event_cl/nu80710201001B06_cl_sunpos.evt\n",
      "d\n",
      "Loading coordinates from pickle: ./centroid_coordinates/d_80710201001_fpmB_3s_RAW_centroid.pkl\n",
      "/Users/jmdunca2/nustar/jul-2021/80710201001/event_cl/nu80710201001A06_cl_sunpos.evt\n",
      "2021-07-20 00:24:37.501239+00:00\n",
      "2021-07-20 00:40:47.501239+00:00\n",
      "\n",
      "2021-07-20 00:41:23.501239+00:00\n",
      "2021-07-20 00:47:51.501239+00:00\n",
      "\n",
      "2021-07-20 00:48:53.501239+00:00\n",
      "2021-07-20 00:56:23.501239+00:00\n",
      "\n",
      "2021-07-20 00:58:39.501239+00:00\n",
      "2021-07-20 01:10:53.501239+00:00\n",
      "\n",
      "2021-07-20 01:11:11.501239+00:00\n",
      "2021-07-20 01:16:21.501239+00:00\n",
      "\n",
      "02-52-00 03-01-18\n",
      "Using 1s GOES flux (\"flx1s\")\n"
     ]
    },
    {
     "data": {
      "application/vnd.jupyter.widget-view+json": {
       "model_id": "05287c02379942f5af6566d62436dc61",
       "version_major": 2,
       "version_minor": 0
      },
      "text/plain": [
       "Files Downloaded:   0%|          | 0/1 [00:00<?, ?file/s]"
      ]
     },
     "metadata": {},
     "output_type": "display_data"
    },
    {
     "name": "stdout",
     "output_type": "stream",
     "text": [
      "/Users/jmdunca2/nustar/jul-2021/80710202001//event_cl/nu80710202001A06_cl.evt\n",
      "/Users/jmdunca2/nustar/jul-2021/80710202001/event_cl/nu80710202001A06_cl_sunpos.evt\n",
      "d\n",
      "Loading coordinates from pickle: ./centroid_coordinates/d_80710202001_fpmA_3s_RAW_centroid.pkl\n",
      "/Users/jmdunca2/nustar/jul-2021/80710202001/event_cl/nu80710202001A06_cl_sunpos.evt\n",
      "/Users/jmdunca2/nustar/jul-2021/80710202001//event_cl/nu80710202001B06_cl.evt\n",
      "/Users/jmdunca2/nustar/jul-2021/80710202001/event_cl/nu80710202001B06_cl_sunpos.evt\n",
      "d\n",
      "Loading coordinates from pickle: ./centroid_coordinates/d_80710202001_fpmB_3s_RAW_centroid.pkl\n",
      "/Users/jmdunca2/nustar/jul-2021/80710202001/event_cl/nu80710202001A06_cl_sunpos.evt\n",
      "2021-07-20 02:52:36.500626+00:00\n",
      "2021-07-20 02:56:46.500626+00:00\n",
      "\n",
      "2021-07-20 02:57:08.500626+00:00\n",
      "2021-07-20 03:00:46.500626+00:00\n",
      "\n",
      "03-37-16 04-37-56\n",
      "Using 1s GOES flux (\"flx1s\")\n"
     ]
    },
    {
     "data": {
      "application/vnd.jupyter.widget-view+json": {
       "model_id": "f2cb0ee9156342929421d187a7e18099",
       "version_major": 2,
       "version_minor": 0
      },
      "text/plain": [
       "Files Downloaded:   0%|          | 0/1 [00:00<?, ?file/s]"
      ]
     },
     "metadata": {},
     "output_type": "display_data"
    },
    {
     "name": "stdout",
     "output_type": "stream",
     "text": [
      "/Users/jmdunca2/nustar/jul-2021/80710203001//event_cl/nu80710203001A06_cl.evt\n",
      "/Users/jmdunca2/nustar/jul-2021/80710203001/event_cl/nu80710203001A06_cl_sunpos.evt\n",
      "d\n",
      "Loading coordinates from pickle: ./centroid_coordinates/d_80710203001_fpmA_3s_RAW_centroid.pkl\n",
      "/Users/jmdunca2/nustar/jul-2021/80710203001/event_cl/nu80710203001A06_cl_sunpos.evt\n",
      "/Users/jmdunca2/nustar/jul-2021/80710203001//event_cl/nu80710203001B06_cl.evt\n",
      "/Users/jmdunca2/nustar/jul-2021/80710203001/event_cl/nu80710203001B06_cl_sunpos.evt\n",
      "d\n",
      "Loading coordinates from pickle: ./centroid_coordinates/d_80710203001_fpmB_3s_RAW_centroid.pkl\n",
      "/Users/jmdunca2/nustar/jul-2021/80710203001/event_cl/nu80710203001A06_cl_sunpos.evt\n",
      "2021-07-20 03:38:08.501953+00:00\n",
      "2021-07-20 03:44:20.501953+00:00\n",
      "\n",
      "2021-07-20 03:45:24.501953+00:00\n",
      "2021-07-20 03:53:42.501953+00:00\n",
      "\n",
      "2021-07-20 04:36:08.501953+00:00\n",
      "2021-07-20 04:37:26.501953+00:00\n",
      "\n",
      "05-13-54 06-14-34\n",
      "Using 1s GOES flux (\"flx1s\")\n"
     ]
    },
    {
     "data": {
      "application/vnd.jupyter.widget-view+json": {
       "model_id": "039db6d5e27c440aacf12d81e75a32d5",
       "version_major": 2,
       "version_minor": 0
      },
      "text/plain": [
       "Files Downloaded:   0%|          | 0/1 [00:00<?, ?file/s]"
      ]
     },
     "metadata": {},
     "output_type": "display_data"
    },
    {
     "name": "stdout",
     "output_type": "stream",
     "text": [
      "/Users/jmdunca2/nustar/jul-2021/80710204001//event_cl/nu80710204001A06_cl.evt\n",
      "/Users/jmdunca2/nustar/jul-2021/80710204001/event_cl/nu80710204001A06_cl_sunpos.evt\n",
      "d\n",
      "Loading coordinates from pickle: ./centroid_coordinates/d_80710204001_fpmA_3s_RAW_centroid.pkl\n",
      "/Users/jmdunca2/nustar/jul-2021/80710204001/event_cl/nu80710204001A06_cl_sunpos.evt\n",
      "/Users/jmdunca2/nustar/jul-2021/80710204001//event_cl/nu80710204001B06_cl.evt\n",
      "/Users/jmdunca2/nustar/jul-2021/80710204001/event_cl/nu80710204001B06_cl_sunpos.evt\n",
      "d\n",
      "Loading coordinates from pickle: ./centroid_coordinates/d_80710204001_fpmB_3s_RAW_centroid.pkl\n",
      "/Users/jmdunca2/nustar/jul-2021/80710204001/event_cl/nu80710204001A06_cl_sunpos.evt\n",
      "2021-07-20 05:14:30.505021+00:00\n",
      "2021-07-20 05:23:10.505021+00:00\n",
      "\n",
      "2021-07-20 05:23:16.505021+00:00\n",
      "2021-07-20 05:24:28.505021+00:00\n",
      "\n",
      "2021-07-20 06:00:20.505021+00:00\n",
      "2021-07-20 06:03:52.505021+00:00\n",
      "\n",
      "2021-07-20 06:04:16.505021+00:00\n",
      "2021-07-20 06:04:56.505021+00:00\n",
      "\n",
      "2021-07-20 06:05:10.505021+00:00\n",
      "2021-07-20 06:09:58.505021+00:00\n",
      "\n",
      "2021-07-20 06:10:22.505021+00:00\n",
      "2021-07-20 06:14:04.505021+00:00\n",
      "\n",
      "06-50-32 07-51-12\n",
      "Using 1s GOES flux (\"flx1s\")\n"
     ]
    },
    {
     "data": {
      "application/vnd.jupyter.widget-view+json": {
       "model_id": "0e8a04f96da44c8f9c57ed648327bb42",
       "version_major": 2,
       "version_minor": 0
      },
      "text/plain": [
       "Files Downloaded:   0%|          | 0/1 [00:00<?, ?file/s]"
      ]
     },
     "metadata": {},
     "output_type": "display_data"
    },
    {
     "name": "stdout",
     "output_type": "stream",
     "text": [
      "/Users/jmdunca2/nustar/jul-2021/80710205001//event_cl/nu80710205001A06_cl.evt\n",
      "/Users/jmdunca2/nustar/jul-2021/80710205001/event_cl/nu80710205001A06_cl_sunpos.evt\n",
      "d\n",
      "Loading coordinates from pickle: ./centroid_coordinates/d_80710205001_fpmA_3s_RAW_centroid.pkl\n",
      "/Users/jmdunca2/nustar/jul-2021/80710205001/event_cl/nu80710205001A06_cl_sunpos.evt\n",
      "/Users/jmdunca2/nustar/jul-2021/80710205001//event_cl/nu80710205001B06_cl.evt\n",
      "/Users/jmdunca2/nustar/jul-2021/80710205001/event_cl/nu80710205001B06_cl_sunpos.evt\n",
      "d\n",
      "Loading coordinates from pickle: ./centroid_coordinates/d_80710205001_fpmB_3s_RAW_centroid.pkl\n",
      "/Users/jmdunca2/nustar/jul-2021/80710205001/event_cl/nu80710205001A06_cl_sunpos.evt\n",
      "2021-07-20 06:51:08.500450+00:00\n",
      "2021-07-20 07:07:24.500450+00:00\n",
      "\n",
      "2021-07-20 07:08:02.500450+00:00\n",
      "2021-07-20 07:14:16.500450+00:00\n",
      "\n",
      "2021-07-20 07:15:18.500450+00:00\n",
      "2021-07-20 07:27:48.500450+00:00\n",
      "\n",
      "2021-07-20 07:28:58.500450+00:00\n",
      "2021-07-20 07:50:42.500450+00:00\n",
      "\n",
      "08-27-09 09-27-50\n",
      "Using 1s GOES flux (\"flx1s\")\n"
     ]
    },
    {
     "data": {
      "application/vnd.jupyter.widget-view+json": {
       "model_id": "049e6f9ed2e946f0b170c6e79ca9f945",
       "version_major": 2,
       "version_minor": 0
      },
      "text/plain": [
       "Files Downloaded:   0%|          | 0/1 [00:00<?, ?file/s]"
      ]
     },
     "metadata": {},
     "output_type": "display_data"
    },
    {
     "name": "stdout",
     "output_type": "stream",
     "text": [
      "/Users/jmdunca2/nustar/jul-2021/80710206001//event_cl/nu80710206001A06_cl.evt\n",
      "/Users/jmdunca2/nustar/jul-2021/80710206001/event_cl/nu80710206001A06_cl_sunpos.evt\n",
      "d\n",
      "Loading coordinates from pickle: ./centroid_coordinates/d_80710206001_fpmA_3s_RAW_centroid.pkl\n",
      "/Users/jmdunca2/nustar/jul-2021/80710206001/event_cl/nu80710206001A06_cl_sunpos.evt\n",
      "/Users/jmdunca2/nustar/jul-2021/80710206001//event_cl/nu80710206001B06_cl.evt\n",
      "/Users/jmdunca2/nustar/jul-2021/80710206001/event_cl/nu80710206001B06_cl_sunpos.evt\n",
      "d\n",
      "Loading coordinates from pickle: ./centroid_coordinates/d_80710206001_fpmB_3s_RAW_centroid.pkl\n",
      "/Users/jmdunca2/nustar/jul-2021/80710206001/event_cl/nu80710206001A06_cl_sunpos.evt\n",
      "2021-07-20 08:27:45.502196+00:00\n",
      "2021-07-20 08:39:59.502196+00:00\n",
      "\n",
      "2021-07-20 08:48:23.502196+00:00\n",
      "2021-07-20 08:51:43.502196+00:00\n",
      "\n",
      "2021-07-20 08:51:47.502196+00:00\n",
      "2021-07-20 09:13:59.502196+00:00\n",
      "\n",
      "2021-07-20 09:14:17.502196+00:00\n",
      "2021-07-20 09:16:59.502196+00:00\n",
      "\n",
      "2021-07-20 09:21:29.502196+00:00\n",
      "2021-07-20 09:22:35.502196+00:00\n",
      "\n",
      "2021-07-20 09:23:31.502196+00:00\n",
      "2021-07-20 09:27:19.502196+00:00\n",
      "\n",
      "10-03-47 11-04-28\n",
      "Using 1s GOES flux (\"flx1s\")\n"
     ]
    },
    {
     "data": {
      "application/vnd.jupyter.widget-view+json": {
       "model_id": "877d80986e6a42a4b92bd60209e6e6c3",
       "version_major": 2,
       "version_minor": 0
      },
      "text/plain": [
       "Files Downloaded:   0%|          | 0/1 [00:00<?, ?file/s]"
      ]
     },
     "metadata": {},
     "output_type": "display_data"
    },
    {
     "name": "stdout",
     "output_type": "stream",
     "text": [
      "/Users/jmdunca2/nustar/jul-2021/80710207001//event_cl/nu80710207001A06_cl.evt\n",
      "/Users/jmdunca2/nustar/jul-2021/80710207001/event_cl/nu80710207001A06_cl_sunpos.evt\n",
      "d\n",
      "Loading coordinates from pickle: ./centroid_coordinates/d_80710207001_fpmA_3s_RAW_centroid.pkl\n",
      "/Users/jmdunca2/nustar/jul-2021/80710207001/event_cl/nu80710207001A06_cl_sunpos.evt\n",
      "/Users/jmdunca2/nustar/jul-2021/80710207001//event_cl/nu80710207001B06_cl.evt\n",
      "/Users/jmdunca2/nustar/jul-2021/80710207001/event_cl/nu80710207001B06_cl_sunpos.evt\n",
      "d\n",
      "Loading coordinates from pickle: ./centroid_coordinates/d_80710207001_fpmB_3s_RAW_centroid.pkl\n",
      "/Users/jmdunca2/nustar/jul-2021/80710207001/event_cl/nu80710207001A06_cl_sunpos.evt\n",
      "2021-07-20 10:04:23.503749+00:00\n",
      "2021-07-20 10:20:51.503749+00:00\n",
      "\n",
      "2021-07-20 10:21:11.503749+00:00\n",
      "2021-07-20 10:21:51.503749+00:00\n",
      "\n",
      "2021-07-20 10:22:01.503749+00:00\n",
      "2021-07-20 10:22:51.503749+00:00\n",
      "\n",
      "2021-07-20 10:23:49.503749+00:00\n",
      "2021-07-20 10:27:31.503749+00:00\n",
      "\n",
      "2021-07-20 10:28:29.503749+00:00\n",
      "2021-07-20 10:59:39.503749+00:00\n",
      "\n",
      "2021-07-20 11:00:07.503749+00:00\n",
      "2021-07-20 11:03:57.503749+00:00\n",
      "\n",
      "11-40-25 12-41-06\n",
      "Using 1s GOES flux (\"flx1s\")\n"
     ]
    },
    {
     "data": {
      "application/vnd.jupyter.widget-view+json": {
       "model_id": "a0cb67f6e4aa4dad84bd69a406f2469b",
       "version_major": 2,
       "version_minor": 0
      },
      "text/plain": [
       "Files Downloaded:   0%|          | 0/1 [00:00<?, ?file/s]"
      ]
     },
     "metadata": {},
     "output_type": "display_data"
    },
    {
     "name": "stdout",
     "output_type": "stream",
     "text": [
      "/Users/jmdunca2/nustar/jul-2021/80710208001//event_cl/nu80710208001A06_cl.evt\n",
      "/Users/jmdunca2/nustar/jul-2021/80710208001/event_cl/nu80710208001A06_cl_sunpos.evt\n",
      "d\n",
      "Loading coordinates from pickle: ./centroid_coordinates/d_80710208001_fpmA_3s_RAW_centroid.pkl\n",
      "/Users/jmdunca2/nustar/jul-2021/80710208001/event_cl/nu80710208001A06_cl_sunpos.evt\n",
      "/Users/jmdunca2/nustar/jul-2021/80710208001//event_cl/nu80710208001B06_cl.evt\n",
      "/Users/jmdunca2/nustar/jul-2021/80710208001/event_cl/nu80710208001B06_cl_sunpos.evt\n",
      "d\n",
      "Loading coordinates from pickle: ./centroid_coordinates/d_80710208001_fpmB_3s_RAW_centroid.pkl\n",
      "/Users/jmdunca2/nustar/jul-2021/80710208001/event_cl/nu80710208001A06_cl_sunpos.evt\n",
      "2021-07-20 11:41:01.500000+00:00\n",
      "2021-07-20 11:56:39.500000+00:00\n",
      "\n",
      "2021-07-20 12:03:29.500000+00:00\n",
      "2021-07-20 12:04:09.500000+00:00\n",
      "\n",
      "2021-07-20 12:05:07.500000+00:00\n",
      "2021-07-20 12:20:17.500000+00:00\n",
      "\n",
      "2021-07-20 12:21:23.500000+00:00\n",
      "2021-07-20 12:30:29.500000+00:00\n",
      "\n",
      "2021-07-20 12:31:33.500000+00:00\n",
      "2021-07-20 12:35:51.500000+00:00\n",
      "\n",
      "2021-07-20 12:36:45.500000+00:00\n",
      "2021-07-20 12:40:35.500000+00:00\n",
      "\n",
      "No DEM file:  /Users/jmdunca2/do-dem/DEM_folders//initial_dem_20jul21//north/01-16-05_01-16-50/01-16-05_01-16-50_5.6_7.2_20-jul-21_MC_DEM_result.pickle\n",
      "00-24-01 01-16-50\n",
      "Using 1s GOES flux (\"flx1s\")\n"
     ]
    },
    {
     "data": {
      "application/vnd.jupyter.widget-view+json": {
       "model_id": "0c19e5e2173b44cb9e0f554a52496c18",
       "version_major": 2,
       "version_minor": 0
      },
      "text/plain": [
       "Files Downloaded:   0%|          | 0/1 [00:00<?, ?file/s]"
      ]
     },
     "metadata": {},
     "output_type": "display_data"
    },
    {
     "name": "stdout",
     "output_type": "stream",
     "text": [
      "/Users/jmdunca2/nustar/jul-2021/80710201001//event_cl/nu80710201001A06_cl.evt\n",
      "/Users/jmdunca2/nustar/jul-2021/80710201001/event_cl/nu80710201001A06_cl_sunpos.evt\n",
      "d\n",
      "Loading coordinates from pickle: ./centroid_coordinates/d_80710201001_fpmA_3s_RAW_centroid.pkl\n",
      "/Users/jmdunca2/nustar/jul-2021/80710201001/event_cl/nu80710201001A06_cl_sunpos.evt\n",
      "/Users/jmdunca2/nustar/jul-2021/80710201001//event_cl/nu80710201001B06_cl.evt\n",
      "/Users/jmdunca2/nustar/jul-2021/80710201001/event_cl/nu80710201001B06_cl_sunpos.evt\n",
      "d\n",
      "Loading coordinates from pickle: ./centroid_coordinates/d_80710201001_fpmB_3s_RAW_centroid.pkl\n",
      "/Users/jmdunca2/nustar/jul-2021/80710201001/event_cl/nu80710201001A06_cl_sunpos.evt\n",
      "2021-07-20 00:24:37.501239+00:00\n",
      "2021-07-20 00:40:47.501239+00:00\n",
      "\n",
      "2021-07-20 00:41:23.501239+00:00\n",
      "2021-07-20 00:47:51.501239+00:00\n",
      "\n",
      "2021-07-20 00:48:53.501239+00:00\n",
      "2021-07-20 00:56:23.501239+00:00\n",
      "\n",
      "2021-07-20 00:58:39.501239+00:00\n",
      "2021-07-20 01:10:53.501239+00:00\n",
      "\n",
      "2021-07-20 01:11:11.501239+00:00\n",
      "2021-07-20 01:16:21.501239+00:00\n",
      "\n",
      "02-52-00 03-01-18\n",
      "Using 1s GOES flux (\"flx1s\")\n"
     ]
    },
    {
     "data": {
      "application/vnd.jupyter.widget-view+json": {
       "model_id": "7b8ca681268a42e5ad90ac9e329120ca",
       "version_major": 2,
       "version_minor": 0
      },
      "text/plain": [
       "Files Downloaded:   0%|          | 0/1 [00:00<?, ?file/s]"
      ]
     },
     "metadata": {},
     "output_type": "display_data"
    },
    {
     "name": "stdout",
     "output_type": "stream",
     "text": [
      "/Users/jmdunca2/nustar/jul-2021/80710202001//event_cl/nu80710202001A06_cl.evt\n",
      "/Users/jmdunca2/nustar/jul-2021/80710202001/event_cl/nu80710202001A06_cl_sunpos.evt\n",
      "d\n",
      "Loading coordinates from pickle: ./centroid_coordinates/d_80710202001_fpmA_3s_RAW_centroid.pkl\n",
      "/Users/jmdunca2/nustar/jul-2021/80710202001/event_cl/nu80710202001A06_cl_sunpos.evt\n",
      "/Users/jmdunca2/nustar/jul-2021/80710202001//event_cl/nu80710202001B06_cl.evt\n",
      "/Users/jmdunca2/nustar/jul-2021/80710202001/event_cl/nu80710202001B06_cl_sunpos.evt\n",
      "d\n",
      "Loading coordinates from pickle: ./centroid_coordinates/d_80710202001_fpmB_3s_RAW_centroid.pkl\n",
      "/Users/jmdunca2/nustar/jul-2021/80710202001/event_cl/nu80710202001A06_cl_sunpos.evt\n",
      "2021-07-20 02:52:36.500626+00:00\n",
      "2021-07-20 02:56:46.500626+00:00\n",
      "\n",
      "2021-07-20 02:57:08.500626+00:00\n",
      "2021-07-20 03:00:46.500626+00:00\n",
      "\n",
      "03-37-16 04-37-56\n",
      "Using 1s GOES flux (\"flx1s\")\n"
     ]
    },
    {
     "data": {
      "application/vnd.jupyter.widget-view+json": {
       "model_id": "2321088a44d8423f8adb621956250001",
       "version_major": 2,
       "version_minor": 0
      },
      "text/plain": [
       "Files Downloaded:   0%|          | 0/1 [00:00<?, ?file/s]"
      ]
     },
     "metadata": {},
     "output_type": "display_data"
    },
    {
     "name": "stdout",
     "output_type": "stream",
     "text": [
      "/Users/jmdunca2/nustar/jul-2021/80710203001//event_cl/nu80710203001A06_cl.evt\n",
      "/Users/jmdunca2/nustar/jul-2021/80710203001/event_cl/nu80710203001A06_cl_sunpos.evt\n",
      "d\n",
      "Loading coordinates from pickle: ./centroid_coordinates/d_80710203001_fpmA_3s_RAW_centroid.pkl\n",
      "/Users/jmdunca2/nustar/jul-2021/80710203001/event_cl/nu80710203001A06_cl_sunpos.evt\n",
      "/Users/jmdunca2/nustar/jul-2021/80710203001//event_cl/nu80710203001B06_cl.evt\n",
      "/Users/jmdunca2/nustar/jul-2021/80710203001/event_cl/nu80710203001B06_cl_sunpos.evt\n",
      "d\n",
      "Loading coordinates from pickle: ./centroid_coordinates/d_80710203001_fpmB_3s_RAW_centroid.pkl\n",
      "/Users/jmdunca2/nustar/jul-2021/80710203001/event_cl/nu80710203001A06_cl_sunpos.evt\n",
      "2021-07-20 03:38:08.501953+00:00\n",
      "2021-07-20 03:44:20.501953+00:00\n",
      "\n",
      "2021-07-20 03:45:24.501953+00:00\n",
      "2021-07-20 03:53:42.501953+00:00\n",
      "\n",
      "2021-07-20 04:36:08.501953+00:00\n",
      "2021-07-20 04:37:26.501953+00:00\n",
      "\n",
      "05-13-54 06-14-34\n",
      "Using 1s GOES flux (\"flx1s\")\n"
     ]
    },
    {
     "data": {
      "application/vnd.jupyter.widget-view+json": {
       "model_id": "9895e8fc5e2149d59dae05a396af3018",
       "version_major": 2,
       "version_minor": 0
      },
      "text/plain": [
       "Files Downloaded:   0%|          | 0/1 [00:00<?, ?file/s]"
      ]
     },
     "metadata": {},
     "output_type": "display_data"
    },
    {
     "name": "stdout",
     "output_type": "stream",
     "text": [
      "/Users/jmdunca2/nustar/jul-2021/80710204001//event_cl/nu80710204001A06_cl.evt\n",
      "/Users/jmdunca2/nustar/jul-2021/80710204001/event_cl/nu80710204001A06_cl_sunpos.evt\n",
      "d\n",
      "Loading coordinates from pickle: ./centroid_coordinates/d_80710204001_fpmA_3s_RAW_centroid.pkl\n",
      "/Users/jmdunca2/nustar/jul-2021/80710204001/event_cl/nu80710204001A06_cl_sunpos.evt\n",
      "/Users/jmdunca2/nustar/jul-2021/80710204001//event_cl/nu80710204001B06_cl.evt\n",
      "/Users/jmdunca2/nustar/jul-2021/80710204001/event_cl/nu80710204001B06_cl_sunpos.evt\n",
      "d\n",
      "Loading coordinates from pickle: ./centroid_coordinates/d_80710204001_fpmB_3s_RAW_centroid.pkl\n",
      "/Users/jmdunca2/nustar/jul-2021/80710204001/event_cl/nu80710204001A06_cl_sunpos.evt\n",
      "2021-07-20 05:14:30.505021+00:00\n",
      "2021-07-20 05:23:10.505021+00:00\n",
      "\n",
      "2021-07-20 05:23:16.505021+00:00\n",
      "2021-07-20 05:24:28.505021+00:00\n",
      "\n",
      "2021-07-20 06:00:20.505021+00:00\n",
      "2021-07-20 06:03:52.505021+00:00\n",
      "\n",
      "2021-07-20 06:04:16.505021+00:00\n",
      "2021-07-20 06:04:56.505021+00:00\n",
      "\n",
      "2021-07-20 06:05:10.505021+00:00\n",
      "2021-07-20 06:09:58.505021+00:00\n",
      "\n",
      "2021-07-20 06:10:22.505021+00:00\n",
      "2021-07-20 06:14:04.505021+00:00\n",
      "\n",
      "06-50-32 07-51-12\n",
      "Using 1s GOES flux (\"flx1s\")\n"
     ]
    },
    {
     "data": {
      "application/vnd.jupyter.widget-view+json": {
       "model_id": "e4b904d35d374caea159aeac4ba3a2b7",
       "version_major": 2,
       "version_minor": 0
      },
      "text/plain": [
       "Files Downloaded:   0%|          | 0/1 [00:00<?, ?file/s]"
      ]
     },
     "metadata": {},
     "output_type": "display_data"
    },
    {
     "name": "stdout",
     "output_type": "stream",
     "text": [
      "/Users/jmdunca2/nustar/jul-2021/80710205001//event_cl/nu80710205001A06_cl.evt\n",
      "/Users/jmdunca2/nustar/jul-2021/80710205001/event_cl/nu80710205001A06_cl_sunpos.evt\n",
      "d\n",
      "Loading coordinates from pickle: ./centroid_coordinates/d_80710205001_fpmA_3s_RAW_centroid.pkl\n",
      "/Users/jmdunca2/nustar/jul-2021/80710205001/event_cl/nu80710205001A06_cl_sunpos.evt\n",
      "/Users/jmdunca2/nustar/jul-2021/80710205001//event_cl/nu80710205001B06_cl.evt\n",
      "/Users/jmdunca2/nustar/jul-2021/80710205001/event_cl/nu80710205001B06_cl_sunpos.evt\n",
      "d\n",
      "Loading coordinates from pickle: ./centroid_coordinates/d_80710205001_fpmB_3s_RAW_centroid.pkl\n",
      "/Users/jmdunca2/nustar/jul-2021/80710205001/event_cl/nu80710205001A06_cl_sunpos.evt\n",
      "2021-07-20 06:51:08.500450+00:00\n",
      "2021-07-20 07:07:24.500450+00:00\n",
      "\n",
      "2021-07-20 07:08:02.500450+00:00\n",
      "2021-07-20 07:14:16.500450+00:00\n",
      "\n",
      "2021-07-20 07:15:18.500450+00:00\n",
      "2021-07-20 07:27:48.500450+00:00\n",
      "\n",
      "2021-07-20 07:28:58.500450+00:00\n",
      "2021-07-20 07:50:42.500450+00:00\n",
      "\n",
      "08-27-09 09-27-50\n",
      "Using 1s GOES flux (\"flx1s\")\n"
     ]
    },
    {
     "data": {
      "application/vnd.jupyter.widget-view+json": {
       "model_id": "f93a20b6f3d44fa1b0f86be121e00122",
       "version_major": 2,
       "version_minor": 0
      },
      "text/plain": [
       "Files Downloaded:   0%|          | 0/1 [00:00<?, ?file/s]"
      ]
     },
     "metadata": {},
     "output_type": "display_data"
    },
    {
     "name": "stdout",
     "output_type": "stream",
     "text": [
      "/Users/jmdunca2/nustar/jul-2021/80710206001//event_cl/nu80710206001A06_cl.evt\n",
      "/Users/jmdunca2/nustar/jul-2021/80710206001/event_cl/nu80710206001A06_cl_sunpos.evt\n",
      "d\n",
      "Loading coordinates from pickle: ./centroid_coordinates/d_80710206001_fpmA_3s_RAW_centroid.pkl\n",
      "/Users/jmdunca2/nustar/jul-2021/80710206001/event_cl/nu80710206001A06_cl_sunpos.evt\n",
      "/Users/jmdunca2/nustar/jul-2021/80710206001//event_cl/nu80710206001B06_cl.evt\n",
      "/Users/jmdunca2/nustar/jul-2021/80710206001/event_cl/nu80710206001B06_cl_sunpos.evt\n",
      "d\n",
      "Loading coordinates from pickle: ./centroid_coordinates/d_80710206001_fpmB_3s_RAW_centroid.pkl\n",
      "/Users/jmdunca2/nustar/jul-2021/80710206001/event_cl/nu80710206001A06_cl_sunpos.evt\n",
      "2021-07-20 08:27:45.502196+00:00\n",
      "2021-07-20 08:39:59.502196+00:00\n",
      "\n",
      "2021-07-20 08:48:23.502196+00:00\n",
      "2021-07-20 08:51:43.502196+00:00\n",
      "\n",
      "2021-07-20 08:51:47.502196+00:00\n",
      "2021-07-20 09:13:59.502196+00:00\n",
      "\n",
      "2021-07-20 09:14:17.502196+00:00\n",
      "2021-07-20 09:16:59.502196+00:00\n",
      "\n",
      "2021-07-20 09:21:29.502196+00:00\n",
      "2021-07-20 09:22:35.502196+00:00\n",
      "\n",
      "2021-07-20 09:23:31.502196+00:00\n",
      "2021-07-20 09:27:19.502196+00:00\n",
      "\n",
      "10-03-47 11-04-28\n",
      "Using 1s GOES flux (\"flx1s\")\n"
     ]
    },
    {
     "data": {
      "application/vnd.jupyter.widget-view+json": {
       "model_id": "0e3db6ac61ba4baa9b02b63f0e0f1524",
       "version_major": 2,
       "version_minor": 0
      },
      "text/plain": [
       "Files Downloaded:   0%|          | 0/1 [00:00<?, ?file/s]"
      ]
     },
     "metadata": {},
     "output_type": "display_data"
    },
    {
     "name": "stdout",
     "output_type": "stream",
     "text": [
      "/Users/jmdunca2/nustar/jul-2021/80710207001//event_cl/nu80710207001A06_cl.evt\n",
      "/Users/jmdunca2/nustar/jul-2021/80710207001/event_cl/nu80710207001A06_cl_sunpos.evt\n",
      "d\n",
      "Loading coordinates from pickle: ./centroid_coordinates/d_80710207001_fpmA_3s_RAW_centroid.pkl\n",
      "/Users/jmdunca2/nustar/jul-2021/80710207001/event_cl/nu80710207001A06_cl_sunpos.evt\n",
      "/Users/jmdunca2/nustar/jul-2021/80710207001//event_cl/nu80710207001B06_cl.evt\n",
      "/Users/jmdunca2/nustar/jul-2021/80710207001/event_cl/nu80710207001B06_cl_sunpos.evt\n",
      "d\n",
      "Loading coordinates from pickle: ./centroid_coordinates/d_80710207001_fpmB_3s_RAW_centroid.pkl\n",
      "/Users/jmdunca2/nustar/jul-2021/80710207001/event_cl/nu80710207001A06_cl_sunpos.evt\n",
      "2021-07-20 10:04:23.503749+00:00\n",
      "2021-07-20 10:20:51.503749+00:00\n",
      "\n",
      "2021-07-20 10:21:11.503749+00:00\n",
      "2021-07-20 10:21:51.503749+00:00\n",
      "\n",
      "2021-07-20 10:22:01.503749+00:00\n",
      "2021-07-20 10:22:51.503749+00:00\n",
      "\n",
      "2021-07-20 10:23:49.503749+00:00\n",
      "2021-07-20 10:27:31.503749+00:00\n",
      "\n",
      "2021-07-20 10:28:29.503749+00:00\n",
      "2021-07-20 10:59:39.503749+00:00\n",
      "\n",
      "2021-07-20 11:00:07.503749+00:00\n",
      "2021-07-20 11:03:57.503749+00:00\n",
      "\n",
      "11-40-25 12-41-06\n",
      "Using 1s GOES flux (\"flx1s\")\n"
     ]
    },
    {
     "data": {
      "application/vnd.jupyter.widget-view+json": {
       "model_id": "d0d5d84ecb4f471e99052cbdfb10b3fb",
       "version_major": 2,
       "version_minor": 0
      },
      "text/plain": [
       "Files Downloaded:   0%|          | 0/1 [00:00<?, ?file/s]"
      ]
     },
     "metadata": {},
     "output_type": "display_data"
    },
    {
     "name": "stdout",
     "output_type": "stream",
     "text": [
      "/Users/jmdunca2/nustar/jul-2021/80710208001//event_cl/nu80710208001A06_cl.evt\n",
      "/Users/jmdunca2/nustar/jul-2021/80710208001/event_cl/nu80710208001A06_cl_sunpos.evt\n",
      "d\n",
      "Loading coordinates from pickle: ./centroid_coordinates/d_80710208001_fpmA_3s_RAW_centroid.pkl\n",
      "/Users/jmdunca2/nustar/jul-2021/80710208001/event_cl/nu80710208001A06_cl_sunpos.evt\n",
      "/Users/jmdunca2/nustar/jul-2021/80710208001//event_cl/nu80710208001B06_cl.evt\n",
      "/Users/jmdunca2/nustar/jul-2021/80710208001/event_cl/nu80710208001B06_cl_sunpos.evt\n",
      "d\n",
      "Loading coordinates from pickle: ./centroid_coordinates/d_80710208001_fpmB_3s_RAW_centroid.pkl\n",
      "/Users/jmdunca2/nustar/jul-2021/80710208001/event_cl/nu80710208001A06_cl_sunpos.evt\n",
      "2021-07-20 11:41:01.500000+00:00\n",
      "2021-07-20 11:56:39.500000+00:00\n",
      "\n",
      "2021-07-20 12:03:29.500000+00:00\n",
      "2021-07-20 12:04:09.500000+00:00\n",
      "\n",
      "2021-07-20 12:05:07.500000+00:00\n",
      "2021-07-20 12:20:17.500000+00:00\n",
      "\n",
      "2021-07-20 12:21:23.500000+00:00\n",
      "2021-07-20 12:30:29.500000+00:00\n",
      "\n",
      "2021-07-20 12:31:33.500000+00:00\n",
      "2021-07-20 12:35:51.500000+00:00\n",
      "\n",
      "2021-07-20 12:36:45.500000+00:00\n",
      "2021-07-20 12:40:35.500000+00:00\n",
      "\n"
     ]
    }
   ],
   "source": [
    "#summary lightcurves for all orbits/all regions\n",
    "importlib.reload(ana)\n",
    "ki=23\n",
    "\n",
    "#for ki in range(0, len(keys)):\n",
    "k=keys[ki]\n",
    "method = all_targets[k]['method']\n",
    "ana.make_summary_lcs(k, '/Users/jmdunca2/do-dem/reference_files/all_targets.pickle',\n",
    "                     flarepath='/Users/jmdunca2/do-dem/reference_files/',\n",
    "                     method=method, show=False, goes=True)"
   ]
  },
  {
   "cell_type": "code",
   "execution_count": null,
   "id": "725e4bb2-0260-4962-b9c1-0f901aaab324",
   "metadata": {},
   "outputs": [],
   "source": []
  }
 ],
 "metadata": {
  "kernelspec": {
   "display_name": "Python 3 (ipykernel)",
   "language": "python",
   "name": "python3"
  },
  "language_info": {
   "codemirror_mode": {
    "name": "ipython",
    "version": 3
   },
   "file_extension": ".py",
   "mimetype": "text/x-python",
   "name": "python",
   "nbconvert_exporter": "python",
   "pygments_lexer": "ipython3",
   "version": "3.10.13"
  }
 },
 "nbformat": 4,
 "nbformat_minor": 5
}
