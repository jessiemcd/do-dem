{
 "cells": [
  {
   "cell_type": "markdown",
   "id": "7848554d",
   "metadata": {},
   "source": [
    "An example notebook to make a plot showing DEM results over a period of time longer than a single orbit.\n",
    "\n",
    "The idea is that you have used the time interval selection code for each orbit (or other longer interval), and have saved time interval files (see time_interval_selection.ipynb), and that you have also already run DEMs for time intervals in each orbit using those files (see all_orbit_DEMs.ipynb). \n",
    "\n",
    "Here, we will provide a two options for loading in all the time intervals, and then making a summary plot. \n",
    "\n",
    "1: enter your own list of time interval files as paths.\n",
    "2: enter a list of time ranges, and some other parameters.\n",
    "\n",
    "For the latter, certain DEM inputs will need to be the same across each of your longer intervals:\n",
    "- energy range used for time interval selection (TIS)\n",
    "- type of counts (grade, pile-up corr) used for TIS\n",
    "- min counts/interval used for TIS\n",
    "\n",
    "In general this is intended for the case where you have done DEMs the same way in each time interval, and as such a longer time profile can show the evolution of the region. "
   ]
  },
  {
   "cell_type": "code",
   "execution_count": 3,
   "id": "dec12ae2",
   "metadata": {
    "ExecuteTime": {
     "end_time": "2024-05-03T17:33:11.486296Z",
     "start_time": "2024-05-03T17:33:03.337719Z"
    }
   },
   "outputs": [
    {
     "data": {
      "text/plain": [
       "'/Users/jessieduncan/do-dem'"
      ]
     },
     "execution_count": 3,
     "metadata": {},
     "output_type": "execute_result"
    }
   ],
   "source": [
    "#AIA Error table - set path to location in your system.\n",
    "errortab='/Users/jessieduncan/ssw/sdo/aia/response/aia_V3_error_table.txt'\n",
    "\n",
    "#Sunpy data directory (or wherever else you store your downloaded AIA data)\n",
    "sunpy_dir='/Users/jessieduncan/sunpy/data/'\n",
    "\n",
    "#Path to top-level do-dem directory - edit for your system.\n",
    "path_to_dodem = '/Users/jessieduncan/do-dem/'\n",
    "from sys import path as sys_path\n",
    "sys_path.append(path_to_dodem+'/dodem/')\n",
    "\n",
    "#do-dem\n",
    "#import lightcurves as lc\n",
    "#import region_fitting as rf\n",
    "#import nustar_dem_prep as nu\n",
    "#import dodem\n",
    "import time_interval_selection as tis\n",
    "import visualize_dem_results as viz\n",
    "\n",
    "#Basics\n",
    "import numpy as np\n",
    "import importlib\n",
    "import matplotlib.pyplot as plt\n",
    "from astropy import units as u\n",
    "\n",
    "#Time\n",
    "import matplotlib.dates as mdates\n",
    "import astropy.time\n",
    "import datetime\n",
    "\n",
    "#File wrangling\n",
    "import glob\n",
    "import copy\n",
    "import pickle\n",
    "import os\n",
    "import pathlib\n",
    "os.getcwd()"
   ]
  },
  {
   "cell_type": "markdown",
   "id": "fc5040f8",
   "metadata": {},
   "source": [
    "First, let's find the time interval files:"
   ]
  },
  {
   "cell_type": "code",
   "execution_count": null,
   "id": "74422005",
   "metadata": {},
   "outputs": [],
   "source": [
    "# #Option one: user-input of the actual paths to the files:\n",
    "# all_time_intervals=[]\n",
    "# time_interval_files = ['./15-59-30_16-02-00_corr54_min10time_intervals.pickle', \n",
    "#                        './16-17-30_16-25-00_corr54_min10time_intervals.pickle']\n",
    "\n",
    "# for tf in time_interval_files:\n",
    "#     print('')\n",
    "#     time_intervals = tis.get_saved_intervals('', lctype='corr54', erange=[6.,10],       \n",
    "#                                          countmin=10, custom_file=tf)\n",
    "#     #Print resulting intervals\n",
    "#     count=0    \n",
    "#     for t in time_intervals:\n",
    "#         print(count, t[0].strftime('%H-%M-%S'), t[1].strftime('%H-%M-%S'))\n",
    "#         count+=1\n",
    "    \n",
    "#     all_time_intervals.append(time_intervals)"
   ]
  },
  {
   "cell_type": "code",
   "execution_count": null,
   "id": "9a304b0e",
   "metadata": {},
   "outputs": [],
   "source": [
    "#Option two: user-input of the time ranges and other parameters used to make the time interval files,\n",
    "#and then we will load a list of files. \n",
    "lctype='corr54'\n",
    "erange=[6.,10.]\n",
    "countmin=10\n",
    "working_dir='./initial_dem/'\n",
    "timeranges=[[datetime.datetime(2018, 5, 29, 22, 22), datetime.datetime(2018, 5, 29, 23, 20)],\n",
    "            [datetime.datetime(2018, 5, 29, 22, 22), datetime.datetime(2018, 5, 29, 23, 20)]]\n",
    "\n",
    "all_time_intervals=[]\n",
    "for tr in timeranges:\n",
    "    print('')\n",
    "    time_intervals = tis.get_saved_intervals(timerange, lctype=lctype, erange=erange,       \n",
    "                                         countmin=countmin, custom_file=[], basedir=working_dir)\n",
    "    #Print resulting intervals\n",
    "    count=0    \n",
    "    for t in time_intervals:\n",
    "        print(count, t[0].strftime('%H-%M-%S'), t[1].strftime('%H-%M-%S'))\n",
    "        count+=1\n",
    "        \n",
    "    all_time_intervals.append(time_intervals)"
   ]
  },
  {
   "cell_type": "markdown",
   "id": "a7725909",
   "metadata": {},
   "source": [
    "Now, use these time intervals to fetch the DEM results and make a summary plot for all orbits:"
   ]
  },
  {
   "cell_type": "code",
   "execution_count": null,
   "id": "2e019b9d",
   "metadata": {},
   "outputs": [],
   "source": [
    "working_dir='./initial_dem/'\n",
    "name='initial_dem'\n",
    "viz.multi_orbit_summary(all_time_intervals, working_dir, name, minT=5.6, maxT=7.2)  \n",
    "    "
   ]
  },
  {
   "cell_type": "code",
   "execution_count": null,
   "id": "39a532dc",
   "metadata": {},
   "outputs": [],
   "source": []
  }
 ],
 "metadata": {
  "kernelspec": {
   "display_name": "Python 3 (ipykernel)",
   "language": "python",
   "name": "python3"
  },
  "language_info": {
   "codemirror_mode": {
    "name": "ipython",
    "version": 3
   },
   "file_extension": ".py",
   "mimetype": "text/x-python",
   "name": "python",
   "nbconvert_exporter": "python",
   "pygments_lexer": "ipython3",
   "version": "3.10.8"
  }
 },
 "nbformat": 4,
 "nbformat_minor": 5
}
